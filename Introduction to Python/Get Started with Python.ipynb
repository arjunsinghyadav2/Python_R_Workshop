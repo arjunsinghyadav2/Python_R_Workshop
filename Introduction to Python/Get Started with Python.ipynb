{
 "cells": [
  {
   "cell_type": "markdown",
   "metadata": {},
   "source": [
    "<p><a name=\"sections\"></a></p>\n",
    "\n",
    "\n",
    "# Introduction to Python\n",
    "\n",
    "- <a href=\"#simple\">Simple Values and Expressions</a><br>\n",
    "- <a href=\"#lambda\">Lambda Functions and Named Functions</a><br>\n",
    "- <a href=\"#list\">List</a><br>\n",
    "    - <a href=\"#funcOnList\">Defining Functions on Lists</a><br>\n",
    "    - <a href=\"#nList\">Nested Lists</a><br>\n",
    "- <a href=\"#funcOper\">Functional Operators</a><br>\n",
    "    - <a href=\"#map\">map</a><br>\n",
    "    - <a href=\"#bool\">Boolean Functions</a><br>\n",
    "    - <a href=\"#filter\">filter</a><br>\n",
    "- <a href=\"#sol\">Solutions</a><br>\n",
    "\n",
    "<p><a name=\"simple\"></a></p>\n",
    "# Values and Expressions\n",
    "\n",
    "** Expressions and Values**\n",
    "\n",
    "We demonstrate the simplest expression syntax: Operators +, -, * and / work just like in most other languages; parentheses can be used for grouping."
   ]
  },
  {
   "cell_type": "code",
   "execution_count": 1,
   "metadata": {
    "collapsed": false
   },
   "outputs": [
    {
     "data": {
      "text/plain": [
       "7"
      ]
     },
     "execution_count": 1,
     "metadata": {},
     "output_type": "execute_result"
    }
   ],
   "source": [
    "# Comment in Python starts with the hash character, # , and extend to the end of the physical line\n",
    "1 + 2 * 3     # * has precedence over +"
   ]
  },
  {
   "cell_type": "code",
   "execution_count": 6,
   "metadata": {
    "collapsed": false
   },
   "outputs": [
    {
     "data": {
      "text/plain": [
       "13"
      ]
     },
     "execution_count": 6,
     "metadata": {},
     "output_type": "execute_result"
    }
   ],
   "source": [
    "(1 + 2) * 3+4"
   ]
  },
  {
   "cell_type": "markdown",
   "metadata": {},
   "source": [
    "- iPython notebook shows only the last statement in each cell. To inspect all of them, we may use the `print` statement:"
   ]
  },
  {
   "cell_type": "code",
   "execution_count": 7,
   "metadata": {
    "collapsed": false
   },
   "outputs": [
    {
     "name": "stdout",
     "output_type": "stream",
     "text": [
      "7\n",
      "9\n"
     ]
    }
   ],
   "source": [
    "print 1 + 2 * 3\n",
    "print (1 + 2) * 3"
   ]
  },
  {
   "cell_type": "markdown",
   "metadata": {},
   "source": [
    "- Now try more examples and check the output:"
   ]
  },
  {
   "cell_type": "code",
   "execution_count": 3,
   "metadata": {
    "collapsed": false
   },
   "outputs": [
    {
     "name": "stdout",
     "output_type": "stream",
     "text": [
      "5\n",
      "5.66666666667\n",
      "5.0\n",
      "2\n",
      "128\n",
      "295\n",
      "295\n"
     ]
    }
   ],
   "source": [
    "print 17 / 3     # int / int -> int\n",
    "print 17 / 3.0   # int / float -> float\n",
    "print 17 // 3.0  # explicit integer division \n",
    "print 17 % 3     # remainder\n",
    "print 2 ** 7     # 2 to the power of 7\n",
    "print 8 * (7 + 6 * 5) \\\n",
    "      + 4 / 3 ** 2 - 1       # use backslash\n",
    "print (8 * (7 + 6 * 5)    # use parentheses\n",
    "       + 4 / 3 ** 2 - 1)\n"
   ]
  },
  {
   "cell_type": "markdown",
   "metadata": {},
   "source": [
    "**Syntactic note**:  Python does not have any special terminating character , so you must enter everything on one line.  If the line is too long, you can split it up either by enclosing the expression in parens or by adding a \\ at the end:"
   ]
  },
  {
   "cell_type": "markdown",
   "metadata": {},
   "source": [
    "- **Note**: `\\` must be the very last thing on the line (not even followed by spaces), and of course cannot be in a comment."
   ]
  },
  {
   "cell_type": "markdown",
   "metadata": {},
   "source": [
    "### **Varaiables**\n",
    "\n",
    "Variables are used to give names to values.  This is to avoid having to re-type an expression, and so the computer doesn’t have to recompute it.  The equal sign \"`=`\" is used to assign a value to a variable."
   ]
  },
  {
   "cell_type": "code",
   "execution_count": 10,
   "metadata": {
    "collapsed": true
   },
   "outputs": [],
   "source": [
    "tax = 12.5 / 100   # An “assignment statement”\n",
    "price = 100.50"
   ]
  },
  {
   "cell_type": "markdown",
   "metadata": {},
   "source": [
    "iPython notebook print nothing for assignments, as we see from above."
   ]
  },
  {
   "cell_type": "code",
   "execution_count": 9,
   "metadata": {
    "collapsed": false
   },
   "outputs": [
    {
     "data": {
      "text/plain": [
       "12.5625"
      ]
     },
     "execution_count": 9,
     "metadata": {},
     "output_type": "execute_result"
    }
   ],
   "source": [
    "price * tax"
   ]
  },
  {
   "cell_type": "markdown",
   "metadata": {},
   "source": [
    "**Calling functions**\n",
    "\n",
    "- The Python interpreter has a number of functions built into it:"
   ]
  },
  {
   "cell_type": "code",
   "execution_count": 10,
   "metadata": {
    "collapsed": false
   },
   "outputs": [
    {
     "data": {
      "text/plain": [
       "5.0"
      ]
     },
     "execution_count": 10,
     "metadata": {},
     "output_type": "execute_result"
    }
   ],
   "source": [
    "abs(-5.0)"
   ]
  },
  {
   "cell_type": "markdown",
   "metadata": {},
   "source": [
    "There is also a way to put definitions in a file that you can load and use. Such a file is called a **module**.\n",
    "\n",
    "- You use the functions in a module by importing the module and using its name plus the function’s name:"
   ]
  },
  {
   "cell_type": "code",
   "execution_count": 11,
   "metadata": {
    "collapsed": false
   },
   "outputs": [
    {
     "data": {
      "text/plain": [
       "120"
      ]
     },
     "execution_count": 11,
     "metadata": {},
     "output_type": "execute_result"
    }
   ],
   "source": [
    "import math \n",
    "import # import the math module\n",
    "math.factorial(5)    # factorial of 5"
   ]
  },
  {
   "cell_type": "markdown",
   "metadata": {},
   "source": [
    "- Or, use a different import syntax and use the function name alone:"
   ]
  },
  {
   "cell_type": "code",
   "execution_count": 12,
   "metadata": {
    "collapsed": false
   },
   "outputs": [
    {
     "data": {
      "text/plain": [
       "120"
      ]
     },
     "execution_count": 12,
     "metadata": {},
     "output_type": "execute_result"
    }
   ],
   "source": [
    "from math import *\n",
    "factorial(5)        # no module name"
   ]
  },
  {
   "cell_type": "markdown",
   "metadata": {},
   "source": [
    "To find the function you need, you might need the **documentation**:\n",
    "\n",
    " - Built-in functions:  [https://docs.python.org/2/library/functions.html](https://docs.python.org/2/library/functions.html)\n",
    " - Math module:  [https://docs.python.org/2/library/math.html](https://docs.python.org/2/library/math.html)\n",
    " - Google is your friend!\n",
    " - And also the Tab key"
   ]
  },
  {
   "cell_type": "code",
   "execution_count": 13,
   "metadata": {
    "collapsed": true
   },
   "outputs": [],
   "source": [
    "#### Try the Tab method with any module you like:"
   ]
  },
  {
   "cell_type": "markdown",
   "metadata": {},
   "source": [
    "**Naming convention**\n",
    "\n",
    "- Variable names in Python should start with letters, and can contain any number of letters, digits, and  _.\n",
    "\n",
    "- Python names are case sensitive.  This applies both to variable names and to function names imported from modules.\n",
    "\n",
    "- By convention, Python variables usually start with lower-case letters.  Variables should have descriptive names; for multi-word names, separate the words by underscores.\n",
    " - Good names:  first_index, random_nums\n",
    " - One-letter names are used in certain circumstances - e.g. i, j, k when used as indexes - but are otherwise frowned upon."
   ]
  },
  {
   "cell_type": "markdown",
   "metadata": {},
   "source": [
    "<p><a name=\"lambda\"></a></p>\n",
    "# Lambda Functions and Named Functions\n",
    "\n",
    "**Defining Functions**\n",
    "\n",
    "- You have seen how to call functions.  Now we’ll see how to define them.\n",
    "- This function takes a number x and returns $x^2 + x^3$."
   ]
  },
  {
   "cell_type": "code",
   "execution_count": 14,
   "metadata": {
    "collapsed": true
   },
   "outputs": [],
   "source": [
    "def add_two_powers(x):\n",
    "    return x**2 + x**3"
   ]
  },
  {
   "cell_type": "markdown",
   "metadata": {},
   "source": [
    "The keyword `def` introduces a function definition. It is followed by the function name and the parenthesized list of parameters. The statements in the body of the function start at the next line, and must be indented.\n",
    "\n",
    "Call the function in the usual way (after the function has been defined, whether in the same cell or a later cell):"
   ]
  },
  {
   "cell_type": "code",
   "execution_count": 15,
   "metadata": {
    "collapsed": false
   },
   "outputs": [
    {
     "data": {
      "text/plain": [
       "80"
      ]
     },
     "execution_count": 15,
     "metadata": {},
     "output_type": "execute_result"
    }
   ],
   "source": [
    "add_two_powers(4)"
   ]
  },
  {
   "cell_type": "markdown",
   "metadata": {},
   "source": [
    "There is an alternative syntax for function definitions that will turn out to be handy.  It uses the `lambda` keyword. \n",
    "\n",
    "- Back to the previous problem, we could write:"
   ]
  },
  {
   "cell_type": "code",
   "execution_count": 16,
   "metadata": {
    "collapsed": false
   },
   "outputs": [
    {
     "data": {
      "text/plain": [
       "80"
      ]
     },
     "execution_count": 16,
     "metadata": {},
     "output_type": "execute_result"
    }
   ],
   "source": [
    "Add_two_powers = lambda x: x**2 + x**3\n",
    "Add_two_powers(4)"
   ]
  },
  {
   "cell_type": "code",
   "execution_count": 11,
   "metadata": {
    "collapsed": true
   },
   "outputs": [],
   "source": [
    "add = lambda x: x+x"
   ]
  },
  {
   "cell_type": "code",
   "execution_count": 12,
   "metadata": {
    "collapsed": false
   },
   "outputs": [
    {
     "data": {
      "text/plain": [
       "4"
      ]
     },
     "execution_count": 12,
     "metadata": {},
     "output_type": "execute_result"
    }
   ],
   "source": [
    "add(2)"
   ]
  },
  {
   "cell_type": "markdown",
   "metadata": {},
   "source": [
    "The two syntaxes for function definitions give the same result, but note the differences in syntax:\n",
    "\n",
    "```\n",
    "-------------------------\n",
    "def f(x):\n",
    "   return expression\n",
    "-------------------------   \n",
    "f = lambda x: expression\n",
    "-------------------------\n",
    "```\n",
    "\n"
   ]
  },
  {
   "cell_type": "markdown",
   "metadata": {},
   "source": [
    "- The first version begins with \"`def`” and has its argument in parentheses.  The second version looks like an assignment statement; it uses the keyword “`lambda`”, and the argument is not in parentheses.\n",
    "\n",
    "- The first version uses the keyword “`return`”; the second version doesn’t.\n",
    "\n",
    "To define a function with multiple arguments, just add more names to the variable list, separated by commas."
   ]
  },
  {
   "cell_type": "code",
   "execution_count": 17,
   "metadata": {
    "collapsed": false
   },
   "outputs": [
    {
     "name": "stdout",
     "output_type": "stream",
     "text": [
      "13.0\n",
      "13.0\n"
     ]
    }
   ],
   "source": [
    "import math\n",
    "\n",
    "# def notation\n",
    "def vector_length(x, y):\n",
    "    return math.sqrt(x**2 + y**2)\n",
    "\n",
    "# lambda notation\n",
    "Vector_length = lambda x, y: math.sqrt(x**2 + y**2)\n",
    "\n",
    "print vector_length(5,12)\n",
    "print Vector_length(5,12)"
   ]
  },
  {
   "cell_type": "markdown",
   "metadata": {},
   "source": [
    "**Exercise 2**: Defining functions\n",
    "\n",
    "- Define a function that takes the radius of a circle as input and return the area. (Remember the area of a circle = $\\pi r^2$.) Define it with both syntaxes, def and lambda, calling them area and Area, respectively.\n",
    " - *Note*: You need to use `math.pi`, which is defined in the math module.\n",
    " \n",
    "- Calculate the area of a circle with radius 10 using both functions."
   ]
  },
  {
   "cell_type": "code",
   "execution_count": 20,
   "metadata": {
    "collapsed": false
   },
   "outputs": [],
   "source": [
    "#### Your code here\n",
    "import math\n",
    "def area(r):\n",
    "    return r*r\n"
   ]
  },
  {
   "cell_type": "code",
   "execution_count": 21,
   "metadata": {
    "collapsed": true
   },
   "outputs": [],
   "source": [
    "#### Your code here\n",
    "Area = lambda r: r*r"
   ]
  },
  {
   "cell_type": "markdown",
   "metadata": {},
   "source": [
    "<p><a name=\"list\"></a></p>\n",
    "# List\n",
    "\n",
    "- The power of Python comes from having values other than numbers. The two other types of values we’ll use most often are lists and strings.\n",
    " - Lists are ordered collections of values. Examples:  `[1, 2, 3, 4],  [7.5, 9.0, 2]`\n",
    " - Strings are sequences of characters. Examples:  `'This class is about Python.'`  (Note that the space is considered a character.)\n",
    "\n",
    "- We will look at lists first, but we’ll use strings in our examples.  We’ll do more with strings next week. **Syntactic note**:  Strings can be written with either single or double quotes.\n",
    "\n",
    "- Lists can contain any types of values, including strings."
   ]
  },
  {
   "cell_type": "markdown",
   "metadata": {},
   "source": [
    "**List operations and functions**\n",
    "\n",
    "- You can manipulate lists in Python, meaning you can create new lists or get values out of lists.  We’ll spend some time going over the major list operations provided by Python.\n",
    "- As we’ve seen, you create a list by writing values in square brackets, separated by commas.\n",
    "  - Note that you can also have a list with no elements, written `[]`.  This list is astonishingly useful - kind of like the number zero.\n",
    "- Given two lists, use `+` to concatenate them:"
   ]
  },
  {
   "cell_type": "code",
   "execution_count": 10,
   "metadata": {
    "collapsed": false
   },
   "outputs": [
    {
     "data": {
      "text/plain": [
       "[1, 4, 9, 16, 25, 'a', 'b', 'c', 'd']"
      ]
     },
     "execution_count": 10,
     "metadata": {},
     "output_type": "execute_result"
    }
   ],
   "source": [
    "squares = [1,4,9,16,25]\n",
    "alphabet = ['a','b','c','d']\n",
    "squares + alphabet"
   ]
  },
  {
   "cell_type": "markdown",
   "metadata": {},
   "source": [
    "Find the length of a list using the `len()` function:"
   ]
  },
  {
   "cell_type": "code",
   "execution_count": 11,
   "metadata": {
    "collapsed": false
   },
   "outputs": [
    {
     "name": "stdout",
     "output_type": "stream",
     "text": [
      "4\n",
      "9\n"
     ]
    }
   ],
   "source": [
    "len(squares)\n",
    "print len(alphabet)\n",
    "print len(squares + alphabet)"
   ]
  },
  {
   "cell_type": "markdown",
   "metadata": {},
   "source": [
    "The function range gives a list of integers:"
   ]
  },
  {
   "cell_type": "code",
   "execution_count": 12,
   "metadata": {
    "collapsed": false
   },
   "outputs": [
    {
     "name": "stdout",
     "output_type": "stream",
     "text": [
      "[0, 1, 2, 3, 4, 5, 6, 7, 8, 9]\n",
      "[10, 11, 12, 13, 14]\n",
      "[15, 14, 13, 12, 11]\n"
     ]
    }
   ],
   "source": [
    "print range(10)\n",
    "print range(10, 15)\n",
    "print range(15, 10, -1)"
   ]
  },
  {
   "cell_type": "markdown",
   "metadata": {},
   "source": [
    "To create a list just one longer than an existing list - i.e. add an element to the end of a list - use concatenation:"
   ]
  },
  {
   "cell_type": "code",
   "execution_count": 13,
   "metadata": {
    "collapsed": false
   },
   "outputs": [
    {
     "data": {
      "text/plain": [
       "[1, 4, 9, 16, 25, 36]"
      ]
     },
     "execution_count": 13,
     "metadata": {},
     "output_type": "execute_result"
    }
   ],
   "source": [
    "squares + [36]"
   ]
  },
  {
   "cell_type": "markdown",
   "metadata": {},
   "source": [
    "**Note**:  This operation does not change squares.  That is, it does not “add 36 to squares,” but rather creates a new list that has the same elements as squares, plus one more."
   ]
  },
  {
   "cell_type": "code",
   "execution_count": 14,
   "metadata": {
    "collapsed": false
   },
   "outputs": [
    {
     "data": {
      "text/plain": [
       "[1, 4, 9, 16, 25]"
      ]
     },
     "execution_count": 14,
     "metadata": {},
     "output_type": "execute_result"
    }
   ],
   "source": [
    "squares"
   ]
  },
  {
   "cell_type": "markdown",
   "metadata": {},
   "source": [
    "There are several operations that apply to lists of numbers and perform operations on the entire list:\n",
    "- sum:  Take the sum of the numbers in a list\n",
    "- max, min:  Take the maximum or minimum of the numbers in a list.  (This can also apply to strings, using lexicographic order.)\n"
   ]
  },
  {
   "cell_type": "code",
   "execution_count": 15,
   "metadata": {
    "collapsed": false
   },
   "outputs": [
    {
     "name": "stdout",
     "output_type": "stream",
     "text": [
      "55\n",
      "d\n"
     ]
    }
   ],
   "source": [
    "print sum(squares)\n",
    "print max(alphabet)"
   ]
  },
  {
   "cell_type": "markdown",
   "metadata": {},
   "source": [
    " - sorted:  Sorts a list"
   ]
  },
  {
   "cell_type": "code",
   "execution_count": 16,
   "metadata": {
    "collapsed": false
   },
   "outputs": [
    {
     "data": {
      "text/plain": [
       "[2, 3, 4, 5, 6]"
      ]
     },
     "execution_count": 16,
     "metadata": {},
     "output_type": "execute_result"
    }
   ],
   "source": [
    "sorted([4, 3, 6, 2, 5])"
   ]
  },
  {
   "cell_type": "markdown",
   "metadata": {},
   "source": [
    "**Subscripting**\n",
    "\n",
    "Get a single element of a list by subscripting with a number. We number the elements from zero (which is pretty common for computer languages, but takes some getting used to). We can also subscript from the end by using negative numbers (-1 being the last element)."
   ]
  },
  {
   "cell_type": "code",
   "execution_count": 17,
   "metadata": {
    "collapsed": false
   },
   "outputs": [
    {
     "name": "stdout",
     "output_type": "stream",
     "text": [
      "16\n",
      "25\n"
     ]
    },
    {
     "ename": "IndexError",
     "evalue": "list index out of range",
     "output_type": "error",
     "traceback": [
      "\u001b[0;31m---------------------------------------------------------------------------\u001b[0m",
      "\u001b[0;31mIndexError\u001b[0m                                Traceback (most recent call last)",
      "\u001b[0;32m<ipython-input-17-18c139607fdb>\u001b[0m in \u001b[0;36m<module>\u001b[0;34m()\u001b[0m\n\u001b[1;32m      1\u001b[0m \u001b[1;32mprint\u001b[0m \u001b[0msquares\u001b[0m\u001b[1;33m[\u001b[0m\u001b[1;36m3\u001b[0m\u001b[1;33m]\u001b[0m\u001b[1;33m\u001b[0m\u001b[0m\n\u001b[1;32m      2\u001b[0m \u001b[1;32mprint\u001b[0m \u001b[0msquares\u001b[0m\u001b[1;33m[\u001b[0m\u001b[1;33m-\u001b[0m\u001b[1;36m1\u001b[0m\u001b[1;33m]\u001b[0m\u001b[1;33m\u001b[0m\u001b[0m\n\u001b[0;32m----> 3\u001b[0;31m \u001b[1;32mprint\u001b[0m \u001b[0malphabet\u001b[0m\u001b[1;33m[\u001b[0m\u001b[1;36m6\u001b[0m\u001b[1;33m]\u001b[0m   \u001b[1;31m#Be careful about this one\u001b[0m\u001b[1;33m\u001b[0m\u001b[0m\n\u001b[0m",
      "\u001b[0;31mIndexError\u001b[0m: list index out of range"
     ]
    }
   ],
   "source": [
    "print squares[3]\n",
    "print squares[-1]\n",
    "print alphabet[6]   #Be careful about this one"
   ]
  },
  {
   "cell_type": "markdown",
   "metadata": {},
   "source": [
    "Subscripting can also be used to get more than one element of a list (called a “slice” of a list).  E.g. list[m:n] returns a list that has the mth through (n-1)th element of list (again, counting from zero)."
   ]
  },
  {
   "cell_type": "code",
   "execution_count": 30,
   "metadata": {
    "collapsed": false
   },
   "outputs": [
    {
     "name": "stdout",
     "output_type": "stream",
     "text": [
      "[4, 9]\n",
      "['c', 'd']\n"
     ]
    }
   ],
   "source": [
    "print squares[1:3]\n",
    "print alphabet[2:]"
   ]
  },
  {
   "cell_type": "markdown",
   "metadata": {},
   "source": [
    "** Exercise** List operations\n",
    "\n",
    "- Define `x` to be the list `[1, 2, 3, 4, 3, 2, 1]`.  Do this by using range twice and concatenating the results.\n",
    "- Use subscripting to print both 2’s from x."
   ]
  },
  {
   "cell_type": "code",
   "execution_count": 31,
   "metadata": {
    "collapsed": false
   },
   "outputs": [
    {
     "data": {
      "text/plain": [
       "[1, 2, 3, 4, 5, 6, 7, 8]"
      ]
     },
     "execution_count": 31,
     "metadata": {},
     "output_type": "execute_result"
    }
   ],
   "source": [
    "#### Your code here\n",
    "[1,2,3,4,5,6,7,8]"
   ]
  },
  {
   "cell_type": "markdown",
   "metadata": {},
   "source": [
    "<p><a name=\"funcOnList\"></a></p>\n",
    "## Defining Functions on Lists\n",
    "\n",
    "- Functions are defined on lists in exactly the same way as on numbers. (We continue defining every function in both syntaxes, just for practice.)\n",
    "- A function that returns the first element of a list:"
   ]
  },
  {
   "cell_type": "code",
   "execution_count": 32,
   "metadata": {
    "collapsed": false
   },
   "outputs": [
    {
     "name": "stdout",
     "output_type": "stream",
     "text": [
      "1\n",
      "1\n"
     ]
    }
   ],
   "source": [
    "def firstelt(L):\n",
    "    a = L+L\n",
    "    return a\n",
    "\n",
    "Firstelt = lambda L: L[0]\n",
    "\n",
    "print firstelt(squares)\n",
    "print Firstelt(squares)"
   ]
  },
  {
   "cell_type": "markdown",
   "metadata": {},
   "source": [
    "A function that takes a list `L` and a value `v`, and returns a list that is the same as `L` except that its first element is `v`."
   ]
  },
  {
   "cell_type": "code",
   "execution_count": 33,
   "metadata": {
    "collapsed": false,
    "scrolled": true
   },
   "outputs": [
    {
     "name": "stdout",
     "output_type": "stream",
     "text": [
      "[7, 4, 9, 16, 25]\n",
      "[7, 4, 9, 16, 25]\n"
     ]
    }
   ],
   "source": [
    "def replacefirst(L, v):\n",
    "    return [v] + L[1:]\n",
    "\n",
    "Replacefirst = lambda L, v:  [v] + L[1:]\n",
    "\n",
    "print replacefirst(squares, 7)\n",
    "print Replacefirst(squares, 7)\n",
    "\n",
    "#### What might give you problem in this function?"
   ]
  },
  {
   "cell_type": "markdown",
   "metadata": {},
   "source": [
    "A function that has an integer argument `n`, and returns a list containing `n`, `n+1`, and `n+2`:"
   ]
  },
  {
   "cell_type": "code",
   "execution_count": 34,
   "metadata": {
    "collapsed": true
   },
   "outputs": [],
   "source": [
    "def threevals(n):\n",
    "    return [n, n+1, n+2]\n",
    "\n",
    "Threevals = lambda n: [n, n+1, n+2]"
   ]
  },
  {
   "cell_type": "code",
   "execution_count": 38,
   "metadata": {
    "collapsed": false
   },
   "outputs": [
    {
     "name": "stdout",
     "output_type": "stream",
     "text": [
      "<function <lambda> at 0x0000000004956BA8>\n"
     ]
    }
   ],
   "source": [
    "print(Threevals)"
   ]
  },
  {
   "cell_type": "markdown",
   "metadata": {},
   "source": [
    "A function that takes a list `L` and returns a list containing the first, third, and fifth elements of `L`."
   ]
  },
  {
   "cell_type": "code",
   "execution_count": null,
   "metadata": {
    "collapsed": true
   },
   "outputs": [],
   "source": [
    "def list135(L):\n",
    "    return [L[0], L[2], L[4]]\n",
    "\n",
    "List135 = lambda L: [L[0], L[2], L[4]]"
   ]
  },
  {
   "cell_type": "markdown",
   "metadata": {},
   "source": [
    "**Exercise** List operations\n",
    "\n",
    "- Then define the following functions. Define them with both notations, changing the first letter of the name to a capital to distinguish them:\n",
    " - A function sum2 that returns the sum of the first two elements of a list.\n",
    "   ```\n",
    "   sum2([4, 7, 9, 12]) ---> 11\n",
    "   ```\n",
    " - A function that concatenates a list to itself.\n",
    "   ```\n",
    "   double_lis([4, 7, 9, 12])\n",
    "       ---> [4, 7, 9, 12, 4, 7, 9, 12]\n",
    "   ```"
   ]
  },
  {
   "cell_type": "code",
   "execution_count": null,
   "metadata": {
    "collapsed": true
   },
   "outputs": [],
   "source": [
    "#### Your code here\n",
    "def sum2(L):\n",
    "    "
   ]
  },
  {
   "cell_type": "code",
   "execution_count": null,
   "metadata": {
    "collapsed": true
   },
   "outputs": [],
   "source": [
    "#### Your code here\n",
    "Sum2 = lambda L: \n"
   ]
  },
  {
   "cell_type": "code",
   "execution_count": null,
   "metadata": {
    "collapsed": true
   },
   "outputs": [],
   "source": [
    "#### Your code here\n",
    "def double_lis(L):\n",
    "    "
   ]
  },
  {
   "cell_type": "code",
   "execution_count": null,
   "metadata": {
    "collapsed": true
   },
   "outputs": [],
   "source": [
    "#### Your code here\n",
    "Double_lis = lambda L:\n"
   ]
  },
  {
   "cell_type": "markdown",
   "metadata": {},
   "source": [
    "<p><a name=\"nList\"></a></p>\n",
    "## Nested Lists\n",
    "\n",
    "- Lists can contain any type of values, including other lists.  This can be confusing, but the principle is the same as with any other elements.\n",
    "- The list `[v1, v2, …, vn]` has n elements.  The first is `v1`, the second is `v2`, etc.  This is true no matter what the types of the elements are:\n",
    "\n",
    " - `[1, 2, 3]` has three elements.  (Try `len([1,2,3])`.)\n",
    " - `[1, 2, [3, 4, 5]]` also has three elements.\n",
    " - `[1, [\"ab\", \"cd\"], [3, 4, 5]]` also has three elements.\n",
    " - `[[], [\"ab\", \"cd\"], [3, 4, 5]]` also has three elements.\n",
    "\n",
    "The operations we’ve seen above like “`+`”, `len()` and subscripting work the same on nested lists as on non-nested lists."
   ]
  },
  {
   "cell_type": "code",
   "execution_count": 16,
   "metadata": {
    "collapsed": false
   },
   "outputs": [
    {
     "data": {
      "text/plain": [
       "4"
      ]
     },
     "execution_count": 16,
     "metadata": {},
     "output_type": "execute_result"
    }
   ],
   "source": [
    "x = [[], 1, ['ab', 'cd'], [3, 4, 5]]\n",
    "len(x)"
   ]
  },
  {
   "cell_type": "code",
   "execution_count": null,
   "metadata": {
    "collapsed": false
   },
   "outputs": [],
   "source": [
    "y = [['q', 'r', 's'], 2]\n",
    "len(y)"
   ]
  },
  {
   "cell_type": "code",
   "execution_count": null,
   "metadata": {
    "collapsed": false
   },
   "outputs": [],
   "source": [
    "x[2]"
   ]
  },
  {
   "cell_type": "code",
   "execution_count": null,
   "metadata": {
    "collapsed": false
   },
   "outputs": [],
   "source": [
    "x[2][0]"
   ]
  },
  {
   "cell_type": "code",
   "execution_count": null,
   "metadata": {
    "collapsed": false
   },
   "outputs": [],
   "source": [
    "x + y"
   ]
  },
  {
   "cell_type": "markdown",
   "metadata": {},
   "source": [
    "**Exercise** Nested lists\n",
    "\n",
    "- Write a function `firstfirst` (in both syntaxes) that takes a nested list as input and returns the first element of the first element.  (The first element must be a non-empty list).\n",
    "```\n",
    "y = [['q', 'r', 's'], 2]\n",
    "firstfirst(y) ---> 'q'\n",
    "```\n",
    "- Write a function `subscr2` that takes two arguments: a nested list and a list with two integers.  It uses those two integers as indexes into the nested list:\n",
    "```\n",
    "y = [['q', 'r', 's'], 2]\n",
    "subscr2(y, [0, 2]) ---> 's'\n",
    "```"
   ]
  },
  {
   "cell_type": "code",
   "execution_count": null,
   "metadata": {
    "collapsed": true
   },
   "outputs": [],
   "source": [
    "#### Your code here\n",
    "\n",
    "#1\n",
    "def firstfirst(L):\n"
   ]
  },
  {
   "cell_type": "code",
   "execution_count": null,
   "metadata": {
    "collapsed": true
   },
   "outputs": [],
   "source": [
    "#### Your code here\n",
    "Firstfirst = lambda L: \n"
   ]
  },
  {
   "cell_type": "code",
   "execution_count": null,
   "metadata": {
    "collapsed": true
   },
   "outputs": [],
   "source": [
    "#### Your code here\n",
    "\n",
    "#2\n",
    "def subscr2(L, indexes):\n",
    "    "
   ]
  },
  {
   "cell_type": "code",
   "execution_count": null,
   "metadata": {
    "collapsed": true
   },
   "outputs": [],
   "source": [
    "#### Your code here\n",
    "Subscr2 = lambda L, indexes: \n"
   ]
  },
  {
   "cell_type": "markdown",
   "metadata": {},
   "source": [
    "<p><a name=\"funcOper\"></a></p>\n",
    "# Functional Operators\n",
    "\n",
    "### `map`\n",
    "\n",
    "- You will often want to apply a function to all elements of a list.\n",
    "- Suppose a list `L` has elements that are all numbers, and `f` is a function on numbers.  Then `map(f, L)` is the result of applying `f` to every element of `L`."
   ]
  },
  {
   "cell_type": "code",
   "execution_count": 18,
   "metadata": {
    "collapsed": false
   },
   "outputs": [
    {
     "data": {
      "text/plain": [
       "[2.0, 3.0, 4.0]"
      ]
     },
     "execution_count": 18,
     "metadata": {},
     "output_type": "execute_result"
    }
   ],
   "source": [
    "import math\n",
    "L = [4, 9, 16]\n",
    "map(math.sqrt, L)"
   ]
  },
  {
   "cell_type": "code",
   "execution_count": null,
   "metadata": {
    "collapsed": false
   },
   "outputs": [],
   "source": [
    "map(add_two_powers, L)"
   ]
  },
  {
   "cell_type": "code",
   "execution_count": null,
   "metadata": {
    "collapsed": false
   },
   "outputs": [],
   "source": [
    "map(Add_two_powers, L)"
   ]
  },
  {
   "cell_type": "markdown",
   "metadata": {},
   "source": [
    "You can apply any one-argument function, as long as the values in the list are of the type that function expects."
   ]
  },
  {
   "cell_type": "code",
   "execution_count": null,
   "metadata": {
    "collapsed": false
   },
   "outputs": [],
   "source": [
    "nested_list1 = [[], [\"ab\", \"cd\"], [3, 4, 5]]\n",
    "map(len, nested_list1) #len applies to lists"
   ]
  },
  {
   "cell_type": "code",
   "execution_count": null,
   "metadata": {
    "collapsed": false
   },
   "outputs": [],
   "source": [
    "map(threevals, [1, 10, 20]) # three_vals applies to numbers"
   ]
  },
  {
   "cell_type": "code",
   "execution_count": null,
   "metadata": {
    "collapsed": false
   },
   "outputs": [],
   "source": [
    "# firstelt applies to lists that are of non-zero length\n",
    "map(firstelt, nested_list1)"
   ]
  },
  {
   "cell_type": "code",
   "execution_count": null,
   "metadata": {
    "collapsed": false
   },
   "outputs": [],
   "source": [
    "map(firstelt, nested_list1[1:])"
   ]
  },
  {
   "cell_type": "markdown",
   "metadata": {},
   "source": [
    "Functions can use `map` just as they can use any other function."
   ]
  },
  {
   "cell_type": "code",
   "execution_count": null,
   "metadata": {
    "collapsed": false
   },
   "outputs": [],
   "source": [
    "def get_lengths(L):\n",
    "    return map(len, L)\n",
    "\n",
    "Get_lengths = lambda L: map(len, L)\n",
    "\n",
    "print get_lengths(nested_list1)\n",
    "print Get_lengths(nested_list1)"
   ]
  },
  {
   "cell_type": "code",
   "execution_count": null,
   "metadata": {
    "collapsed": false
   },
   "outputs": [],
   "source": [
    "def get_first_elements(L):\n",
    "    return map(firstelt, L)\n",
    "\n",
    "Get_first_elements = lambda L: map(firstelt, L)\n",
    "\n",
    "print get_first_elements(nested_list1[1:])\n",
    "print Get_first_elements(nested_list1[1:])"
   ]
  },
  {
   "cell_type": "markdown",
   "metadata": {},
   "source": [
    "** Exercise **   \n",
    "### `map`\n",
    "\n",
    "- `square_all` squares every element of a numeric list.  (Define `sqr` to square a number, and map it over the list.)\n",
    "```\n",
    "squaree_all([1, 2, 3]) ---> [1, 4, 9]\n",
    "```\n",
    "- `get_second` gets the second element of every list in a nested list. (Define snd to get the second element of a list, and map it.)\n",
    "```\n",
    "get_second([[1, 2, 3], [4, 5], [6, 7, 8]]) ---> [2, 5, 7]\n",
    "```\n",
    "- `tot_length` finds the total length of the lists in a nested list.\n",
    "```\n",
    "tot_length([[1, 2, 3], [4, 5], [6, 7, 8]]) ---> 8\n",
    "```"
   ]
  },
  {
   "cell_type": "code",
   "execution_count": null,
   "metadata": {
    "collapsed": true
   },
   "outputs": [],
   "source": [
    "#### Your code here\n",
    "\n",
    "#1\n",
    "def sqr(x):\n",
    "    \n",
    "\n",
    "def square_all(L):\n",
    "    \n",
    "\n",
    "Square_all = lambda L: \n"
   ]
  },
  {
   "cell_type": "code",
   "execution_count": null,
   "metadata": {
    "collapsed": true
   },
   "outputs": [],
   "source": [
    "#### Your code here\n",
    "\n",
    "#2\n",
    "snd = lambda x: \n",
    "\n",
    "\n",
    "def get_second(L):\n",
    "    \n",
    "\n",
    "Get_second = lambda L: \n"
   ]
  },
  {
   "cell_type": "code",
   "execution_count": null,
   "metadata": {
    "collapsed": true
   },
   "outputs": [],
   "source": [
    "#### Your code here\n",
    "\n",
    "#3\n",
    "def tot_length(L):\n",
    "    \n",
    "    \n",
    "Tot_length = lambda L:\n"
   ]
  },
  {
   "cell_type": "markdown",
   "metadata": {
    "collapsed": true
   },
   "source": [
    "<p><a name=\"bool\"></a></p>\n",
    "## Boolean Functions\n",
    "\n",
    "- Boolean functions return one of the truth values `True` or `False`.\n",
    "- There are built-in operators and functions that return booleans:\n",
    " - Arithmetic comparison operators: `==`, `!=`, ...\n",
    "- Conditions can be combined using `and`, `or`, and `not`:"
   ]
  },
  {
   "cell_type": "code",
   "execution_count": null,
   "metadata": {
    "collapsed": false
   },
   "outputs": [],
   "source": [
    "x = 6\n",
    "x > 5 and x < 7"
   ]
  },
  {
   "cell_type": "code",
   "execution_count": null,
   "metadata": {
    "collapsed": false
   },
   "outputs": [],
   "source": [
    "x != -1 or x >= 10"
   ]
  },
  {
   "cell_type": "markdown",
   "metadata": {},
   "source": [
    "Defining boolean functions is no different from defining any other kind of functions."
   ]
  },
  {
   "cell_type": "code",
   "execution_count": null,
   "metadata": {
    "collapsed": false
   },
   "outputs": [],
   "source": [
    "# Test whether a list is empty\n",
    "def is_empty(L):\n",
    "    return L == []\n",
    "\n",
    "Is_empty = lambda L: L == []\n",
    "\n",
    "print is_empty([])\n",
    "print Is_empty([])"
   ]
  },
  {
   "cell_type": "code",
   "execution_count": null,
   "metadata": {
    "collapsed": false
   },
   "outputs": [],
   "source": [
    "print Is_empty(squares)\n",
    "print is_empty(squares)"
   ]
  },
  {
   "cell_type": "code",
   "execution_count": 39,
   "metadata": {
    "collapsed": false
   },
   "outputs": [
    {
     "name": "stdout",
     "output_type": "stream",
     "text": [
      "True\n",
      "True\n"
     ]
    }
   ],
   "source": [
    "# Test if the first two elements of a list are the same\n",
    "def same_start(L):\n",
    "    return L[0] == L[1]\n",
    "\n",
    "Same_start = lambda L: L[0] == L[1]\n",
    "\n",
    "print same_start([1,1,2])\n",
    "print Same_start([1,1,2])"
   ]
  },
  {
   "cell_type": "code",
   "execution_count": 40,
   "metadata": {
    "collapsed": false
   },
   "outputs": [
    {
     "name": "stdout",
     "output_type": "stream",
     "text": [
      "False\n",
      "False\n"
     ]
    }
   ],
   "source": [
    "print same_start([1,2,2])\n",
    "print Same_start([1,2,2])"
   ]
  },
  {
   "cell_type": "markdown",
   "metadata": {},
   "source": [
    "<p><a name=\"filter\"></a></p>\n",
    "## `filter`\n",
    "\n",
    "Filter is used to find elements of a list that satisfy some condition. The condition is given in the form of a boolean function."
   ]
  },
  {
   "cell_type": "code",
   "execution_count": 41,
   "metadata": {
    "collapsed": false
   },
   "outputs": [
    {
     "data": {
      "text/plain": [
       "True"
      ]
     },
     "execution_count": 41,
     "metadata": {},
     "output_type": "execute_result"
    }
   ],
   "source": [
    "def non_zero(x):\n",
    "    return x != 0\n",
    "non_zero(1)"
   ]
  },
  {
   "cell_type": "code",
   "execution_count": 42,
   "metadata": {
    "collapsed": false
   },
   "outputs": [
    {
     "data": {
      "text/plain": [
       "False"
      ]
     },
     "execution_count": 42,
     "metadata": {},
     "output_type": "execute_result"
    }
   ],
   "source": [
    "non_zero(0)"
   ]
  },
  {
   "cell_type": "code",
   "execution_count": 43,
   "metadata": {
    "collapsed": false
   },
   "outputs": [
    {
     "data": {
      "text/plain": [
       "[1, 2, -3, -5]"
      ]
     },
     "execution_count": 43,
     "metadata": {},
     "output_type": "execute_result"
    }
   ],
   "source": [
    "# Get a list of all the non-zero elements of a list\n",
    "filter(non_zero, [1, 2, 0, -3, 0, -5])"
   ]
  },
  {
   "cell_type": "markdown",
   "metadata": {},
   "source": [
    "Let’s write some functions using filter."
   ]
  },
  {
   "cell_type": "code",
   "execution_count": 45,
   "metadata": {
    "collapsed": false
   },
   "outputs": [
    {
     "data": {
      "text/plain": [
       "[11, 42]"
      ]
     },
     "execution_count": 45,
     "metadata": {},
     "output_type": "execute_result"
    }
   ],
   "source": [
    "# Return the elements that are greater than ten\n",
    "def greater_than_ten(x):\n",
    "    return x > 10\n",
    "filter(greater_than_ten, [11, 2, 6, 42])"
   ]
  },
  {
   "cell_type": "code",
   "execution_count": 46,
   "metadata": {
    "collapsed": false
   },
   "outputs": [
    {
     "data": {
      "text/plain": [
       "[[1, 2, 3], [4, 5, 6]]"
      ]
     },
     "execution_count": 46,
     "metadata": {},
     "output_type": "execute_result"
    }
   ],
   "source": [
    "# Return all the non-empty lists from a nested list\n",
    "def is_not_empty(L):\n",
    "    return L != []\n",
    "filter(is_not_empty, [[], [1,2,3], [], [4,5,6], []])"
   ]
  },
  {
   "cell_type": "markdown",
   "metadata": {},
   "source": [
    "** Exercise**\n",
    "\n",
    "- Define a boolean function increase2 that tests with the first two elements of a list are in increasing order.\n",
    "```\n",
    "increase2([2, 5, 4, 9]) ---> True\n",
    "increase2([2, 2, 5, 0]) ---> False\n",
    "```\n",
    "\n",
    "- Define a function increasing_lists that selects from a nested list only those lists that satisfy increase2:\n",
    "```\n",
    "increasing_lists([[2, 5, 4, 9], [2, 2], [3, 4, 5]]) \n",
    "    ---> [[2, 5, 4, 9], [3, 4, 5]]\n",
    "```"
   ]
  },
  {
   "cell_type": "code",
   "execution_count": 47,
   "metadata": {
    "collapsed": false
   },
   "outputs": [
    {
     "ename": "IndentationError",
     "evalue": "expected an indented block (<ipython-input-47-450dec08ed7a>, line 6)",
     "output_type": "error",
     "traceback": [
      "\u001b[0;36m  File \u001b[0;32m\"<ipython-input-47-450dec08ed7a>\"\u001b[0;36m, line \u001b[0;32m6\u001b[0m\n\u001b[0;31m    Increase2 = lambda L:\u001b[0m\n\u001b[0m            ^\u001b[0m\n\u001b[0;31mIndentationError\u001b[0m\u001b[0;31m:\u001b[0m expected an indented block\n"
     ]
    }
   ],
   "source": [
    "#### Your code here\n",
    "\n",
    "#1\n",
    "def increase2(L):\n",
    "\n",
    "Increase2 = lambda L: "
   ]
  },
  {
   "cell_type": "code",
   "execution_count": null,
   "metadata": {
    "collapsed": true
   },
   "outputs": [],
   "source": [
    "#### Your code here\n",
    "\n",
    "#2\n",
    "def increasing_lists(L):\n",
    "\n",
    "Increasing_lists = lambda L:"
   ]
  },
  {
   "cell_type": "markdown",
   "metadata": {},
   "source": [
    "** Anonymous functions**\n",
    "\n",
    "We have been using two notations for defining functions because they will turn out to be useful in different ways. The “`def`” notation is much more common, and we will see that it has some real advantages. But the “`lambda`” notation has one big advantage we can use right now:\n",
    " - Lambda functions can be used without assigning them to variables - that is, without naming them.\n",
    " ```\n",
    " map(lambda x: x**2 + x**3, [2,3,4]) ---> [12, 36, 80]\n",
    " filter(lambda x: x != 0, [1, 2, 0, 3, 0, 6]) ---> [1, 2, 3, 6]\n",
    " ```\n",
    "\n",
    "When lambda functions are defined this way, they are called \"anonymous functions\". As we use `map`, `filter`, and other similar operations more and more, anonymous functions will be really handy."
   ]
  },
  {
   "cell_type": "markdown",
   "metadata": {},
   "source": [
    "** Exercise**\n",
    "\n",
    "Rewrite functions get_second (from exercise 6) and increasing_lists (from exercise 7), using anonymous functions.  That is, they should have the form:\n",
    "\n",
    "```\n",
    "def get_second2(L):\n",
    "   return map(anonymous_function, L)\n",
    "\n",
    "get_second2([[1, 2, 3], [4, 5], [6, 7, 8]]) ---> [2, 5, 7]\n",
    "\n",
    "```\n",
    "\n",
    "\n",
    "```\n",
    "def increasing_lists2(L):\n",
    "   return filter(anonymous_boolean_function, L)\n",
    "\n",
    "increasing_lists2([[2, 5, 4, 9], [2, 2], [3, 4, 5]]) ---> [[2, 5, 4, 9], [3, 4, 5]]\n",
    "```"
   ]
  },
  {
   "cell_type": "code",
   "execution_count": null,
   "metadata": {
    "collapsed": false
   },
   "outputs": [],
   "source": [
    "#### Your code here\n",
    "\n",
    "def get_second2(L):\n",
    "    "
   ]
  },
  {
   "cell_type": "code",
   "execution_count": null,
   "metadata": {
    "collapsed": true
   },
   "outputs": [],
   "source": [
    "#### Your code here\n",
    "\n",
    "def increasing_lists2(L):\n",
    "    "
   ]
  },
  {
   "cell_type": "markdown",
   "metadata": {},
   "source": [
    "## Classes\n",
    "Classes are user types that let you combine several fields and functions that operate on that data. It lets you group all of it together and treat it as a single abstract thing.\n",
    "In Python, the class statement is used to define a new type."
   ]
  },
  {
   "cell_type": "code",
   "execution_count": 18,
   "metadata": {
    "collapsed": true
   },
   "outputs": [],
   "source": [
    "class People(object):\n",
    "    '''\n",
    "    definitions\n",
    "    '''"
   ]
  },
  {
   "cell_type": "markdown",
   "metadata": {},
   "source": [
    "Classes can inherit attributes from other classes, in this case People inherits from the object class.\n",
    "\n",
    "People is said to be a subclass of object, object is a superclass of People.\n",
    "\n",
    "The subclass can overwrite inherited attributes of the superclass.\n",
    "\n",
    "## Class\n",
    "When creating an instance of a class, we usually want to provide some initial values.\n",
    "\n",
    "To do this, define an __init__ method:"
   ]
  },
  {
   "cell_type": "code",
   "execution_count": 19,
   "metadata": {
    "collapsed": true
   },
   "outputs": [],
   "source": [
    "class People(object):\n",
    "    def __init__(self, Name, Id, Age):\n",
    "        self.Name = Name\n",
    "        self.Id = Id\n",
    "        self.Age = Age"
   ]
  },
  {
   "cell_type": "markdown",
   "metadata": {},
   "source": [
    "Method is a procedure that “belongs” to this class.\n",
    "When calling a method of an object(for example, the People object), Python always passes the object(People) as the first argument. By convention, we use self as the name of the first argument of methods.\n",
    "\n",
    "The “.” operator is used to access an attribute of an object. So the __init__ method above is defining three attributes for the new People object: Name, Id and Age.\n",
    "\n",
    "When an object is created, the __init__ method is called."
   ]
  },
  {
   "cell_type": "markdown",
   "metadata": {},
   "source": [
    "## Create a Instance"
   ]
  },
  {
   "cell_type": "code",
   "execution_count": 20,
   "metadata": {
    "collapsed": true
   },
   "outputs": [],
   "source": [
    "Jack = People('Jack', 1, 20)\n",
    "Lucy = People('Lucy', 2, 22)"
   ]
  },
  {
   "cell_type": "markdown",
   "metadata": {},
   "source": [
    "Don’t provide argument for self, Python does this automatically."
   ]
  },
  {
   "cell_type": "code",
   "execution_count": 21,
   "metadata": {
    "collapsed": false
   },
   "outputs": [
    {
     "name": "stdout",
     "output_type": "stream",
     "text": [
      "My name is Jack, I'm 20 years old. My Id number is 1.\n",
      "My name is Lucy, I'm 22 years old. My Id number is 2.\n"
     ]
    }
   ],
   "source": [
    "print \"My name is %s, I'm %s years old. My Id number is %s.\" %(Jack.Name, Jack.Age, Jack.Id)\n",
    "print \"My name is %s, I'm %s years old. My Id number is %s.\" %(Lucy.Name, Lucy.Age, Lucy.Id)"
   ]
  },
  {
   "cell_type": "markdown",
   "metadata": {},
   "source": [
    "### Representation of an object"
   ]
  },
  {
   "cell_type": "code",
   "execution_count": 22,
   "metadata": {
    "collapsed": false
   },
   "outputs": [
    {
     "name": "stdout",
     "output_type": "stream",
     "text": [
      "<__main__.People object at 0x00000000048BA6D8>\n"
     ]
    }
   ],
   "source": [
    "print Jack"
   ]
  },
  {
   "cell_type": "markdown",
   "metadata": {},
   "source": [
    "Python uses an uninformative print presentation for an object.\n",
    "\n",
    "This __str__ method will be called when the object needs a string to print."
   ]
  },
  {
   "cell_type": "code",
   "execution_count": 23,
   "metadata": {
    "collapsed": true
   },
   "outputs": [],
   "source": [
    "class People(object):\n",
    "    def __init__(self, name, Id, age):\n",
    "        self.Name = name\n",
    "        self.Id = Id\n",
    "        self.Age = age\n",
    "        \n",
    "    def __str__(self):\n",
    "        return \"My name is %s, I'm %s years old. My Id number is %s.\" %(self.Name, self.Age, self.Id)"
   ]
  },
  {
   "cell_type": "code",
   "execution_count": 24,
   "metadata": {
    "collapsed": true
   },
   "outputs": [],
   "source": [
    "Jack = People('Jack', 1, 20)\n",
    "Lucy = People('Lucy', 2, 22)"
   ]
  },
  {
   "cell_type": "code",
   "execution_count": 25,
   "metadata": {
    "collapsed": false
   },
   "outputs": [
    {
     "name": "stdout",
     "output_type": "stream",
     "text": [
      "My name is Jack, I'm 20 years old. My Id number is 1.\n",
      "My name is Lucy, I'm 22 years old. My Id number is 2.\n"
     ]
    }
   ],
   "source": [
    "print Jack\n",
    "print Lucy"
   ]
  },
  {
   "cell_type": "markdown",
   "metadata": {},
   "source": [
    "### Adding more methods"
   ]
  },
  {
   "cell_type": "code",
   "execution_count": 27,
   "metadata": {
    "collapsed": true
   },
   "outputs": [],
   "source": [
    "class People(object):\n",
    "    def __init__(self, Name, Id, Age):\n",
    "        self.Name = Name\n",
    "        self.Id = Id\n",
    "        self.Age = Age\n",
    "        \n",
    "    def __str__(self):\n",
    "        return \"My name is %s, I'm %s years old. My Id number is %s.\" %(self.Name, self.Age, self.Id)\n",
    "        \n",
    "    def addAge(self):\n",
    "        self.Age = self.Age + 1\n",
    "    \n",
    "    def alterName(self, newName):\n",
    "        self.Name = newName"
   ]
  },
  {
   "cell_type": "code",
   "execution_count": 28,
   "metadata": {
    "collapsed": false
   },
   "outputs": [
    {
     "data": {
      "text/plain": [
       "__main__.People"
      ]
     },
     "execution_count": 28,
     "metadata": {},
     "output_type": "execute_result"
    }
   ],
   "source": [
    "Jack = People('Jack', 1, 20)\n",
    "type(Jack)"
   ]
  },
  {
   "cell_type": "code",
   "execution_count": 29,
   "metadata": {
    "collapsed": false
   },
   "outputs": [
    {
     "data": {
      "text/plain": [
       "True"
      ]
     },
     "execution_count": 29,
     "metadata": {},
     "output_type": "execute_result"
    }
   ],
   "source": [
    "isinstance(Jack, People)"
   ]
  },
  {
   "cell_type": "code",
   "execution_count": 30,
   "metadata": {
    "collapsed": false
   },
   "outputs": [
    {
     "name": "stdout",
     "output_type": "stream",
     "text": [
      "My name is Jack, I'm 20 years old. My Id number is 1.\n",
      "My name is Jack, I'm 21 years old. My Id number is 1.\n"
     ]
    }
   ],
   "source": [
    "print Jack\n",
    "Jack.addAge() # one year later, Jack is 21\n",
    "print Jack"
   ]
  },
  {
   "cell_type": "code",
   "execution_count": 32,
   "metadata": {
    "collapsed": false
   },
   "outputs": [
    {
     "name": "stdout",
     "output_type": "stream",
     "text": [
      "My name is Jack, I'm 21 years old. My Id number is 1.\n",
      "My name is John, I'm 21 years old. My Id number is 1.\n"
     ]
    }
   ],
   "source": [
    "print Jack\n",
    "Jack.alterName('John') # change his name to John\n",
    "print Jack"
   ]
  },
  {
   "cell_type": "markdown",
   "metadata": {},
   "source": [
    "\n",
    "### Inheritance\n",
    "In this case, create a men class inherits from the object People.\n",
    "men is said to be a subclass of People, People is a superclass of men."
   ]
  },
  {
   "cell_type": "code",
   "execution_count": 33,
   "metadata": {
    "collapsed": true
   },
   "outputs": [],
   "source": [
    "\n",
    "class men(People):\n",
    "    def __init__(self, Name, Id, Age):\n",
    "        People.__init__(self, Name, Id, Age)\n",
    "        self.sex = 'M'"
   ]
  },
  {
   "cell_type": "code",
   "execution_count": 37,
   "metadata": {
    "collapsed": false
   },
   "outputs": [
    {
     "name": "stdout",
     "output_type": "stream",
     "text": [
      "<class '__main__.men'>\n",
      "True\n",
      "True\n",
      "Aron\n",
      "3\n",
      "15\n",
      "My name is Aron, I'm 15 years old. My Id number is 3.\n",
      "M\n"
     ]
    }
   ],
   "source": [
    "Aron = men('Aron', 3, 15)\n",
    "print type(Aron)\n",
    "print isinstance(Aron, men)\n",
    "print isinstance(Aron, People)\n",
    "\n",
    "\n",
    "print Aron.Name\n",
    "print Aron.Id\n",
    "print Aron.Age\n",
    "print Aron\n",
    "print Aron.sex"
   ]
  },
  {
   "cell_type": "markdown",
   "metadata": {},
   "source": [
    "### More Methods"
   ]
  },
  {
   "cell_type": "code",
   "execution_count": 38,
   "metadata": {
    "collapsed": true
   },
   "outputs": [],
   "source": [
    "class men(People):\n",
    "    def __init__(self, Name, Id, Age):\n",
    "        People.__init__(self, Name, Id, Age)\n",
    "        self.sex = 'M'\n",
    "    \n",
    "    def isAdult(self):\n",
    "        return self.Age >= 18\n",
    "    \n",
    "    def __str__(self):\n",
    "        if self.isAdult():\n",
    "            status = 'man'\n",
    "        else:\n",
    "            status = 'boy'\n",
    "        return \"My name is %s, I'm a %s years old %s.\" %(self.Name, self.Age, status)"
   ]
  },
  {
   "cell_type": "code",
   "execution_count": 39,
   "metadata": {
    "collapsed": false
   },
   "outputs": [
    {
     "name": "stdout",
     "output_type": "stream",
     "text": [
      "My name is Aron, I'm a 17 years old boy.\n",
      "My name is Aron, I'm a 18 years old man.\n"
     ]
    }
   ],
   "source": [
    "Aron = men('Aron', 3, 17)\n",
    "print Aron\n",
    "\n",
    "Aron.addAge()\n",
    "print Aron"
   ]
  },
  {
   "cell_type": "markdown",
   "metadata": {},
   "source": [
    "### Files, Reading Files and wrinting to Files"
   ]
  },
  {
   "cell_type": "code",
   "execution_count": null,
   "metadata": {
    "collapsed": false
   },
   "outputs": [],
   "source": [
    "f = open('data/foo.txt', 'w')\n",
    "\n",
    "print type(f)\n",
    "print isinstance(f, file)"
   ]
  },
  {
   "cell_type": "markdown",
   "metadata": {},
   "source": [
    "When open a file, the mode can be\n",
    "\n",
    "'r': reading (default)\n",
    "\n",
    "'w': writing\n",
    "\n",
    "'a': appending.\n",
    "\n",
    "'r+': opens the file for both reading and writing.\n",
    "\n",
    "In this case the mode is 'w', so we either overwrite the file \"foo.txt\" or create a new file \"foo.txt\"."
   ]
  },
  {
   "cell_type": "markdown",
   "metadata": {},
   "source": [
    "### Writing Files"
   ]
  },
  {
   "cell_type": "code",
   "execution_count": null,
   "metadata": {
    "collapsed": false
   },
   "outputs": [],
   "source": [
    "f.write('this is some text.\\nThis is another line.\\n')\n",
    "f.close()"
   ]
  },
  {
   "cell_type": "markdown",
   "metadata": {},
   "source": [
    "\n",
    "Do not forget to close the file after using. Otherwise, you can not open the file with the other applications.\n",
    "\n",
    "Print out the contents by using shell command."
   ]
  },
  {
   "cell_type": "code",
   "execution_count": null,
   "metadata": {
    "collapsed": false
   },
   "outputs": [],
   "source": [
    "!cat data/foo.txt"
   ]
  },
  {
   "cell_type": "markdown",
   "metadata": {},
   "source": [
    "### Reading Files\n",
    "Now let's try to read the file. The read method return contents as a string."
   ]
  },
  {
   "cell_type": "code",
   "execution_count": null,
   "metadata": {
    "collapsed": true
   },
   "outputs": [],
   "source": [
    "f = open('data/foo.txt', 'r') \n",
    "f.read()`"
   ]
  },
  {
   "cell_type": "markdown",
   "metadata": {},
   "source": [
    "Run f.read() the second time will return nothing. Because all the contents have already been print out."
   ]
  },
  {
   "cell_type": "code",
   "execution_count": null,
   "metadata": {
    "collapsed": true
   },
   "outputs": [],
   "source": [
    "f.read()"
   ]
  },
  {
   "cell_type": "code",
   "execution_count": null,
   "metadata": {
    "collapsed": true
   },
   "outputs": [],
   "source": [
    "f.close()"
   ]
  },
  {
   "cell_type": "markdown",
   "metadata": {},
   "source": [
    "### Sort a dictionary\n",
    "\n",
    "In this case, we create a new class myfile which is a subclass of the file class, and add some more methods, such as wordCountSort method used to sort the frequencies of the words.\n",
    "\n",
    "Before I show you all the codes, it's necessary to know how to sort a dictionary.\n",
    "\n",
    "Since dictionary is unordered, you need to convert it to a list by using .items method.\n",
    "\n",
    "Then the function sorted can be used to sort a list."
   ]
  },
  {
   "cell_type": "code",
   "execution_count": null,
   "metadata": {
    "collapsed": true
   },
   "outputs": [],
   "source": [
    "d = {'a': 5, 'b': 3, 'c':2}\n",
    "d = d.items() # convert to a list\n",
    "d"
   ]
  },
  {
   "cell_type": "code",
   "execution_count": null,
   "metadata": {
    "collapsed": true
   },
   "outputs": [],
   "source": [
    "sorted(d, key = lambda x: x[1])"
   ]
  },
  {
   "cell_type": "markdown",
   "metadata": {},
   "source": [
    "### Basic String Manipulations\n",
    "\n",
    "The operations on string you have seen:\n",
    "\n",
    "length: the number of characters in a string."
   ]
  },
  {
   "cell_type": "code",
   "execution_count": 43,
   "metadata": {
    "collapsed": false
   },
   "outputs": [
    {
     "data": {
      "text/plain": [
       "4"
      ]
     },
     "execution_count": 43,
     "metadata": {},
     "output_type": "execute_result"
    }
   ],
   "source": [
    "len('abcd')"
   ]
  },
  {
   "cell_type": "code",
   "execution_count": 44,
   "metadata": {
    "collapsed": false
   },
   "outputs": [
    {
     "data": {
      "text/plain": [
       "'a'"
      ]
     },
     "execution_count": 44,
     "metadata": {},
     "output_type": "execute_result"
    }
   ],
   "source": [
    "# indexing\n",
    "'abcd'[0] # the first element"
   ]
  },
  {
   "cell_type": "code",
   "execution_count": 46,
   "metadata": {
    "collapsed": false
   },
   "outputs": [
    {
     "name": "stdout",
     "output_type": "stream",
     "text": [
      "g\n",
      "f\n"
     ]
    }
   ],
   "source": [
    "# slicing\n",
    "'abcd'[0:2] # the first and second element\n",
    "\n",
    "s = 'abcdefg'\n",
    "print s[-1] # -1 means the first character from the right side\n",
    "print s[-2] # -2 means the second character from the right side"
   ]
  },
  {
   "cell_type": "markdown",
   "metadata": {},
   "source": [
    "### Basic String Manipulations - 2 "
   ]
  },
  {
   "cell_type": "code",
   "execution_count": 50,
   "metadata": {
    "collapsed": false
   },
   "outputs": [
    {
     "name": "stdout",
     "output_type": "stream",
     "text": [
      "abcd\n",
      "ABCD\n",
      "abCD\n"
     ]
    }
   ],
   "source": [
    "print ('ABcd'.lower()) # convert to lower case \n",
    "print ('ABcd'.upper()) # convert to upper case \n",
    "\n",
    "print ('ABcd'.swapcase()) # swap case(lower -> upper, upper -> lower) "
   ]
  },
  {
   "cell_type": "code",
   "execution_count": 51,
   "metadata": {
    "collapsed": false
   },
   "outputs": [
    {
     "name": "stdout",
     "output_type": "stream",
     "text": [
      "Acd Acd\n"
     ]
    }
   ],
   "source": [
    "print ('acd acd'.title())"
   ]
  },
  {
   "cell_type": "markdown",
   "metadata": {},
   "source": [
    "### Basic String Manipulations - 3"
   ]
  },
  {
   "cell_type": "code",
   "execution_count": 52,
   "metadata": {
    "collapsed": false
   },
   "outputs": [
    {
     "data": {
      "text/plain": [
       "['a', 'b', 'c', 'd']"
      ]
     },
     "execution_count": 52,
     "metadata": {},
     "output_type": "execute_result"
    }
   ],
   "source": [
    "'a b c d'.split(' ') # split by ' ' "
   ]
  },
  {
   "cell_type": "code",
   "execution_count": 53,
   "metadata": {
    "collapsed": false
   },
   "outputs": [
    {
     "data": {
      "text/plain": [
       "'a>b>c>d'"
      ]
     },
     "execution_count": 53,
     "metadata": {},
     "output_type": "execute_result"
    }
   ],
   "source": [
    "'a b c d'.replace(' ', '>') # replace ' ' with '>'"
   ]
  },
  {
   "cell_type": "code",
   "execution_count": 54,
   "metadata": {
    "collapsed": false
   },
   "outputs": [
    {
     "data": {
      "text/plain": [
       "3"
      ]
     },
     "execution_count": 54,
     "metadata": {},
     "output_type": "execute_result"
    }
   ],
   "source": [
    "'a b c d'.count(' ') # count the number of ' ' appears"
   ]
  },
  {
   "cell_type": "code",
   "execution_count": 55,
   "metadata": {
    "collapsed": false
   },
   "outputs": [
    {
     "data": {
      "text/plain": [
       "'a b c'"
      ]
     },
     "execution_count": 55,
     "metadata": {},
     "output_type": "execute_result"
    }
   ],
   "source": [
    "' '.join(['a', 'b', 'c'])"
   ]
  },
  {
   "cell_type": "markdown",
   "metadata": {},
   "source": [
    "### Advanced String Manipulations: Regular Expressions\n",
    "\n",
    "So far we have seen some basic and intermediate functions for handling and working with strings.\n",
    "\n",
    "However, if you truly want to unleash the power of strings manipulation, it's necessary to learn regular expressions.\n",
    "\n",
    "#### Concept\n",
    "\n",
    "A **regular expression** is a special text string for describing a certain amount of text.\n",
    "This “certain amount of text” receives the formal name of pattern. Hence we say that a regular expression is a pattern that describes a set of strings.\n",
    "\n",
    "The goal of using regular expression is extracting specific characters from text by describing its pattern.\n",
    "\n",
    "#### Pattern\n",
    "For example, both gray and grey match the pattern gr.y in which the dot . refers to a arbitrary character.\n",
    "\n",
    "#### Metacharacters\n",
    "A simplest form of regular expressions is a pattern that matches a single character, for example 'a' matches exactly the character 'a'.\n",
    "\n",
    "However, there are some special characters that have a reserved status and they are known as metacharacters.\n",
    ". ^ $ * + ? { } [ ] \\ | ( )\n",
    "\n",
    "\n",
    "These metacharacters have special meaning when working with regular expressions. So a|b does not match exactly a|b.\n",
    "\n",
    "The backslash \\ is called escape operator, which is used for making these metacharacters to normal characters. For example, a\\|b in regular expression matches exactly the character a|b."
   ]
  },
  {
   "cell_type": "code",
   "execution_count": 56,
   "metadata": {
    "collapsed": false
   },
   "outputs": [
    {
     "name": "stdout",
     "output_type": "stream",
     "text": [
      "<_sre.SRE_Match object at 0x00000000048CA7E8>\n"
     ]
    }
   ],
   "source": [
    "import re\n",
    "\n",
    "raw_string = 'Hi, how are you today?'\n",
    "print re.search('Hi', raw_string)"
   ]
  },
  {
   "cell_type": "code",
   "execution_count": 57,
   "metadata": {
    "collapsed": false
   },
   "outputs": [
    {
     "name": "stdout",
     "output_type": "stream",
     "text": [
      "None\n"
     ]
    }
   ],
   "source": [
    "print re.search('Hello', raw_string)"
   ]
  },
  {
   "cell_type": "code",
   "execution_count": 59,
   "metadata": {
    "collapsed": true
   },
   "outputs": [],
   "source": [
    "s = re.search('Hi', raw_string)"
   ]
  },
  {
   "cell_type": "code",
   "execution_count": 60,
   "metadata": {
    "collapsed": false
   },
   "outputs": [
    {
     "name": "stdout",
     "output_type": "stream",
     "text": [
      "0\n",
      "2\n",
      "(0, 2)\n"
     ]
    }
   ],
   "source": [
    "print s.start() # the starting position of of the matched string\n",
    "print s.end()   # the ending position index of the matched string\n",
    "print s.span()  # a tuple containing the (start, end) positions of the matched string"
   ]
  },
  {
   "cell_type": "code",
   "execution_count": 61,
   "metadata": {
    "collapsed": false
   },
   "outputs": [
    {
     "name": "stdout",
     "output_type": "stream",
     "text": [
      "Hi\n",
      "Hi\n"
     ]
    }
   ],
   "source": [
    "print s.group() # the matched string\n",
    "print raw_string[s.start():s.end()] # same"
   ]
  },
  {
   "cell_type": "markdown",
   "metadata": {},
   "source": [
    "###  The meaning of metacharacters\n",
    "\n",
    "re.search(pattern, string) != None is True if the string matches the pattern. We will use this function to test our regular expressions.\n",
    "\n",
    "**dot**\n",
    "\n",
    ". refers to any single characters. For example, a. matches any two characters start with 'a': aa, ab, an, a1, a#, etc."
   ]
  },
  {
   "cell_type": "code",
   "execution_count": 62,
   "metadata": {
    "collapsed": false
   },
   "outputs": [
    {
     "name": "stdout",
     "output_type": "stream",
     "text": [
      "True\n",
      "True\n",
      "True\n",
      "True\n"
     ]
    }
   ],
   "source": [
    "print re.search('a.', 'aa') != None\n",
    "print re.search('a.', 'ab') != None\n",
    "print re.search('a.', 'a1') != None\n",
    "print re.search('a.', 'a#') != None"
   ]
  },
  {
   "cell_type": "markdown",
   "metadata": {},
   "source": [
    "#### question mark & plus & asterisk & {}\n",
    "? matches a character either once or zero times.\n",
    "\n",
    "+ matches a character at least once.\n",
    "\n",
    "* matches a character arbitrary times.\n",
    "\n",
    "{m,n} matches a character at least m times and at most n times.\n",
    "\n",
    "For example, ba?b matches bab and bb."
   ]
  },
  {
   "cell_type": "code",
   "execution_count": 63,
   "metadata": {
    "collapsed": false
   },
   "outputs": [
    {
     "name": "stdout",
     "output_type": "stream",
     "text": [
      "True\n",
      "True\n",
      "False\n"
     ]
    }
   ],
   "source": [
    "print re.search('ba?b', 'bb') != None    # match\n",
    "print re.search('ba?b', 'bab') != None   # match\n",
    "print re.search('ba?b', 'baab') != None  # does not match"
   ]
  },
  {
   "cell_type": "code",
   "execution_count": 64,
   "metadata": {
    "collapsed": false
   },
   "outputs": [
    {
     "name": "stdout",
     "output_type": "stream",
     "text": [
      "False\n",
      "True\n",
      "True\n",
      "True\n",
      "True\n"
     ]
    }
   ],
   "source": [
    "print re.search('ba+b', 'bb') != None    # does not match\n",
    "print re.search('ba+b', 'bab') != None   # match\n",
    "print re.search('ba+b', 'baab') != None  # match\n",
    "print re.search('ba+b', 'baaaab') != None  # match\n",
    "print re.search('ba+b', 'baaaaaab') != None  # match"
   ]
  },
  {
   "cell_type": "code",
   "execution_count": 65,
   "metadata": {
    "collapsed": false
   },
   "outputs": [
    {
     "name": "stdout",
     "output_type": "stream",
     "text": [
      "True\n",
      "True\n",
      "True\n"
     ]
    }
   ],
   "source": [
    "print re.search('ba*b', 'bb') != None    # match\n",
    "print re.search('ba*b', 'bab') != None   # match\n",
    "print re.search('ba*b', 'baaaaaab') != None  # match"
   ]
  },
  {
   "cell_type": "code",
   "execution_count": 66,
   "metadata": {
    "collapsed": false
   },
   "outputs": [
    {
     "name": "stdout",
     "output_type": "stream",
     "text": [
      "True\n",
      "True\n",
      "True\n",
      "False\n",
      "False\n"
     ]
    }
   ],
   "source": [
    "print re.search('ba{1,3}b', 'bab') != None    # match\n",
    "print re.search('ba{1,3}b', 'baab') != None   # match\n",
    "print re.search('ba{1,3}b', 'baaab') != None  # match\n",
    "\n",
    "print re.search('ba{1,3}b', 'bb') != None     # does not match\n",
    "print re.search('ba{1,3}b', 'baaaab') != None # does not match"
   ]
  },
  {
   "cell_type": "markdown",
   "metadata": {},
   "source": [
    "####  caret & dollar sign\n",
    "^ refers to the beginning of a text, while $ refers to the ending of a text.\n",
    "\n",
    "For example, ^a matches all the text begins with character a."
   ]
  },
  {
   "cell_type": "code",
   "execution_count": 67,
   "metadata": {
    "collapsed": false
   },
   "outputs": [
    {
     "name": "stdout",
     "output_type": "stream",
     "text": [
      "True\n",
      "True\n",
      "False\n"
     ]
    }
   ],
   "source": [
    "print re.search('^a', 'abc') != None    # match\n",
    "print re.search('^a', 'abcde') != None  # match\n",
    "print re.search('^a', ' abcde') != None # does not match"
   ]
  },
  {
   "cell_type": "code",
   "execution_count": 68,
   "metadata": {
    "collapsed": false
   },
   "outputs": [
    {
     "name": "stdout",
     "output_type": "stream",
     "text": [
      "True\n",
      "True\n",
      "False\n"
     ]
    }
   ],
   "source": [
    "# a$ matches all the text ends with character a.\n",
    "print re.search('a$', 'aba') != None    # match\n",
    "print re.search('a$', 'abcba') != None  # match\n",
    "print re.search('a$', ' aba ') != None  # does not match"
   ]
  },
  {
   "cell_type": "markdown",
   "metadata": {},
   "source": [
    "#### bracket\n",
    "[] is used for specifying a set of characters that you wish to match. For example, [123abc] will match any of the characters 1, 2, 3, a, b, or c ; this is the same as [1-3a-c], which uses a range to express the same set of characters. Further more [a-z] matches all the lower letters, while [0-9] matches all the numbers."
   ]
  },
  {
   "cell_type": "code",
   "execution_count": 69,
   "metadata": {
    "collapsed": false
   },
   "outputs": [
    {
     "name": "stdout",
     "output_type": "stream",
     "text": [
      "False\n",
      "True\n",
      "True\n",
      "True\n",
      "True\n"
     ]
    }
   ],
   "source": [
    "print re.search('[123abc]', 'defg')  != None   # does not match\n",
    "print re.search('[123abc]', '1defg') != None   # match\n",
    "print re.search('[1-3a-c]', '2defg') != None   # match\n",
    "print re.search('[123abc]', 'adefg') != None   # match\n",
    "print re.search('[1-3a-c]', 'bdefg') != None   # match"
   ]
  },
  {
   "cell_type": "markdown",
   "metadata": {},
   "source": [
    "() is very similar to the mathematical meaning, they group together the expressions contained inside them, and you can repeat the contents of a group with a repeating qualifier.\n",
    "\n",
    "For example, the pattern (abc){2,3} matches abc 2 or 3 times."
   ]
  },
  {
   "cell_type": "code",
   "execution_count": 70,
   "metadata": {
    "collapsed": false
   },
   "outputs": [
    {
     "name": "stdout",
     "output_type": "stream",
     "text": [
      "False\n",
      "True\n",
      "True\n"
     ]
    }
   ],
   "source": [
    "print re.search('(abc){2,3}', 'abc')  != None         # does not match\n",
    "print re.search('(abc){2,3}', 'abcabc')  != None      # match\n",
    "print re.search('(abc){2,3}', 'abcabcabc')  != None   # match"
   ]
  },
  {
   "cell_type": "markdown",
   "metadata": {},
   "source": [
    "What will the following expression return? True or False?"
   ]
  },
  {
   "cell_type": "code",
   "execution_count": 72,
   "metadata": {
    "collapsed": true
   },
   "outputs": [],
   "source": [
    "# print re.search('(abc){2,3}', 4*'abc')  != None"
   ]
  },
  {
   "cell_type": "markdown",
   "metadata": {},
   "source": [
    "#### vertical bar\n",
    "\n",
    "| is a logical operator. For examples, a|b matches a and b, which is similar to [ab]."
   ]
  },
  {
   "cell_type": "code",
   "execution_count": 73,
   "metadata": {
    "collapsed": false
   },
   "outputs": [
    {
     "name": "stdout",
     "output_type": "stream",
     "text": [
      "True\n",
      "True\n",
      "False\n"
     ]
    }
   ],
   "source": [
    "print re.search('[ab]', 'a') != None   # match\n",
    "print re.search('[ab]', 'b') != None   # match\n",
    "print re.search('[ab]', 'c') != None   # does not match"
   ]
  },
  {
   "cell_type": "code",
   "execution_count": 74,
   "metadata": {
    "collapsed": false
   },
   "outputs": [
    {
     "name": "stdout",
     "output_type": "stream",
     "text": [
      "False\n",
      "False\n",
      "True\n",
      "True\n"
     ]
    }
   ],
   "source": [
    "print re.search('abc|123', 'a') != None   # does not match\n",
    "print re.search('abc|123', '1') != None   # does not match\n",
    "print re.search('abc|123', '123') != None # match\n",
    "print re.search('abc|123', 'abc') != None # match"
   ]
  },
  {
   "cell_type": "markdown",
   "metadata": {},
   "source": [
    "#### backslash\n",
    "If you want to match exactly ?, it is necessary to add a backslash \\?."
   ]
  },
  {
   "cell_type": "code",
   "execution_count": 75,
   "metadata": {
    "collapsed": false
   },
   "outputs": [
    {
     "name": "stdout",
     "output_type": "stream",
     "text": [
      "True\n"
     ]
    }
   ],
   "source": [
    "print re.search('\\?', 'Hi, how are you today?') != None"
   ]
  },
  {
   "cell_type": "markdown",
   "metadata": {},
   "source": [
    "Otherwise, the character ? will be treated as a metacharacter. ? matches a character(group) either once or zero times."
   ]
  },
  {
   "cell_type": "code",
   "execution_count": 76,
   "metadata": {
    "collapsed": false
   },
   "outputs": [
    {
     "ename": "error",
     "evalue": "nothing to repeat",
     "output_type": "error",
     "traceback": [
      "\u001b[0;31m---------------------------------------------------------------------------\u001b[0m",
      "\u001b[0;31merror\u001b[0m                                     Traceback (most recent call last)",
      "\u001b[0;32m<ipython-input-76-d010e55507fc>\u001b[0m in \u001b[0;36m<module>\u001b[0;34m()\u001b[0m\n\u001b[0;32m----> 1\u001b[0;31m \u001b[1;32mprint\u001b[0m \u001b[0mre\u001b[0m\u001b[1;33m.\u001b[0m\u001b[0msearch\u001b[0m\u001b[1;33m(\u001b[0m\u001b[1;34m'?'\u001b[0m\u001b[1;33m,\u001b[0m \u001b[1;34m'Hi, how are you today?'\u001b[0m\u001b[1;33m)\u001b[0m \u001b[1;33m!=\u001b[0m \u001b[0mNone\u001b[0m\u001b[1;33m\u001b[0m\u001b[0m\n\u001b[0m",
      "\u001b[0;32mC:\\Program Files\\Anaconda2\\lib\\re.pyc\u001b[0m in \u001b[0;36msearch\u001b[0;34m(pattern, string, flags)\u001b[0m\n\u001b[1;32m    144\u001b[0m     \"\"\"Scan through string looking for a match to the pattern, returning\n\u001b[1;32m    145\u001b[0m     a match object, or None if no match was found.\"\"\"\n\u001b[0;32m--> 146\u001b[0;31m     \u001b[1;32mreturn\u001b[0m \u001b[0m_compile\u001b[0m\u001b[1;33m(\u001b[0m\u001b[0mpattern\u001b[0m\u001b[1;33m,\u001b[0m \u001b[0mflags\u001b[0m\u001b[1;33m)\u001b[0m\u001b[1;33m.\u001b[0m\u001b[0msearch\u001b[0m\u001b[1;33m(\u001b[0m\u001b[0mstring\u001b[0m\u001b[1;33m)\u001b[0m\u001b[1;33m\u001b[0m\u001b[0m\n\u001b[0m\u001b[1;32m    147\u001b[0m \u001b[1;33m\u001b[0m\u001b[0m\n\u001b[1;32m    148\u001b[0m \u001b[1;32mdef\u001b[0m \u001b[0msub\u001b[0m\u001b[1;33m(\u001b[0m\u001b[0mpattern\u001b[0m\u001b[1;33m,\u001b[0m \u001b[0mrepl\u001b[0m\u001b[1;33m,\u001b[0m \u001b[0mstring\u001b[0m\u001b[1;33m,\u001b[0m \u001b[0mcount\u001b[0m\u001b[1;33m=\u001b[0m\u001b[1;36m0\u001b[0m\u001b[1;33m,\u001b[0m \u001b[0mflags\u001b[0m\u001b[1;33m=\u001b[0m\u001b[1;36m0\u001b[0m\u001b[1;33m)\u001b[0m\u001b[1;33m:\u001b[0m\u001b[1;33m\u001b[0m\u001b[0m\n",
      "\u001b[0;32mC:\\Program Files\\Anaconda2\\lib\\re.pyc\u001b[0m in \u001b[0;36m_compile\u001b[0;34m(*key)\u001b[0m\n\u001b[1;32m    249\u001b[0m         \u001b[0mp\u001b[0m \u001b[1;33m=\u001b[0m \u001b[0msre_compile\u001b[0m\u001b[1;33m.\u001b[0m\u001b[0mcompile\u001b[0m\u001b[1;33m(\u001b[0m\u001b[0mpattern\u001b[0m\u001b[1;33m,\u001b[0m \u001b[0mflags\u001b[0m\u001b[1;33m)\u001b[0m\u001b[1;33m\u001b[0m\u001b[0m\n\u001b[1;32m    250\u001b[0m     \u001b[1;32mexcept\u001b[0m \u001b[0merror\u001b[0m\u001b[1;33m,\u001b[0m \u001b[0mv\u001b[0m\u001b[1;33m:\u001b[0m\u001b[1;33m\u001b[0m\u001b[0m\n\u001b[0;32m--> 251\u001b[0;31m         \u001b[1;32mraise\u001b[0m \u001b[0merror\u001b[0m\u001b[1;33m,\u001b[0m \u001b[0mv\u001b[0m \u001b[1;31m# invalid expression\u001b[0m\u001b[1;33m\u001b[0m\u001b[0m\n\u001b[0m\u001b[1;32m    252\u001b[0m     \u001b[1;32mif\u001b[0m \u001b[1;32mnot\u001b[0m \u001b[0mbypass_cache\u001b[0m\u001b[1;33m:\u001b[0m\u001b[1;33m\u001b[0m\u001b[0m\n\u001b[1;32m    253\u001b[0m         \u001b[1;32mif\u001b[0m \u001b[0mlen\u001b[0m\u001b[1;33m(\u001b[0m\u001b[0m_cache\u001b[0m\u001b[1;33m)\u001b[0m \u001b[1;33m>=\u001b[0m \u001b[0m_MAXCACHE\u001b[0m\u001b[1;33m:\u001b[0m\u001b[1;33m\u001b[0m\u001b[0m\n",
      "\u001b[0;31merror\u001b[0m: nothing to repeat"
     ]
    }
   ],
   "source": [
    "print re.search('?', 'Hi, how are you today?') != None"
   ]
  },
  {
   "cell_type": "markdown",
   "metadata": {},
   "source": [
    "### Useful functions\n",
    "re.split(pattern, string): Split the string into a list by the pattern.\n",
    "\n",
    "re.sub(pattern, replace, string): Replace the substrings in the string that matches the pattern with the argument replace.\n",
    "\n",
    "re.findall(pattern, string): Find all substrings where the pattern matches, and returns them as a list.\n",
    "\n",
    "In the base library, the strings already have methods like str.split and str.replace do similar works.\n",
    "\n",
    "str.split is similar to re.split, str.replace is similar to re.sub.\n",
    "\n",
    "Since we can use regular expressions in re module, re.split and re.sub are much more powerful!"
   ]
  },
  {
   "cell_type": "code",
   "execution_count": 3,
   "metadata": {
    "collapsed": true
   },
   "outputs": [],
   "source": [
    "#re.sub\n",
    "\n",
    "s = '''The re module was added in Python 1.5, \n",
    "and provides Perl-style regular expression patterns. \n",
    "Earlier versions of Python came with the regex module, \n",
    "which provided Emacs-style patterns. \n",
    "The regex module was removed completely in Python 2.5.'''"
   ]
  },
  {
   "cell_type": "markdown",
   "metadata": {},
   "source": [
    "**Question**\n",
    "\n",
    "Suppose we want to split this sentence into a list in which each element is a word. The separators are dot(.), dash(-), comma(,) and blank space( ).\n",
    "\n",
    "**Solution**\n",
    "\n",
    "How to solve the problem in the base library?\n",
    "\n",
    "Since we can not split a string by multiple separators, an alternative way is replacing all the separators with blank space.\n",
    "Split the replaced the text with blank space."
   ]
  },
  {
   "cell_type": "code",
   "execution_count": 78,
   "metadata": {
    "collapsed": false
   },
   "outputs": [
    {
     "data": {
      "text/plain": [
       "['The',\n",
       " 're',\n",
       " 'module',\n",
       " 'was',\n",
       " 'added',\n",
       " 'in',\n",
       " 'Python',\n",
       " '1',\n",
       " '5',\n",
       " '',\n",
       " '',\n",
       " 'and',\n",
       " 'provides',\n",
       " 'Perl',\n",
       " 'style',\n",
       " 'regular',\n",
       " 'expression',\n",
       " 'patterns',\n",
       " '',\n",
       " '',\n",
       " 'Earlier',\n",
       " 'versions',\n",
       " 'of',\n",
       " 'Python',\n",
       " 'came',\n",
       " 'with',\n",
       " 'the',\n",
       " 'regex',\n",
       " 'module',\n",
       " '',\n",
       " '',\n",
       " 'which',\n",
       " 'provided',\n",
       " 'Emacs',\n",
       " 'style',\n",
       " 'patterns',\n",
       " '',\n",
       " '',\n",
       " 'The',\n",
       " 'regex',\n",
       " 'module',\n",
       " 'was',\n",
       " 'removed',\n",
       " 'completely',\n",
       " 'in',\n",
       " 'Python',\n",
       " '2',\n",
       " '5',\n",
       " '']"
      ]
     },
     "execution_count": 78,
     "metadata": {},
     "output_type": "execute_result"
    }
   ],
   "source": [
    "s2 = s\n",
    "for i in [',', '.', '-', '\\n']:\n",
    "    s2 = s2.replace(i, ' ')\n",
    "s2.split(' ')"
   ]
  },
  {
   "cell_type": "code",
   "execution_count": 79,
   "metadata": {
    "collapsed": false
   },
   "outputs": [
    {
     "name": "stdout",
     "output_type": "stream",
     "text": [
      "The re module was added in Python 1 5   and provides Perl style regular expression patterns   Earlier versions of Python came with the regex module   which provided Emacs style patterns   The regex module was removed completely in Python 2 5 \n"
     ]
    },
    {
     "data": {
      "text/plain": [
       "['The',\n",
       " 're',\n",
       " 'module',\n",
       " 'was',\n",
       " 'added',\n",
       " 'in',\n",
       " 'Python',\n",
       " '1',\n",
       " '5',\n",
       " 'and',\n",
       " 'provides',\n",
       " 'Perl',\n",
       " 'style',\n",
       " 'regular',\n",
       " 'expression',\n",
       " 'patterns',\n",
       " 'Earlier',\n",
       " 'versions',\n",
       " 'of',\n",
       " 'Python',\n",
       " 'came',\n",
       " 'with',\n",
       " 'the',\n",
       " 'regex',\n",
       " 'module',\n",
       " 'which',\n",
       " 'provided',\n",
       " 'Emacs',\n",
       " 'style',\n",
       " 'patterns',\n",
       " 'The',\n",
       " 'regex',\n",
       " 'module',\n",
       " 'was',\n",
       " 'removed',\n",
       " 'completely',\n",
       " 'in',\n",
       " 'Python',\n",
       " '2',\n",
       " '5',\n",
       " '']"
      ]
     },
     "execution_count": 79,
     "metadata": {},
     "output_type": "execute_result"
    }
   ],
   "source": [
    "s3 = s\n",
    "s3 = re.sub('[\\n,.-]', ' ', s3)\n",
    "print s3\n",
    "re.split(' +', s3) \n",
    "# since there are empty characters in the result,\n",
    "# \\ we split it by one or more blank space"
   ]
  },
  {
   "cell_type": "markdown",
   "metadata": {},
   "source": [
    "#### re.split\n",
    "A simpler way is using regular expression to split the text by multiple separators directly."
   ]
  },
  {
   "cell_type": "code",
   "execution_count": 81,
   "metadata": {
    "collapsed": false
   },
   "outputs": [
    {
     "data": {
      "text/plain": [
       "['The',\n",
       " 're',\n",
       " 'module',\n",
       " 'was',\n",
       " 'added',\n",
       " 'in',\n",
       " 'Python',\n",
       " '1',\n",
       " '5',\n",
       " 'and',\n",
       " 'provides',\n",
       " 'Perl',\n",
       " 'style',\n",
       " 'regular',\n",
       " 'expression',\n",
       " 'patterns',\n",
       " 'Earlier',\n",
       " 'versions',\n",
       " 'of',\n",
       " 'Python',\n",
       " 'came',\n",
       " 'with',\n",
       " 'the',\n",
       " 'regex',\n",
       " 'module',\n",
       " 'which',\n",
       " 'provided',\n",
       " 'Emacs',\n",
       " 'style',\n",
       " 'patterns',\n",
       " 'The',\n",
       " 'regex',\n",
       " 'module',\n",
       " 'was',\n",
       " 'removed',\n",
       " 'completely',\n",
       " 'in',\n",
       " 'Python',\n",
       " '2',\n",
       " '5',\n",
       " '']"
      ]
     },
     "execution_count": 81,
     "metadata": {},
     "output_type": "execute_result"
    }
   ],
   "source": [
    "re.split('[\\n ,\\.-]+', s)"
   ]
  },
  {
   "cell_type": "markdown",
   "metadata": {},
   "source": [
    "#### re.findall\n",
    "Similar to re.split, re.findall also works well in this case.\n",
    "\n",
    "Just select letters in the string s by using re.findall."
   ]
  },
  {
   "cell_type": "code",
   "execution_count": 82,
   "metadata": {
    "collapsed": false
   },
   "outputs": [
    {
     "data": {
      "text/plain": [
       "['The',\n",
       " 're',\n",
       " 'module',\n",
       " 'was',\n",
       " 'added',\n",
       " 'in',\n",
       " 'Python',\n",
       " 'and',\n",
       " 'provides',\n",
       " 'Perl',\n",
       " 'style',\n",
       " 'regular',\n",
       " 'expression',\n",
       " 'patterns',\n",
       " 'Earlier',\n",
       " 'versions',\n",
       " 'of',\n",
       " 'Python',\n",
       " 'came',\n",
       " 'with',\n",
       " 'the',\n",
       " 'regex',\n",
       " 'module',\n",
       " 'which',\n",
       " 'provided',\n",
       " 'Emacs',\n",
       " 'style',\n",
       " 'patterns',\n",
       " 'The',\n",
       " 'regex',\n",
       " 'module',\n",
       " 'was',\n",
       " 'removed',\n",
       " 'completely',\n",
       " 'in',\n",
       " 'Python']"
      ]
     },
     "execution_count": 82,
     "metadata": {},
     "output_type": "execute_result"
    }
   ],
   "source": [
    "re.findall('[a-zA-Z]+', s) # if you want number too, run re.findall('[a-zA-Z0-9]+', s)"
   ]
  },
  {
   "cell_type": "markdown",
   "metadata": {},
   "source": [
    "### Operations\n",
    "Typically, regular expression patterns consist of a combination of using various operators.\n",
    "\n",
    "Among the various types of operators, their main use reduces to four basic operations for creating regular \n",
    "\n",
    "##### expressions:\n",
    "Concatenation: concatenating a set of characters together. For example 'abcd', which just matches the single string 'abcd'.\n",
    "\n",
    "Logical OR: denoted by the vertical bar | or []. For example 'ab|cd', which matches two strings 'ab' and 'cd', while '[abcd] matches 'a', 'b', 'c' or 'd'.\n",
    "\n",
    "Replication: define a pattern that matches under multiple possibilities. ?,+,*,{m,n}.\n",
    "\n",
    "Grouping: denoted with a expression inside parentheses ( ).\n",
    "\n",
    "### wordCount\n",
    "\n",
    "Now let's rewrite a function wordCount."
   ]
  },
  {
   "cell_type": "code",
   "execution_count": 1,
   "metadata": {
    "collapsed": true
   },
   "outputs": [],
   "source": [
    "import re\n",
    "def wordCount(x, number=False):\n",
    "    '''\n",
    "    x: string to count\n",
    "    number: whether to count the numbers\n",
    "    '''\n",
    "    ## tolower and find words\n",
    "    x = x.lower()\n",
    "    if number:\n",
    "       word_list = re.findall('\\w+', x)\n",
    "    else:\n",
    "        word_list = re.findall('[a-zA-Z]+', x)\n",
    "    ## count and return\n",
    "    result = {}\n",
    "    for word in word_list:\n",
    "        if word in result.keys():\n",
    "            result[word] += 1\n",
    "        else:\n",
    "            result[word] = 1\n",
    "    return result "
   ]
  },
  {
   "cell_type": "code",
   "execution_count": 4,
   "metadata": {
    "collapsed": false
   },
   "outputs": [
    {
     "data": {
      "text/plain": [
       "{'added': 1,\n",
       " 'and': 1,\n",
       " 'came': 1,\n",
       " 'completely': 1,\n",
       " 'earlier': 1,\n",
       " 'emacs': 1,\n",
       " 'expression': 1,\n",
       " 'in': 2,\n",
       " 'module': 3,\n",
       " 'of': 1,\n",
       " 'patterns': 2,\n",
       " 'perl': 1,\n",
       " 'provided': 1,\n",
       " 'provides': 1,\n",
       " 'python': 3,\n",
       " 're': 1,\n",
       " 'regex': 2,\n",
       " 'regular': 1,\n",
       " 'removed': 1,\n",
       " 'style': 2,\n",
       " 'the': 3,\n",
       " 'versions': 1,\n",
       " 'was': 2,\n",
       " 'which': 1,\n",
       " 'with': 1}"
      ]
     },
     "execution_count": 4,
     "metadata": {},
     "output_type": "execute_result"
    }
   ],
   "source": [
    "wordCount(s)"
   ]
  },
  {
   "cell_type": "markdown",
   "metadata": {},
   "source": [
    "### Is it a e-mail address?\n",
    "In this case, we write a function to test whether a e-mail address is valid.\n",
    "\n",
    "Usually, email addresses have one or a similar variant of the following forms:\n",
    "\n",
    "somename9@gmail.com\n",
    "\n",
    "some_name@yahoo.com\n",
    "\n",
    "contact@supstat.com.cn\n",
    "\n",
    "some.name@an-email.com\n",
    "\n",
    "some.name@an.email.com\n",
    "\n",
    "some_name@163.com\n",
    "\n",
    "\n",
    "Think about how to test if a string is a valid e-mail address?\n",
    "\n",
    "Generally, it can be splitted into three parts:\n",
    "\n",
    "user name(somename9, some_name)\n",
    "\n",
    "@\n",
    "\n",
    "domain name(gmail.com, yahoo.com, supstat.com.cn)\n",
    "Our goal is writing regular expressions to describe the \n",
    "pattern.\n",
    "\n",
    "**user name**\n",
    "Try to write a regular expression to match the following user names?\n",
    "\n",
    "somename9\n",
    "some_name\n",
    "contact\n",
    "some.name\n",
    "some.name\n",
    "some_name\n",
    "\n",
    "The first part, user name pattern, can be expressed:\n",
    "\n",
    "^[a-z0-9]+[_\\.]?[a-z0-9]+\n",
    "\n",
    "^[a-z0-9]+: begin with letter or numbers\n",
    "\n",
    "[_\\.]?: may contain a underline(_) or dot (.)\n",
    "\n",
    "[a-z0-9]+: following with numbers and letter"
   ]
  },
  {
   "cell_type": "code",
   "execution_count": 5,
   "metadata": {
    "collapsed": false
   },
   "outputs": [
    {
     "name": "stdout",
     "output_type": "stream",
     "text": [
      "Match!\n",
      "Match!\n",
      "Match!\n",
      "Match!\n",
      "Match!\n",
      "Match!\n"
     ]
    }
   ],
   "source": [
    "\n",
    "users = ['somename9', 'some_name', 'contact', 'some.name', 'some.name', 'some_name']\n",
    "for i in users:\n",
    "    if re.search('^[a-z0-9]+[_\\.]?[a-z0-9]+', i) != None:\n",
    "        print \"Match!\"\n",
    "    else:\n",
    "        print \"Does not match!\""
   ]
  },
  {
   "cell_type": "markdown",
   "metadata": {},
   "source": [
    "## Introduction to Numpy\n",
    "\n",
    "NumPy is a matrix type for python, and a large number of functions to operate on these matrices.\n",
    "\n",
    "It’s a library that makes doing calculations easy and faster to execute, because the calculations are done in C rather than python.\n",
    "\n",
    "There are two mainly data types in NumPy: the array and the matrix.\n",
    "\n",
    "The operations on arrays and matrices are slightly different.\n",
    "But both types allow you to remove loops.\n",
    "\n",
    "#### Array in Numpy\n",
    "Import array from numpy, add up two arrays directly without a for loop in regular Python."
   ]
  },
  {
   "cell_type": "code",
   "execution_count": 7,
   "metadata": {
    "collapsed": false
   },
   "outputs": [
    {
     "data": {
      "text/plain": [
       "array([[1, 2, 3],\n",
       "       [4, 5, 6]])"
      ]
     },
     "execution_count": 7,
     "metadata": {},
     "output_type": "execute_result"
    }
   ],
   "source": [
    "import numpy as np\n",
    "a1 = array([1, 1, 1])\n",
    "a2 = array([1, 2, 3])\n",
    "a1 + a2\n",
    "\n",
    "am = array([[1, 2, 3], [4, 5, 6]])\n",
    "am"
   ]
  },
  {
   "cell_type": "code",
   "execution_count": 4,
   "metadata": {
    "collapsed": false
   },
   "outputs": [
    {
     "data": {
      "text/plain": [
       "array([1, 2, 3])"
      ]
     },
     "execution_count": 4,
     "metadata": {},
     "output_type": "execute_result"
    }
   ],
   "source": [
    "am[0] # acess the first row"
   ]
  },
  {
   "cell_type": "code",
   "execution_count": 5,
   "metadata": {
    "collapsed": false
   },
   "outputs": [
    {
     "data": {
      "text/plain": [
       "2"
      ]
     },
     "execution_count": 5,
     "metadata": {},
     "output_type": "execute_result"
    }
   ],
   "source": [
    "am[0][1] # access the elements like lists"
   ]
  },
  {
   "cell_type": "code",
   "execution_count": 6,
   "metadata": {
    "collapsed": false
   },
   "outputs": [
    {
     "data": {
      "text/plain": [
       "2"
      ]
     },
     "execution_count": 6,
     "metadata": {},
     "output_type": "execute_result"
    }
   ],
   "source": [
    "am[0, 1] # same with am[0][1]. access the elements like a matrix"
   ]
  },
  {
   "cell_type": "code",
   "execution_count": 8,
   "metadata": {
    "collapsed": false
   },
   "outputs": [
    {
     "data": {
      "text/plain": [
       "array([0, 1, 2, 3, 4, 5, 6, 7, 8, 9])"
      ]
     },
     "execution_count": 8,
     "metadata": {},
     "output_type": "execute_result"
    }
   ],
   "source": [
    "np.arange(10) # start from 0 in default"
   ]
  },
  {
   "cell_type": "code",
   "execution_count": 9,
   "metadata": {
    "collapsed": false
   },
   "outputs": [
    {
     "data": {
      "text/plain": [
       "array([2, 3, 4, 5, 6, 7, 8, 9])"
      ]
     },
     "execution_count": 9,
     "metadata": {},
     "output_type": "execute_result"
    }
   ],
   "source": [
    "np.arange(2, 10) # start from 2"
   ]
  },
  {
   "cell_type": "code",
   "execution_count": 10,
   "metadata": {
    "collapsed": false
   },
   "outputs": [
    {
     "data": {
      "text/plain": [
       "array([ 1. ,  1.3,  1.6,  1.9,  2.2,  2.5,  2.8,  3.1,  3.4,  3.7,  4. ,\n",
       "        4.3,  4.6,  4.9,  5.2,  5.5,  5.8,  6.1,  6.4,  6.7,  7. ,  7.3,\n",
       "        7.6,  7.9,  8.2,  8.5,  8.8,  9.1,  9.4,  9.7])"
      ]
     },
     "execution_count": 10,
     "metadata": {},
     "output_type": "execute_result"
    }
   ],
   "source": [
    "np.arange(1, 10, 0.3) # start from 1 and increment by 0.5, end with a number less than 10."
   ]
  },
  {
   "cell_type": "code",
   "execution_count": 11,
   "metadata": {
    "collapsed": false,
    "scrolled": true
   },
   "outputs": [
    {
     "data": {
      "text/plain": [
       "array([ 10.        ,  10.20408163,  10.40816327,  10.6122449 ,\n",
       "        10.81632653,  11.02040816,  11.2244898 ,  11.42857143,\n",
       "        11.63265306,  11.83673469,  12.04081633,  12.24489796,\n",
       "        12.44897959,  12.65306122,  12.85714286,  13.06122449,\n",
       "        13.26530612,  13.46938776,  13.67346939,  13.87755102,\n",
       "        14.08163265,  14.28571429,  14.48979592,  14.69387755,\n",
       "        14.89795918,  15.10204082,  15.30612245,  15.51020408,\n",
       "        15.71428571,  15.91836735,  16.12244898,  16.32653061,\n",
       "        16.53061224,  16.73469388,  16.93877551,  17.14285714,\n",
       "        17.34693878,  17.55102041,  17.75510204,  17.95918367,\n",
       "        18.16326531,  18.36734694,  18.57142857,  18.7755102 ,\n",
       "        18.97959184,  19.18367347,  19.3877551 ,  19.59183673,\n",
       "        19.79591837,  20.        ])"
      ]
     },
     "execution_count": 11,
     "metadata": {},
     "output_type": "execute_result"
    }
   ],
   "source": [
    "np.linspace(10, 20) \n",
    "# start from 10, end with 20(included!), length is 50 in default"
   ]
  },
  {
   "cell_type": "code",
   "execution_count": 12,
   "metadata": {
    "collapsed": false
   },
   "outputs": [
    {
     "data": {
      "text/plain": [
       "array([ 10. ,  10.5,  11. ,  11.5,  12. ,  12.5,  13. ,  13.5,  14. ,\n",
       "        14.5,  15. ,  15.5,  16. ,  16.5,  17. ,  17.5,  18. ,  18.5,\n",
       "        19. ,  19.5,  20. ])"
      ]
     },
     "execution_count": 12,
     "metadata": {},
     "output_type": "execute_result"
    }
   ],
   "source": [
    "np.linspace(10, 20, 21) \n",
    "# start from 10, end with 20, and the length is 21."
   ]
  },
  {
   "cell_type": "code",
   "execution_count": 13,
   "metadata": {
    "collapsed": false
   },
   "outputs": [
    {
     "data": {
      "text/plain": [
       "array([[ 0.,  0.],\n",
       "       [ 0.,  0.],\n",
       "       [ 0.,  0.]])"
      ]
     },
     "execution_count": 13,
     "metadata": {},
     "output_type": "execute_result"
    }
   ],
   "source": [
    "np.zeros([3, 2]) # 3 rows, 2 columns"
   ]
  },
  {
   "cell_type": "code",
   "execution_count": 14,
   "metadata": {
    "collapsed": false
   },
   "outputs": [
    {
     "data": {
      "text/plain": [
       "array([[ 1.,  1.],\n",
       "       [ 1.,  1.],\n",
       "       [ 1.,  1.]])"
      ]
     },
     "execution_count": 14,
     "metadata": {},
     "output_type": "execute_result"
    }
   ],
   "source": [
    "np.ones([3, 2]) # 3 rows, 2 columns"
   ]
  },
  {
   "cell_type": "code",
   "execution_count": 15,
   "metadata": {
    "collapsed": false
   },
   "outputs": [
    {
     "data": {
      "text/plain": [
       "array([[ 1.,  0.,  0.],\n",
       "       [ 0.,  1.,  0.],\n",
       "       [ 0.,  0.,  1.]])"
      ]
     },
     "execution_count": 15,
     "metadata": {},
     "output_type": "execute_result"
    }
   ],
   "source": [
    "np.eye(3)"
   ]
  },
  {
   "cell_type": "code",
   "execution_count": 18,
   "metadata": {
    "collapsed": false
   },
   "outputs": [
    {
     "data": {
      "text/plain": [
       "matrix([[1, 2, 3]])"
      ]
     },
     "execution_count": 18,
     "metadata": {},
     "output_type": "execute_result"
    }
   ],
   "source": [
    "from numpy import mat, matrix\n",
    "m1 = mat([1, 2, 3])\n",
    "m1"
   ]
  },
  {
   "cell_type": "code",
   "execution_count": 19,
   "metadata": {
    "collapsed": false
   },
   "outputs": [
    {
     "name": "stdout",
     "output_type": "stream",
     "text": [
      "[[ 2  4  6]\n",
      " [ 8 10 12]]\n",
      "[[0 0 0]\n",
      " [0 0 0]]\n",
      "[[1 1 1]\n",
      " [1 1 1]]\n"
     ]
    }
   ],
   "source": [
    "m1 = mat([[1, 2, 3], [4, 5, 6]])\n",
    "m2 = mat([[1, 2, 3], [4, 5, 6]])\n",
    "print m1 + m2\n",
    "print m1 - m2\n",
    "print m1 / m2"
   ]
  },
  {
   "cell_type": "markdown",
   "metadata": {},
   "source": [
    "**Transpose**\n",
    "The transpose of a matrix is just flipping the rows and columns. For a matrix  A∈Rm×nA∈Rm×n , the transpose which is denoted by  AT∈Rn×mAT∈Rn×m . The elements of  ATAT  is given by:\n",
    "\n",
    "A(Transpose)ij=Aji\n",
    " \n",
    " \n",
    "The .T method is used to transpose a matrix, it can also be applied on a array object."
   ]
  },
  {
   "cell_type": "code",
   "execution_count": 20,
   "metadata": {
    "collapsed": false
   },
   "outputs": [
    {
     "data": {
      "text/plain": [
       "matrix([[1, 4],\n",
       "        [2, 5],\n",
       "        [3, 6]])"
      ]
     },
     "execution_count": 20,
     "metadata": {},
     "output_type": "execute_result"
    }
   ],
   "source": [
    "m1.T"
   ]
  },
  {
   "cell_type": "code",
   "execution_count": 21,
   "metadata": {
    "collapsed": false
   },
   "outputs": [
    {
     "data": {
      "text/plain": [
       "array([[1, 2, 3],\n",
       "       [4, 5, 6]])"
      ]
     },
     "execution_count": 21,
     "metadata": {},
     "output_type": "execute_result"
    }
   ],
   "source": [
    "array(m1)"
   ]
  },
  {
   "cell_type": "markdown",
   "metadata": {},
   "source": [
    "## Operation in Matrices\n",
    "Multiplication\n"
   ]
  },
  {
   "cell_type": "code",
   "execution_count": 22,
   "metadata": {
    "collapsed": false
   },
   "outputs": [
    {
     "name": "stdout",
     "output_type": "stream",
     "text": [
      "<type 'numpy.ndarray'>\n"
     ]
    },
    {
     "data": {
      "text/plain": [
       "matrix([[14, 32],\n",
       "        [32, 77]])"
      ]
     },
     "execution_count": 22,
     "metadata": {},
     "output_type": "execute_result"
    }
   ],
   "source": [
    "m2 = array(m2) # transfer the matrix m2 to a array object\n",
    "print type(m2)\n",
    "m1 * m2.T"
   ]
  },
  {
   "cell_type": "code",
   "execution_count": 23,
   "metadata": {
    "collapsed": false
   },
   "outputs": [
    {
     "name": "stdout",
     "output_type": "stream",
     "text": [
      "(2L, 3L)\n",
      "(2L, 3L)\n"
     ]
    }
   ],
   "source": [
    "from numpy import shape\n",
    "m1 = mat([[1, 2, 3], [4, 5, 6]])\n",
    "a1 = array([[1, 2, 3], [4, 5, 6]])\n",
    "print shape(m1)\n",
    "print shape(a1)"
   ]
  },
  {
   "cell_type": "code",
   "execution_count": 24,
   "metadata": {
    "collapsed": false
   },
   "outputs": [
    {
     "data": {
      "text/plain": [
       "array([[1],\n",
       "       [2],\n",
       "       [3],\n",
       "       [4],\n",
       "       [5],\n",
       "       [6]])"
      ]
     },
     "execution_count": 24,
     "metadata": {},
     "output_type": "execute_result"
    }
   ],
   "source": [
    "a1.reshape([6, 1])"
   ]
  },
  {
   "cell_type": "code",
   "execution_count": 26,
   "metadata": {
    "collapsed": false
   },
   "outputs": [
    {
     "data": {
      "text/plain": [
       "matrix([[ 1.,  0.],\n",
       "        [ 0.,  1.]])"
      ]
     },
     "execution_count": 26,
     "metadata": {},
     "output_type": "execute_result"
    }
   ],
   "source": [
    "# identity matrix\n",
    "m = mat([[1, .5], [.5, 1]])\n",
    "\n",
    "\n",
    "m * m.I"
   ]
  },
  {
   "cell_type": "code",
   "execution_count": 27,
   "metadata": {
    "collapsed": false
   },
   "outputs": [
    {
     "data": {
      "text/plain": [
       "matrix([[-2.66666667,  1.66666667],\n",
       "        [ 2.33333333, -1.33333333],\n",
       "        [-0.33333333,  0.33333333]])"
      ]
     },
     "execution_count": 27,
     "metadata": {},
     "output_type": "execute_result"
    }
   ],
   "source": [
    "m = mat([[1, 2, 3], [2, 3, 5]])\n",
    "mi = m.I\n",
    "mi"
   ]
  },
  {
   "cell_type": "code",
   "execution_count": 28,
   "metadata": {
    "collapsed": false
   },
   "outputs": [
    {
     "name": "stdout",
     "output_type": "stream",
     "text": [
      "2.0\n",
      "2.0\n"
     ]
    }
   ],
   "source": [
    "# To apply methods to Matrix, first change them to array\n",
    "\n",
    "m = mat([3, 2, 1])\n",
    "a = array(m) # convert a matrix to array\n",
    "print a.mean()\n",
    "print m.mean()"
   ]
  },
  {
   "cell_type": "code",
   "execution_count": 29,
   "metadata": {
    "collapsed": false
   },
   "outputs": [
    {
     "data": {
      "text/plain": [
       "matrix([[1, 2, 3]])"
      ]
     },
     "execution_count": 29,
     "metadata": {},
     "output_type": "execute_result"
    }
   ],
   "source": [
    "m = mat([3, 2, 1])\n",
    "m.sort()\n",
    "m"
   ]
  },
  {
   "cell_type": "markdown",
   "metadata": {},
   "source": [
    "### Random sampling in Numpy\n",
    "\n",
    "There is a group of functions used to generate random data and sampling method:\n",
    "\n",
    "**rand(d0, d1, ..., dn)**: Random values in a given shape from [0, 1] uniformly.\n",
    "\n",
    "**randn(d0, d1, ..., dn)**: Return a sample (or samples) from the “standard normal” distribution.\n",
    "\n",
    "**randint(low[, high, size])**: Return random integers from low (inclusive) to high (exclusive).\n",
    "\n",
    "**random_integers(low[, high, size])**: Return random integers between low and high, inclusive.\n",
    "\n",
    "**random_sample([size])**: Return random floats in the half-open interval [0.0, 1.0).\n",
    "\n",
    "**random([size])**: Return random floats in the half-open interval [0.0, 1.0).\n",
    "**ranf([size])**: Return random floats in the half-open interval [0.0, 1.0).\n",
    "\n",
    "**sample([size])**: Return random floats in the half-open interval [0.0, 1.0).\n",
    "\n",
    "**choice(a[, size, replace, p])**: Generates a random sample from a given 1-D array"
   ]
  },
  {
   "cell_type": "code",
   "execution_count": 30,
   "metadata": {
    "collapsed": false
   },
   "outputs": [
    {
     "data": {
      "text/plain": [
       "array([[ 0.81360046,  0.98059833,  0.76076875],\n",
       "       [ 0.05495884,  0.35488823,  0.21685074]])"
      ]
     },
     "execution_count": 30,
     "metadata": {},
     "output_type": "execute_result"
    }
   ],
   "source": [
    "#Ramndom sampling\n",
    "from numpy import random\n",
    "random.rand(2, 3)"
   ]
  },
  {
   "cell_type": "code",
   "execution_count": 31,
   "metadata": {
    "collapsed": false
   },
   "outputs": [
    {
     "data": {
      "text/plain": [
       "array([[ 1.61109945,  1.21366851, -0.76293259],\n",
       "       [-0.38171826, -0.17931692, -0.63220506]])"
      ]
     },
     "execution_count": 31,
     "metadata": {},
     "output_type": "execute_result"
    }
   ],
   "source": [
    "random.randn(2, 3)"
   ]
  },
  {
   "cell_type": "code",
   "execution_count": 32,
   "metadata": {
    "collapsed": false
   },
   "outputs": [
    {
     "data": {
      "text/plain": [
       "array([3, 2, 4, 1, 2, 0, 0, 1, 3, 1])"
      ]
     },
     "execution_count": 32,
     "metadata": {},
     "output_type": "execute_result"
    }
   ],
   "source": [
    "random.randint(5, size=10)"
   ]
  },
  {
   "cell_type": "code",
   "execution_count": 33,
   "metadata": {
    "collapsed": false
   },
   "outputs": [
    {
     "data": {
      "text/plain": [
       "array([[5, 4, 1, 1, 3],\n",
       "       [2, 4, 2, 1, 1],\n",
       "       [3, 3, 5, 4, 1],\n",
       "       [3, 1, 2, 5, 1],\n",
       "       [3, 2, 1, 2, 2]])"
      ]
     },
     "execution_count": 33,
     "metadata": {},
     "output_type": "execute_result"
    }
   ],
   "source": [
    "random.randint(low=1, high=6, size=(5, 5))"
   ]
  },
  {
   "cell_type": "code",
   "execution_count": 34,
   "metadata": {
    "collapsed": false
   },
   "outputs": [
    {
     "data": {
      "text/plain": [
       "array([[ 0.68913312,  0.21433103,  0.61686543],\n",
       "       [ 0.31752882,  0.22844929,  0.59004563],\n",
       "       [ 0.77072496,  0.88846271,  0.45224285]])"
      ]
     },
     "execution_count": 34,
     "metadata": {},
     "output_type": "execute_result"
    }
   ],
   "source": [
    "random.rand(3, 3) # 3-3 array"
   ]
  },
  {
   "cell_type": "code",
   "execution_count": 35,
   "metadata": {
    "collapsed": false
   },
   "outputs": [
    {
     "data": {
      "text/plain": [
       "array([ 3,  8,  2,  1, 34,  2,  2, 34,  8, 13])"
      ]
     },
     "execution_count": 35,
     "metadata": {},
     "output_type": "execute_result"
    }
   ],
   "source": [
    "all_set = [1, 2, 3, 5, 8, 13, 21, 34, 55]\n",
    "random.choice(all_set, size=10)"
   ]
  },
  {
   "cell_type": "code",
   "execution_count": 36,
   "metadata": {
    "collapsed": false
   },
   "outputs": [
    {
     "data": {
      "text/plain": [
       "array([ 1, 13,  2, 21,  5])"
      ]
     },
     "execution_count": 36,
     "metadata": {},
     "output_type": "execute_result"
    }
   ],
   "source": [
    "random.choice(all_set, size=5, replace=False)"
   ]
  },
  {
   "cell_type": "markdown",
   "metadata": {},
   "source": [
    "### More Functions\n",
    "**Function\tDescription**\n",
    "abs, fabs\tCompute the absolute value element-wise for integer, floating point, or complex values. Use fabs as a faster alternative for non-complex-valued data.\n",
    "\n",
    "sqrt\tCompute the square root of each element.\n",
    "\n",
    "square\tCompute the square of each element.\n",
    "\n",
    "exp\tCompute the exponent e x of each element\n",
    "\n",
    "log, log10, log2, log1p\tNatural logarithm (base e), log \n",
    "\n",
    "base 10, log base 2, and log(1 + x), respectively\n",
    "\n",
    "sign\tCompute the sign of each element: 1 (positive), 0 (zero), or -1 (negative)\n",
    "\n",
    "ceil\tCompute the ceiling of each element, i.e. the \n",
    "\n",
    "smallest integer greater than or equal to each element\n",
    "\n",
    "floor\tCompute the floor of each element, i.e. the \n",
    "\n",
    "largest integer less than or equal to each element\n",
    "\n",
    "rint\tRound elements to the nearest integer, preserving the dtype\n",
    "\n",
    "modf\tReturn fractional and integral parts of array as separate array\n",
    "\n",
    "isnan\tReturn boolean array indicating whether each value is NaN (Not a Number)\n",
    "\n",
    "isfinite, isinf\tReturn boolean array indicating whether each element is finite (non- inf , non- NaN ) or \n",
    "infinite, respectively\n",
    "\n",
    "cos, cosh, sin, sinh, tan, tanh\tRegular and hyperbolic trigonometric functions\n",
    "\n",
    "arccos, arccosh, arcsin, arcsinh, arctan, arctanh\tInverse trigonometric functions"
   ]
  },
  {
   "cell_type": "markdown",
   "metadata": {},
   "source": [
    "# Mathematics review: Probability Theory\n",
    "\n",
    "## Probability\n",
    "\n",
    "Probabilities are real numbers between 0 and 1.\n",
    "\n",
    "All possible events for a trial sum to 1.\n",
    "\n",
    "If two events are independent, say A and B, the probability of A and B happening is:\n",
    "\n",
    "P(AandB)=P(A)P(B)P(AandB)=P(A)P(B) \n",
    "\n",
    "The probability of A or B happening is:\n",
    "\n",
    "P(AorB)=P(A)+P(B)P(AorB)=P(A)+P(B) \n",
    "\n",
    "If two events are not independent, we might be interested in their conditional probability.\n",
    "\n",
    "P(A|B)=P(AandB)P(B)P(A|B)=P(AandB)P(B) \n",
    "\n",
    "**What is the probability of  A|BA|B  if they are independent?**\n",
    "\n",
    "**What is the probability of  A|BA|B  if they are mutually exclusive?**\n",
    "\n",
    "### Descriptive statistics\n",
    "\n",
    "Descriptive statistics are what you are probably most familiar with - some examples are the mean and variance of a sample.\n",
    "\n",
    "These are measures of central tendency(mean), spread(variance) and shape(skewness, kurtosis) respectively.\n",
    "\n",
    "**Mean/Average**\n",
    "\n",
    "It can be visualized as the center of gravity of the data, usually denoted by  μ  or  E(x) .\n",
    "\n",
    "μ=E(x)=1n∑i=1nxi\n",
    "μ=E(x)=1n∑i=1nxi\n",
    " \n",
    "There is a built-in function sum in python, but there is no mean.\n",
    "\n",
    "Write a function to do this calculation will enhance your understanding."
   ]
  },
  {
   "cell_type": "code",
   "execution_count": 37,
   "metadata": {
    "collapsed": true
   },
   "outputs": [],
   "source": [
    "def mean(x):\n",
    "    return sum(x) / len(x)"
   ]
  },
  {
   "cell_type": "code",
   "execution_count": 38,
   "metadata": {
    "collapsed": false
   },
   "outputs": [
    {
     "data": {
      "text/plain": [
       "3"
      ]
     },
     "execution_count": 38,
     "metadata": {},
     "output_type": "execute_result"
    }
   ],
   "source": [
    "mean([1, 2, 3, 4, 5])"
   ]
  },
  {
   "cell_type": "code",
   "execution_count": 39,
   "metadata": {
    "collapsed": false
   },
   "outputs": [
    {
     "name": "stdout",
     "output_type": "stream",
     "text": [
      "1.5\n",
      "3.0\n"
     ]
    }
   ],
   "source": [
    "import numpy as np\n",
    "print np.mean([1, 2])\n",
    "print np.mean([1, 2, 3, 4, 5])"
   ]
  },
  {
   "cell_type": "markdown",
   "metadata": {},
   "source": [
    "### Variance\n",
    "Variance measures the spread of a distribution, defined as the mean quadratic deviation of the variate from its mean value.\n",
    "\n",
    "σ2=var(x)=E[(x−μ)2]\n",
    "\n",
    "σ2=var(x)=E[(x−μ)2]\n",
    " \n",
    "Here the variance is denoted by  σ2σ2 , and  σσ  refers to the standard deviation."
   ]
  },
  {
   "cell_type": "code",
   "execution_count": 40,
   "metadata": {
    "collapsed": true
   },
   "outputs": [],
   "source": [
    "def var(x):\n",
    "    xMean = mean(x)\n",
    "    xCenter = [(i - xMean) ** 2 for i in x] \n",
    "    return mean(xCenter)"
   ]
  },
  {
   "cell_type": "code",
   "execution_count": 41,
   "metadata": {
    "collapsed": false
   },
   "outputs": [
    {
     "data": {
      "text/plain": [
       "2"
      ]
     },
     "execution_count": 41,
     "metadata": {},
     "output_type": "execute_result"
    }
   ],
   "source": [
    "var([1, 2 ,3 ,4, 5])"
   ]
  },
  {
   "cell_type": "code",
   "execution_count": 42,
   "metadata": {
    "collapsed": false
   },
   "outputs": [
    {
     "name": "stdout",
     "output_type": "stream",
     "text": [
      "2.0\n",
      "0.25\n"
     ]
    }
   ],
   "source": [
    "# Using Numpy directly\n",
    "print np.var([1, 2 ,3 ,4, 5])\n",
    "print np.var([1, 2])"
   ]
  },
  {
   "cell_type": "markdown",
   "metadata": {},
   "source": [
    "### Skewness\n",
    "\n",
    "Skewness is a measure of the asymmetry of the probability distribution of a real-valued random variable about its mean.\n",
    "\n",
    "γ=E((x−μ)**3/σ)\n",
    " "
   ]
  },
  {
   "cell_type": "code",
   "execution_count": 43,
   "metadata": {
    "collapsed": false
   },
   "outputs": [
    {
     "data": {
      "text/plain": [
       "0.0"
      ]
     },
     "execution_count": 43,
     "metadata": {},
     "output_type": "execute_result"
    }
   ],
   "source": [
    "x = [1, 2, 3, 4, 5]\n",
    "def skew(x):\n",
    "    x = np.array(x)\n",
    "    return np.mean(((x - np.mean(x)) / np.std(x)) ** 3)\n",
    "skew(x)"
   ]
  },
  {
   "cell_type": "code",
   "execution_count": 44,
   "metadata": {
    "collapsed": false
   },
   "outputs": [
    {
     "data": {
      "text/plain": [
       "<matplotlib.text.Text at 0x87d9a58>"
      ]
     },
     "execution_count": 44,
     "metadata": {},
     "output_type": "execute_result"
    },
    {
     "data": {
      "image/png": "[encoded data removed]",
      "text/plain": [
       "<matplotlib.figure.Figure at 0x6de29b0>"
      ]
     },
     "metadata": {},
     "output_type": "display_data"
    }
   ],
   "source": [
    "%matplotlib inline\n",
    "import matplotlib.pyplot as plt\n",
    "plt.rcParams['figure.figsize'] = 12, 6\n",
    "f, ax = plt.subplots(1, 3)\n",
    "ax[0].hist([1, 2, 3, 4, 5])\n",
    "ax[0].set_title('symmetric: $skewness = 0$')\n",
    "ax[1].hist([1, 2, 2, 3, 4])\n",
    "ax[1].set_title('non-symmetric: $skewness = 0.27$')\n",
    "ax[2].hist([1, 2, 3, 3, 4])\n",
    "ax[2].set_title('non-symmetric: $skewness = -0.27$')"
   ]
  },
  {
   "cell_type": "markdown",
   "metadata": {},
   "source": [
    "### Kurtosis\n",
    "\n",
    "Kurtosis is a measure of the \"peakedness\" of the data. In a similar way to the concept of skewness, kurtosis is a descriptor of the shape of a probability distribution.\n",
    "\n",
    "β=E(x−μ)**4(E(x−μ)**2)**2 = E((x−μ)**4/σ2)\n",
    " "
   ]
  },
  {
   "cell_type": "code",
   "execution_count": 45,
   "metadata": {
    "collapsed": false
   },
   "outputs": [
    {
     "data": {
      "text/plain": [
       "1.7"
      ]
     },
     "execution_count": 45,
     "metadata": {},
     "output_type": "execute_result"
    }
   ],
   "source": [
    "def kurtosis(x):\n",
    "    x = np.array(x)\n",
    "    return np.mean((x - np.mean(x))**4) / np.var(x)**2\n",
    "kurtosis([1, 2, 3 ,4 ,5])"
   ]
  },
  {
   "cell_type": "code",
   "execution_count": 46,
   "metadata": {
    "collapsed": false
   },
   "outputs": [
    {
     "data": {
      "text/plain": [
       "1.9556213017751471"
      ]
     },
     "execution_count": 46,
     "metadata": {},
     "output_type": "execute_result"
    }
   ],
   "source": [
    "kurtosis([1, 2, 3, 3, 4])"
   ]
  },
  {
   "cell_type": "code",
   "execution_count": 47,
   "metadata": {
    "collapsed": false
   },
   "outputs": [
    {
     "data": {
      "text/plain": [
       "<matplotlib.text.Text at 0x90b25f8>"
      ]
     },
     "execution_count": 47,
     "metadata": {},
     "output_type": "execute_result"
    },
    {
     "data": {
      "image/png": "[encoded data removed]",
      "text/plain": [
       "<matplotlib.figure.Figure at 0x883abe0>"
      ]
     },
     "metadata": {},
     "output_type": "display_data"
    }
   ],
   "source": [
    "f, ax = plt.subplots(1, 3)\n",
    "ax[0].hist([1, 2, 3, 4, 5])\n",
    "ax[0].set_title('$kurtosis = 1.7$')\n",
    "ax[1].hist([1, 2, 2, 3, 4])\n",
    "ax[1].set_title('$kurtosis = 1.96$')\n",
    "ax[2].hist([1, 2, 3, 3, 4])\n",
    "ax[2].set_title('$kurtosis = 1.96$')"
   ]
  },
  {
   "cell_type": "markdown",
   "metadata": {},
   "source": [
    "### Distributions\n",
    "\n",
    "In addition to looking at summary values, we can also look at the data as a whole and see how it is shaped, or distributed.\n",
    "\n",
    "One of the easiest ways is through a histogram. We choose a number of buckets and store the count of each member that belongs to that bucket.\n",
    "What data strucutes could we use for representing histograms?\n",
    "\n",
    "The mode is the most frequent value. How would we find that with your histogram data structure?\n",
    "\n",
    "### Matplotlib\n",
    "\n",
    "**pyplot**\n",
    "\n",
    "We will mainly learn the sub-module pyplot in matplotlib."
   ]
  },
  {
   "cell_type": "code",
   "execution_count": 51,
   "metadata": {
    "collapsed": false
   },
   "outputs": [
    {
     "name": "stdout",
     "output_type": "stream",
     "text": [
      "\n",
      "Provides a MATLAB-like plotting framework.\n",
      "\n",
      ":mod:`~matplotlib.pylab` combines pyplot with numpy into a single namespace.\n",
      "This is convenient for interactive work, but for programming it\n",
      "is recommended that the namespaces be kept separate, e.g.::\n",
      "\n",
      "    import numpy as np\n",
      "    import matplotlib.pyplot as plt\n",
      "\n",
      "    x = np.arange(0, 5, 0.1);\n",
      "    y = np.sin(x)\n",
      "    plt.plot(x, y)\n",
      "\n",
      "\n",
      "['Annotation', 'Arrow', 'Artist', 'AutoLocator', 'Axes', 'Button', 'Circle', 'Figure', 'FigureCanvasBase', 'FixedFormatter', 'FixedLocator', 'FormatStrFormatter', 'Formatter', 'FuncFormatter', 'GridSpec', 'IndexLocator', 'Line2D', 'LinearLocator', 'Locator', 'LogFormatter', 'LogFormatterExponent', 'LogFormatterMathtext', 'LogLocator', 'MaxNLocator', 'MultipleLocator', 'Normalize', 'NullFormatter', 'NullLocator', 'PolarAxes', 'Polygon', 'Rectangle', 'ScalarFormatter', 'Slider', 'Subplot', 'SubplotTool', 'Text', 'TickHelper', 'Widget', '_INSTALL_FIG_OBSERVER', '_IP_REGISTERED', '__builtins__', '__doc__', '__file__', '__name__', '__package__', '_auto_draw_if_interactive', '_autogen_docstring', '_backend_mod', '_backend_selection', '_imread', '_imsave', '_interactive_bk', '_pylab_helpers', '_setp', '_setup_pyplot_info_docstrings', '_show', '_string_to_bool', 'absolute_import', 'acorr', 'angle_spectrum', 'annotate', 'arrow', 'autoscale', 'autumn', 'axes', 'axhline', 'axhspan', 'axis', 'axvline', 'axvspan', 'bar', 'barbs', 'barh', 'bone', 'box', 'boxplot', 'broken_barh', 'cla', 'clabel', 'clf', 'clim', 'close', 'cm', 'cohere', 'colorbar', 'colormaps', 'colors', 'connect', 'contour', 'contourf', 'cool', 'copper', 'csd', 'cycler', 'dedent', 'delaxes', 'disconnect', 'division', 'docstring', 'draw', 'draw_all', 'draw_if_interactive', 'errorbar', 'eventplot', 'figaspect', 'figimage', 'figlegend', 'fignum_exists', 'figtext', 'figure', 'fill', 'fill_between', 'fill_betweenx', 'findobj', 'flag', 'gca', 'gcf', 'gci', 'get', 'get_backend', 'get_cmap', 'get_current_fig_manager', 'get_figlabels', 'get_fignums', 'get_plot_commands', 'get_scale_docs', 'get_scale_names', 'getp', 'ginput', 'gray', 'grid', 'hexbin', 'hist', 'hist2d', 'hlines', 'hold', 'hot', 'hsv', 'imread', 'imsave', 'imshow', 'inferno', 'install_repl_displayhook', 'interactive', 'ioff', 'ion', 'is_numlike', 'is_string_like', 'ishold', 'isinteractive', 'jet', 'legend', 'locator_params', 'loglog', 'magma', 'magnitude_spectrum', 'margins', 'matplotlib', 'matshow', 'minorticks_off', 'minorticks_on', 'mlab', 'new_figure_manager', 'np', 'over', 'pause', 'pcolor', 'pcolormesh', 'phase_spectrum', 'pie', 'pink', 'plasma', 'plot', 'plot_date', 'plotfile', 'plotting', 'polar', 'print_function', 'prism', 'psd', 'pylab_setup', 'quiver', 'quiverkey', 'rc', 'rcParams', 'rcParamsDefault', 'rc_context', 'rcdefaults', 'register_cmap', 'rgrids', 'savefig', 'sca', 'scatter', 'sci', 'semilogx', 'semilogy', 'set_cmap', 'setp', 'show', 'silent_list', 'six', 'specgram', 'spectral', 'spring', 'spy', 'stackplot', 'stem', 'step', 'streamplot', 'style', 'subplot', 'subplot2grid', 'subplot_tool', 'subplots', 'subplots_adjust', 'summer', 'suptitle', 'switch_backend', 'sys', 'table', 'text', 'thetagrids', 'tick_params', 'ticklabel_format', 'tight_layout', 'title', 'tricontour', 'tricontourf', 'tripcolor', 'triplot', 'twinx', 'twiny', 'types', 'unicode_literals', 'uninstall_repl_displayhook', 'violinplot', 'viridis', 'vlines', 'waitforbuttonpress', 'warnings', 'winter', 'xcorr', 'xkcd', 'xlabel', 'xlim', 'xscale', 'xticks', 'ylabel', 'ylim', 'yscale', 'yticks']\n"
     ]
    }
   ],
   "source": [
    "import matplotlib.pyplot as plt\n",
    "print plt.__doc__\n",
    "print dir(plt)"
   ]
  },
  {
   "cell_type": "code",
   "execution_count": 53,
   "metadata": {
    "collapsed": false
   },
   "outputs": [],
   "source": [
    "%matplotlib inline"
   ]
  },
  {
   "cell_type": "code",
   "execution_count": 54,
   "metadata": {
    "collapsed": false
   },
   "outputs": [
    {
     "data": {
      "text/plain": [
       "[<matplotlib.lines.Line2D at 0x2d1ccf8>]"
      ]
     },
     "execution_count": 54,
     "metadata": {},
     "output_type": "execute_result"
    },
    {
     "data": {
      "image/png": "[encoded data removed]",
      "text/plain": [
       "<matplotlib.figure.Figure at 0x6de28d0>"
      ]
     },
     "metadata": {},
     "output_type": "display_data"
    }
   ],
   "source": [
    "x = np.arange(0, 5, 0.1);\n",
    "y = np.sin(x)\n",
    "plt.plot(x, y)"
   ]
  },
  {
   "cell_type": "code",
   "execution_count": 55,
   "metadata": {
    "collapsed": false
   },
   "outputs": [
    {
     "data": {
      "text/plain": [
       "[<matplotlib.lines.Line2D at 0x949fcc0>]"
      ]
     },
     "execution_count": 55,
     "metadata": {},
     "output_type": "execute_result"
    },
    {
     "data": {
      "image/png": "[encoded data removed]",
      "text/plain": [
       "<matplotlib.figure.Figure at 0x8a56ef0>"
      ]
     },
     "metadata": {},
     "output_type": "display_data"
    }
   ],
   "source": [
    "plt.plot(x, y, '.') # point marker"
   ]
  },
  {
   "cell_type": "markdown",
   "metadata": {},
   "source": [
    "\n",
    "### color & legend\n",
    "**\n",
    "Add two more arguments**: color and label(for legend).\n",
    "\n",
    "Then plt.legend will automatically generate legends, loc is used to define the location of legend.\n",
    "\n",
    "loc:\n",
    "\n",
    "1: topright\n",
    "\n",
    "2: topleft\n",
    "\n",
    "3: bottomleft\n",
    "\n",
    "4: bottomright"
   ]
  },
  {
   "cell_type": "code",
   "execution_count": 57,
   "metadata": {
    "collapsed": false
   },
   "outputs": [
    {
     "data": {
      "text/plain": [
       "<matplotlib.legend.Legend at 0x9956710>"
      ]
     },
     "execution_count": 57,
     "metadata": {},
     "output_type": "execute_result"
    },
    {
     "data": {
      "image/png": "[encoded data removed]",
      "text/plain": [
       "<matplotlib.figure.Figure at 0x94b07b8>"
      ]
     },
     "metadata": {},
     "output_type": "display_data"
    }
   ],
   "source": [
    "y2 = np.cos(x)\n",
    "plt.plot(x, y, color = 'blue', label='sin(x)')\n",
    "plt.plot(x, y2, color = 'red', label='cos(x)')\n",
    "plt.legend(loc=1)"
   ]
  },
  {
   "cell_type": "markdown",
   "metadata": {},
   "source": [
    "### fill with color\n",
    "\n",
    "plt.fill used to fill a arbitrary area with color. The area is defined by a series of points."
   ]
  },
  {
   "cell_type": "code",
   "execution_count": 58,
   "metadata": {
    "collapsed": false,
    "scrolled": true
   },
   "outputs": [
    {
     "data": {
      "text/plain": [
       "[<matplotlib.patches.Polygon at 0x9d96c18>]"
      ]
     },
     "execution_count": 58,
     "metadata": {},
     "output_type": "execute_result"
    },
    {
     "data": {
      "image/png": "[encoded data removed]",
      "text/plain": [
       "<matplotlib.figure.Figure at 0x98d94a8>"
      ]
     },
     "metadata": {},
     "output_type": "display_data"
    }
   ],
   "source": [
    "plt.plot(x, y, color = 'blue', label='sin(x)')\n",
    "plt.plot(x, y2, color = 'red', label='cos(x)')\n",
    "plt.legend(loc=1)\n",
    "\n",
    "intersection = np.linspace(0.7854044, 3.926992, 100) \n",
    "# 0.78 and 3.92 is the root of sin(x) - cos(x) = 0\n",
    "plt.fill(intersection, np.sin(intersection), color='grey', alpha = 0.3)\n",
    "plt.fill(intersection, np.cos(intersection), color='grey', alpha = 0.3)\n",
    "# alpha is used to define the transparency"
   ]
  },
  {
   "cell_type": "markdown",
   "metadata": {},
   "source": [
    "### title & text\n",
    "\n",
    "plt.title: add a title.\n",
    "\n",
    "plt.text: add text in the figure.\n",
    "\n",
    "Note that you can add mathematical expressions both in text and title.\n",
    "\n",
    "The way to add mathematical expressions is similar to  LatexLatex ."
   ]
  },
  {
   "cell_type": "code",
   "execution_count": 59,
   "metadata": {
    "collapsed": false,
    "scrolled": true
   },
   "outputs": [
    {
     "data": {
      "text/plain": [
       "<matplotlib.text.Text at 0x9eb49b0>"
      ]
     },
     "execution_count": 59,
     "metadata": {},
     "output_type": "execute_result"
    },
    {
     "data": {
      "image/png": "[encoded data removed]",
      "text/plain": [
       "<matplotlib.figure.Figure at 0x9c75908>"
      ]
     },
     "metadata": {},
     "output_type": "display_data"
    }
   ],
   "source": [
    "y2 = np.cos(x)\n",
    "plt.plot(x, y, color = 'blue', label='sin(x)')\n",
    "plt.plot(x, y2, color = 'red', label='cos(x)')\n",
    "plt.legend(loc=1)\n",
    "### fill polygon\n",
    "plt.fill(np.concatenate([intersection, intersection[::-1]]), \\\n",
    "        np.concatenate([np.sin(intersection), np.cos(intersection[::-1])]), \\\n",
    "        color= 'grey', alpha = 0.3)\n",
    "### add title and text\n",
    "plt.title('$sin(x)$ VS $cos(x)$', fontsize = 25)\n",
    "plt.text(1.6, 0, '$sin(x) > cos(x)$', fontsize = 20)\n",
    "plt.text(1, -0.5, '$y = cos(x)$', fontsize = 20)\n",
    "plt.text(3, 0.3, '$y = sin(x)$', fontsize = 20)"
   ]
  },
  {
   "cell_type": "markdown",
   "metadata": {},
   "source": [
    "### axis\n",
    "\n",
    "plt.xlabel\n",
    "\n",
    "plt.ylabel\n",
    "\n",
    "plt.xticks\n",
    "\n",
    "plt.yticks\n",
    "\n",
    "plt.xlim\n",
    "\n",
    "plt.ylim\n",
    "\n",
    "These functions are used to control the labels, ticks and ranges on the  xx and  yy  axis respectively."
   ]
  },
  {
   "cell_type": "code",
   "execution_count": 60,
   "metadata": {
    "collapsed": false
   },
   "outputs": [
    {
     "data": {
      "text/plain": [
       "(-1.5, 1.5)"
      ]
     },
     "execution_count": 60,
     "metadata": {},
     "output_type": "execute_result"
    },
    {
     "data": {
      "image/png": "[encoded data removed]",
      "text/plain": [
       "<matplotlib.figure.Figure at 0x9df8da0>"
      ]
     },
     "metadata": {},
     "output_type": "display_data"
    }
   ],
   "source": [
    "y2 = np.cos(x)\n",
    "plt.plot(x, y, color = 'blue', label='sin(x)')\n",
    "plt.plot(x, y2, color = 'red', label='cos(x)')\n",
    "plt.legend(loc=1)\n",
    "### fill polygon\n",
    "plt.fill(np.concatenate([intersection, intersection[::-1]]), \\\n",
    "        np.concatenate([np.sin(intersection), np.cos(intersection[::-1])]), \\\n",
    "        color= 'grey', alpha = 0.3)\n",
    "### add title and text\n",
    "plt.title('$sin(x)$ VS $cos(x)$', fontsize = 25)\n",
    "plt.text(1.6, 0, '$sin(x) > cos(x)$', fontsize = 18)\n",
    "plt.text(1, -0.5, '$y = cos(x)$', fontsize = 20)\n",
    "plt.text(3, 0.3, '$y = sin(x)$', fontsize = 20)\n",
    "### axis\n",
    "plt.xlabel('x', fontsize = 15)\n",
    "plt.ylabel('y', fontsize = 15)\n",
    "plt.xticks(fontsize=10,rotation=45);\n",
    "plt.yticks(fontsize=10,rotation=45);\n",
    "plt.xlim(-0.5, 5.5)\n",
    "plt.ylim(-1.5, 1.5)"
   ]
  },
  {
   "cell_type": "markdown",
   "metadata": {},
   "source": [
    "### Statistical plots\n",
    "\n",
    "Commonly used plots:\n",
    "\n",
    "scatter: show the correlation of two variables.\n",
    "\n",
    "histogram: show the distribution of continuous variable.\n",
    "\n",
    "barplot: show the difference between factors.\n",
    "\n",
    "boxplot: show the quantiles."
   ]
  },
  {
   "cell_type": "markdown",
   "metadata": {},
   "source": [
    "### Save\n",
    "Use the function savefig to save the picture."
   ]
  },
  {
   "cell_type": "code",
   "execution_count": 65,
   "metadata": {
    "collapsed": false
   },
   "outputs": [
    {
     "data": {
      "image/png": "[encoded data removed]",
      "text/plain": [
       "<matplotlib.figure.Figure at 0xc1a9390>"
      ]
     },
     "metadata": {},
     "output_type": "display_data"
    }
   ],
   "source": [
    "plt.rcParams['figure.figsize'] = 12, 6\n",
    "import numpy as np\n",
    "x = np.linspace(-5, 5, 100)\n",
    "y = np.sin(x)\n",
    "y2 = np.cos(x)\n",
    "plt.plot(x, y, color = 'blue', label='sin(x)')\n",
    "plt.plot(x, y2, color = 'red', label='cos(x)')\n",
    "plt.legend(loc=1)\n",
    "### fill polygon\n",
    "intersection = np.linspace(0.7854044, 3.926992, 100) \n",
    "plt.fill(np.concatenate([intersection, intersection[::-1]]), \\\n",
    "        np.concatenate([np.sin(intersection), np.cos(intersection[::-1])]), \\\n",
    "        color= 'grey', alpha = 0.3)\n",
    "### save\n",
    "plt.savefig('matplot.png')"
   ]
  },
  {
   "cell_type": "code",
   "execution_count": 66,
   "metadata": {
    "collapsed": false
   },
   "outputs": [
    {
     "data": {
      "image/png": "cGljL21hdHBsb3QucG5n\n",
      "text/plain": [
       "<IPython.core.display.Image object>"
      ]
     },
     "execution_count": 66,
     "metadata": {},
     "output_type": "execute_result"
    }
   ],
   "source": [
    "from IPython.display import Image\n",
    "Image('pic/matplot.png')"
   ]
  },
  {
   "cell_type": "markdown",
   "metadata": {},
   "source": [
    "# Scipy"
   ]
  },
  {
   "cell_type": "code",
   "execution_count": 67,
   "metadata": {
    "collapsed": false
   },
   "outputs": [
    {
     "name": "stdout",
     "output_type": "stream",
     "text": [
      "==========================================\n",
      "Statistical functions (:mod:`scipy.stats`)\n",
      "==========================================\n",
      "\n",
      ".. module:: scipy.stats\n",
      "\n",
      "This module contains a large number of probability distributions as\n",
      "well as a growing library of statistical functions.\n",
      "\n",
      "Each univariate distribution is an instance of a subclass of `rv_continuous`\n",
      "(`rv_discrete` for discrete distributions):\n",
      "\n",
      ".. autosummary::\n",
      "   :toctree: generated/\n",
      "\n",
      "   rv_continuous\n",
      "   rv_discrete\n",
      "\n",
      "Continuous distributions\n",
      "========================\n",
      "\n",
      ".. autosummary::\n",
      "   :toctree: generated/\n",
      "\n",
      "   alpha             -- Alpha\n",
      "   anglit            -- Anglit\n",
      "   arcsine           -- Arcsine\n",
      "   beta              -- Beta\n",
      "   betaprime         -- Beta Prime\n",
      "   bradford          -- Bradford\n",
      "   burr              -- Burr (Type III)\n",
      "   burr12            -- Burr (Type XII)\n",
      "   cauchy            -- Cauchy\n",
      "   chi               -- Chi\n",
      "   chi2              -- Chi-squared\n",
      "   cosine            -- Cosine\n",
      "   dgamma            -- Double Gamma\n",
      "   dweibull          -- Double Weibull\n",
      "   erlang            -- Erlang\n",
      "   expon             -- Exponential\n",
      "   exponnorm         -- Exponentially Modified Normal\n",
      "   exponweib         -- Exponentiated Weibull\n",
      "   exponpow          -- Exponential Power\n",
      "   f                 -- F (Snecdor F)\n",
      "   fatiguelife       -- Fatigue Life (Birnbaum-Saunders)\n",
      "   fisk              -- Fisk\n",
      "   foldcauchy        -- Folded Cauchy\n",
      "   foldnorm          -- Folded Normal\n",
      "   frechet_r         -- Frechet Right Sided, Extreme Value Type II (Extreme LB) or weibull_min\n",
      "   frechet_l         -- Frechet Left Sided, Weibull_max\n",
      "   genlogistic       -- Generalized Logistic\n",
      "   gennorm           -- Generalized normal\n",
      "   genpareto         -- Generalized Pareto\n",
      "   genexpon          -- Generalized Exponential\n",
      "   genextreme        -- Generalized Extreme Value\n",
      "   gausshyper        -- Gauss Hypergeometric\n",
      "   gamma             -- Gamma\n",
      "   gengamma          -- Generalized gamma\n",
      "   genhalflogistic   -- Generalized Half Logistic\n",
      "   gilbrat           -- Gilbrat\n",
      "   gompertz          -- Gompertz (Truncated Gumbel)\n",
      "   gumbel_r          -- Right Sided Gumbel, Log-Weibull, Fisher-Tippett, Extreme Value Type I\n",
      "   gumbel_l          -- Left Sided Gumbel, etc.\n",
      "   halfcauchy        -- Half Cauchy\n",
      "   halflogistic      -- Half Logistic\n",
      "   halfnorm          -- Half Normal\n",
      "   halfgennorm       -- Generalized Half Normal\n",
      "   hypsecant         -- Hyperbolic Secant\n",
      "   invgamma          -- Inverse Gamma\n",
      "   invgauss          -- Inverse Gaussian\n",
      "   invweibull        -- Inverse Weibull\n",
      "   johnsonsb         -- Johnson SB\n",
      "   johnsonsu         -- Johnson SU\n",
      "   kappa4            -- Kappa 4 parameter\n",
      "   kappa3            -- Kappa 3 parameter\n",
      "   ksone             -- Kolmogorov-Smirnov one-sided (no stats)\n",
      "   kstwobign         -- Kolmogorov-Smirnov two-sided test for Large N (no stats)\n",
      "   laplace           -- Laplace\n",
      "   levy              -- Levy\n",
      "   levy_l\n",
      "   levy_stable\n",
      "   logistic          -- Logistic\n",
      "   loggamma          -- Log-Gamma\n",
      "   loglaplace        -- Log-Laplace (Log Double Exponential)\n",
      "   lognorm           -- Log-Normal\n",
      "   lomax             -- Lomax (Pareto of the second kind)\n",
      "   maxwell           -- Maxwell\n",
      "   mielke            -- Mielke's Beta-Kappa\n",
      "   nakagami          -- Nakagami\n",
      "   ncx2              -- Non-central chi-squared\n",
      "   ncf               -- Non-central F\n",
      "   nct               -- Non-central Student's T\n",
      "   norm              -- Normal (Gaussian)\n",
      "   pareto            -- Pareto\n",
      "   pearson3          -- Pearson type III\n",
      "   powerlaw          -- Power-function\n",
      "   powerlognorm      -- Power log normal\n",
      "   powernorm         -- Power normal\n",
      "   rdist             -- R-distribution\n",
      "   reciprocal        -- Reciprocal\n",
      "   rayleigh          -- Rayleigh\n",
      "   rice              -- Rice\n",
      "   recipinvgauss     -- Reciprocal Inverse Gaussian\n",
      "   semicircular      -- Semicircular\n",
      "   skewnorm          -- Skew normal\n",
      "   t                 -- Student's T\n",
      "   trapz              -- Trapezoidal\n",
      "   triang            -- Triangular\n",
      "   truncexpon        -- Truncated Exponential\n",
      "   truncnorm         -- Truncated Normal\n",
      "   tukeylambda       -- Tukey-Lambda\n",
      "   uniform           -- Uniform\n",
      "   vonmises          -- Von-Mises (Circular)\n",
      "   vonmises_line     -- Von-Mises (Line)\n",
      "   wald              -- Wald\n",
      "   weibull_min       -- Minimum Weibull (see Frechet)\n",
      "   weibull_max       -- Maximum Weibull (see Frechet)\n",
      "   wrapcauchy        -- Wrapped Cauchy\n",
      "\n",
      "Multivariate distributions\n",
      "==========================\n",
      "\n",
      ".. autosummary::\n",
      "   :toctree: generated/\n",
      "\n",
      "   multivariate_normal   -- Multivariate normal distribution\n",
      "   matrix_normal         -- Matrix normal distribution\n",
      "   dirichlet             -- Dirichlet\n",
      "   wishart               -- Wishart\n",
      "   invwishart            -- Inverse Wishart\n",
      "   special_ortho_group   -- SO(N) group\n",
      "   ortho_group           -- O(N) group\n",
      "   random_correlation    -- random correlation matrices\n",
      "\n",
      "Discrete distributions\n",
      "======================\n",
      "\n",
      ".. autosummary::\n",
      "   :toctree: generated/\n",
      "\n",
      "   bernoulli         -- Bernoulli\n",
      "   binom             -- Binomial\n",
      "   boltzmann         -- Boltzmann (Truncated Discrete Exponential)\n",
      "   dlaplace          -- Discrete Laplacian\n",
      "   geom              -- Geometric\n",
      "   hypergeom         -- Hypergeometric\n",
      "   logser            -- Logarithmic (Log-Series, Series)\n",
      "   nbinom            -- Negative Binomial\n",
      "   planck            -- Planck (Discrete Exponential)\n",
      "   poisson           -- Poisson\n",
      "   randint           -- Discrete Uniform\n",
      "   skellam           -- Skellam\n",
      "   zipf              -- Zipf\n",
      "\n",
      "Statistical functions\n",
      "=====================\n",
      "\n",
      "Several of these functions have a similar version in scipy.stats.mstats\n",
      "which work for masked arrays.\n",
      "\n",
      ".. autosummary::\n",
      "   :toctree: generated/\n",
      "\n",
      "   describe          -- Descriptive statistics\n",
      "   gmean             -- Geometric mean\n",
      "   hmean             -- Harmonic mean\n",
      "   kurtosis          -- Fisher or Pearson kurtosis\n",
      "   kurtosistest      --\n",
      "   mode              -- Modal value\n",
      "   moment            -- Central moment\n",
      "   normaltest        --\n",
      "   skew              -- Skewness\n",
      "   skewtest          --\n",
      "   kstat             --\n",
      "   kstatvar          --\n",
      "   tmean             -- Truncated arithmetic mean\n",
      "   tvar              -- Truncated variance\n",
      "   tmin              --\n",
      "   tmax              --\n",
      "   tstd              --\n",
      "   tsem              --\n",
      "   variation         -- Coefficient of variation\n",
      "   find_repeats\n",
      "   trim_mean\n",
      "\n",
      ".. autosummary::\n",
      "   :toctree: generated/\n",
      "\n",
      "   cumfreq\n",
      "   histogram2\n",
      "   histogram\n",
      "   itemfreq\n",
      "   percentileofscore\n",
      "   scoreatpercentile\n",
      "   relfreq\n",
      "\n",
      ".. autosummary::\n",
      "   :toctree: generated/\n",
      "\n",
      "   binned_statistic     -- Compute a binned statistic for a set of data.\n",
      "   binned_statistic_2d  -- Compute a 2-D binned statistic for a set of data.\n",
      "   binned_statistic_dd  -- Compute a d-D binned statistic for a set of data.\n",
      "\n",
      ".. autosummary::\n",
      "   :toctree: generated/\n",
      "\n",
      "   obrientransform\n",
      "   signaltonoise\n",
      "   bayes_mvs\n",
      "   mvsdist\n",
      "   sem\n",
      "   zmap\n",
      "   zscore\n",
      "   iqr\n",
      "\n",
      ".. autosummary::\n",
      "   :toctree: generated/\n",
      "\n",
      "   sigmaclip\n",
      "   threshold\n",
      "   trimboth\n",
      "   trim1\n",
      "\n",
      ".. autosummary::\n",
      "   :toctree: generated/\n",
      "\n",
      "   f_oneway\n",
      "   pearsonr\n",
      "   spearmanr\n",
      "   pointbiserialr\n",
      "   kendalltau\n",
      "   linregress\n",
      "   theilslopes\n",
      "   f_value\n",
      "\n",
      ".. autosummary::\n",
      "   :toctree: generated/\n",
      "\n",
      "   ttest_1samp\n",
      "   ttest_ind\n",
      "   ttest_ind_from_stats\n",
      "   ttest_rel\n",
      "   kstest\n",
      "   chisquare\n",
      "   power_divergence\n",
      "   ks_2samp\n",
      "   mannwhitneyu\n",
      "   tiecorrect\n",
      "   rankdata\n",
      "   ranksums\n",
      "   wilcoxon\n",
      "   kruskal\n",
      "   friedmanchisquare\n",
      "   combine_pvalues\n",
      "   ss\n",
      "   square_of_sums\n",
      "   jarque_bera\n",
      "\n",
      ".. autosummary::\n",
      "   :toctree: generated/\n",
      "\n",
      "   ansari\n",
      "   bartlett\n",
      "   levene\n",
      "   shapiro\n",
      "   anderson\n",
      "   anderson_ksamp\n",
      "   binom_test\n",
      "   fligner\n",
      "   median_test\n",
      "   mood\n",
      "\n",
      ".. autosummary::\n",
      "   :toctree: generated/\n",
      "\n",
      "   boxcox\n",
      "   boxcox_normmax\n",
      "   boxcox_llf\n",
      "\n",
      "   entropy\n",
      "\n",
      ".. autosummary::\n",
      "   :toctree: generated/\n",
      "\n",
      "   chisqprob\n",
      "   betai\n",
      "\n",
      "Circular statistical functions\n",
      "==============================\n",
      "\n",
      ".. autosummary::\n",
      "   :toctree: generated/\n",
      "\n",
      "   circmean\n",
      "   circvar\n",
      "   circstd\n",
      "\n",
      "Contingency table functions\n",
      "===========================\n",
      "\n",
      ".. autosummary::\n",
      "   :toctree: generated/\n",
      "\n",
      "   chi2_contingency\n",
      "   contingency.expected_freq\n",
      "   contingency.margins\n",
      "   fisher_exact\n",
      "\n",
      "Plot-tests\n",
      "==========\n",
      "\n",
      ".. autosummary::\n",
      "   :toctree: generated/\n",
      "\n",
      "   ppcc_max\n",
      "   ppcc_plot\n",
      "   probplot\n",
      "   boxcox_normplot\n",
      "\n",
      "\n",
      "Masked statistics functions\n",
      "===========================\n",
      "\n",
      ".. toctree::\n",
      "\n",
      "   stats.mstats\n",
      "\n",
      "\n",
      "Univariate and multivariate kernel density estimation (:mod:`scipy.stats.kde`)\n",
      "==============================================================================\n",
      "\n",
      ".. autosummary::\n",
      "   :toctree: generated/\n",
      "\n",
      "   gaussian_kde\n",
      "\n",
      "For many more stat related functions install the software R and the\n",
      "interface package rpy.\n"
     ]
    }
   ],
   "source": [
    "import scipy\n",
    "from scipy import stats\n",
    "scipy.info(stats)"
   ]
  },
  {
   "cell_type": "markdown",
   "metadata": {},
   "source": [
    "### stats.itemfreq\n",
    "\n",
    "There is a function named itemfreq which is used to count the frequency of each element."
   ]
  },
  {
   "cell_type": "code",
   "execution_count": null,
   "metadata": {
    "collapsed": false
   },
   "outputs": [],
   "source": [
    "#ringsFre = stats.itemfreq([i.rings for i in abalones])\n",
    "#ringsFre"
   ]
  },
  {
   "cell_type": "code",
   "execution_count": 71,
   "metadata": {
    "collapsed": false
   },
   "outputs": [
    {
     "data": {
      "text/plain": [
       "[('a', 1), ('b', 2), ('c', 3)]"
      ]
     },
     "execution_count": 71,
     "metadata": {},
     "output_type": "execute_result"
    }
   ],
   "source": [
    "key = ['a', 'b', 'c']\n",
    "value = [1, 2, 3]\n",
    "zip(key, value)"
   ]
  },
  {
   "cell_type": "markdown",
   "metadata": {},
   "source": [
    "# Distributions\n",
    "\n",
    "### Norm distribution\n",
    "The normal distribution is a continuous distribution or a function that can take on values anywhere on the real line. The normal distribution is parameterized by two parameters: the mean of the distribution  μμ  and the \n",
    "\n",
    "**variance  σ^2** .\n",
    "\n",
    "The PDF(probability density function) is used to describe continuous variables. Here is the PDF of normal \n",
    "distribution  N(μ,σ2) .\n",
    "\n",
    "P(x;μ,σ)=1/sqrt(2πσ^2)*exp(−(x−μ)^2/2σ^2)\n",
    "\n",
    " \n",
    "E(X)=μVar(x)=σ^2\n",
    " \n",
    "The **CDF(cumulated distribution function)** of a variable  X is denoted by F(x) , which is defined as:\n",
    "F(x)=P(X≤x)\n",
    " \n",
    "print the details of normal distribution in stats."
   ]
  },
  {
   "cell_type": "code",
   "execution_count": 72,
   "metadata": {
    "collapsed": false
   },
   "outputs": [
    {
     "data": {
      "text/plain": [
       "17.094352211740425"
      ]
     },
     "execution_count": 72,
     "metadata": {},
     "output_type": "execute_result"
    }
   ],
   "source": [
    "stats.norm.rvs(10, 5) # rvs is short for random variables"
   ]
  },
  {
   "cell_type": "code",
   "execution_count": 70,
   "metadata": {
    "collapsed": false
   },
   "outputs": [
    {
     "data": {
      "text/plain": [
       "0.99730020393673979"
      ]
     },
     "execution_count": 70,
     "metadata": {},
     "output_type": "execute_result"
    }
   ],
   "source": [
    "stats.norm.cdf(3) - stats.norm.cdf(-3) \n",
    "# cdf is short for cumulated distribution function"
   ]
  },
  {
   "cell_type": "code",
   "execution_count": 73,
   "metadata": {
    "collapsed": false
   },
   "outputs": [
    {
     "data": {
      "text/plain": [
       "0.3989422804014327"
      ]
     },
     "execution_count": 73,
     "metadata": {},
     "output_type": "execute_result"
    }
   ],
   "source": [
    "# pdf is short for probability density function\n",
    "stats.norm.pdf(0) "
   ]
  },
  {
   "cell_type": "code",
   "execution_count": 74,
   "metadata": {
    "collapsed": false,
    "scrolled": true
   },
   "outputs": [
    {
     "data": {
      "image/png": "[encoded data removed]",
      "text/plain": [
       "<matplotlib.figure.Figure at 0xcc1e0f0>"
      ]
     },
     "metadata": {},
     "output_type": "display_data"
    }
   ],
   "source": [
    "mu = 0\n",
    "sigma = 1\n",
    "x = np.arange(mu-5, mu+5, 0.1)\n",
    "y = stats.norm.pdf(x, mu, sigma)\n",
    "plt.rcParams['figure.figsize'] = 8, 6\n",
    "plt.plot(x, y)\n",
    "\n",
    "theta = np.linspace(-3, 3, 100) \n",
    "r = stats.norm.pdf(theta)\n",
    "theta = np.concatenate([[-3], theta, [3]])\n",
    "r = np.concatenate([[0], r, [0]])\n",
    "                        \n",
    "\n",
    "plt.fill(theta, r, alpha = 0.3)\n",
    "plt.title('Normal: $\\mu$=%.2f, $\\sigma^2=%.2f$'%(mu, sigma))\n",
    "plt.text(-1.9, 0.05, '$p(-3 < x < 3)=%.4f$'%(1 - 2*stats.norm.cdf(-3)), size = 15)\n",
    "plt.xlabel('x')\n",
    "plt.ylabel('Probability density')\n",
    "plt.show()"
   ]
  },
  {
   "cell_type": "markdown",
   "metadata": {},
   "source": [
    "## Poisson Distribution\n",
    "\n",
    "A random variable  X  that has a Poisson distribution represents the number of events occurring in a fixed time interval with a rate parameters  λ .  λ  tells you the rate at which the number of events occur. The average and variance is  λ.\n",
    "\n",
    "The **PMF(probability mass function)** is used to describe discrete variables. Here is the PMF of poisson distribution  P(λ).\n",
    "\n",
    "Concretely, the PMF shows the probability of each possible value that the variable may take.\n",
    "\n",
    "P(X=k)=λ^k*e^−λ/k!\n",
    " \n",
    "E(X)=λVar(X)=λ\n",
    "\n",
    " \n",
    "What is probability of observing 4 accidents at an intersections in a day given the rate of accidents is 2 per day?"
   ]
  },
  {
   "cell_type": "code",
   "execution_count": 75,
   "metadata": {
    "collapsed": false
   },
   "outputs": [
    {
     "data": {
      "text/plain": [
       "0.090223522157741778"
      ]
     },
     "execution_count": 75,
     "metadata": {},
     "output_type": "execute_result"
    }
   ],
   "source": [
    "stats.poisson.pmf(4, 2) \n",
    "# equivalent to stats.poisson.cdf(4, 2) - stats.poisson.cdf(3, 2) \n",
    "# p(x <= 4) - p(x <= 3) = p(x=4)"
   ]
  },
  {
   "cell_type": "code",
   "execution_count": 76,
   "metadata": {
    "collapsed": false
   },
   "outputs": [
    {
     "data": {
      "image/png": "[encoded data removed]",
      "text/plain": [
       "<matplotlib.figure.Figure at 0xcbe2358>"
      ]
     },
     "metadata": {},
     "output_type": "display_data"
    }
   ],
   "source": [
    "lam = 2\n",
    "sequence = np.arange(0, 10)\n",
    "plt.bar(sequence, stats.poisson.pmf(sequence, lam), alpha=0.3)\n",
    "plt.title('Poisson distribution: $\\lambda=%s$'%lam)\n",
    "plt.xlabel('x')\n",
    "plt.show()"
   ]
  },
  {
   "cell_type": "markdown",
   "metadata": {},
   "source": [
    "You can notice that the number of accidents peaks around the mean. On an average you can expect lambda number of events.\n",
    "\n",
    "Try different values of lambda and n, then see how shape of the distribution changes."
   ]
  },
  {
   "cell_type": "markdown",
   "metadata": {},
   "source": [
    "### Binomial Distribution\n",
    "\n",
    "A random variable X that has a binomial distribution represents the number of successes in a sequence of **n** independent yes/no trials, each of which yields success with probability  **p** .\n",
    "\n",
    "A random variable quantifies the outcomes of a number.\n",
    "\n",
    "For example, a random variable for a coin flip can be represented as\n",
    "\n",
    "x = { 1 (if head), 0 (if tail)}\n",
    "\n",
    "Let  X  denotes the number of heads when flipping  nn  coins, the PMF of  XX is:\n",
    "\n",
    "P(X=k)=n!/k!(n−k)!*p^k(1−p)^n−k\n",
    " \n",
    "E(X)=npVar(X)=np(1−p)\n",
    " \n",
    "What is the probability of getting 2 heads out of 10 flips of a fair coin?"
   ]
  },
  {
   "cell_type": "code",
   "execution_count": 77,
   "metadata": {
    "collapsed": false
   },
   "outputs": [
    {
     "data": {
      "text/plain": [
       "0.043945312499999993"
      ]
     },
     "execution_count": 77,
     "metadata": {},
     "output_type": "execute_result"
    }
   ],
   "source": [
    "stats.binom.pmf(2, 10, 0.5)"
   ]
  },
  {
   "cell_type": "code",
   "execution_count": 78,
   "metadata": {
    "collapsed": false
   },
   "outputs": [
    {
     "data": {
      "image/png": "[encoded data removed]",
      "text/plain": [
       "<matplotlib.figure.Figure at 0xc13ee10>"
      ]
     },
     "metadata": {},
     "output_type": "display_data"
    }
   ],
   "source": [
    "n = 10\n",
    "p = 0.5\n",
    "sequence = np.arange(0, n+1)\n",
    "plt.bar(sequence, stats.binom.pmf(sequence, n, p), alpha=0.3)\n",
    "plt.title('Binomial distribution: $n=%s, p=%.2f$'%(n, p))\n",
    "plt.xlabel('x')\n",
    "plt.xlim(0, n+1)\n",
    "plt.show()"
   ]
  },
  {
   "cell_type": "markdown",
   "metadata": {},
   "source": [
    "# Hypothesis Testing\n",
    "\n",
    "## Lady testing tea\n",
    "\n",
    "A lady claimed to be able to tell whether the tea or the milk was added first to a cup. A gentle man named Fisher proposed to give her 8 cups, four of each variety, in random order.\n",
    "\n",
    "For each cup, a normal people does not have the special ability have the probability of 0.5 to guess the right answer.\n",
    "\n",
    "What's the probability of a normal people getting 8 right answers?"
   ]
  },
  {
   "cell_type": "code",
   "execution_count": 79,
   "metadata": {
    "collapsed": false
   },
   "outputs": [
    {
     "data": {
      "text/plain": [
       "0.00390625"
      ]
     },
     "execution_count": 79,
     "metadata": {},
     "output_type": "execute_result"
    }
   ],
   "source": [
    "0.5 ** 8"
   ]
  },
  {
   "cell_type": "markdown",
   "metadata": {},
   "source": [
    "What about the probability of a normal people getting 7 right answers?"
   ]
  },
  {
   "cell_type": "code",
   "execution_count": null,
   "metadata": {
    "collapsed": true
   },
   "outputs": [],
   "source": [
    "0.5 ** 7 * (1-0.5) * 8"
   ]
  },
  {
   "cell_type": "markdown",
   "metadata": {},
   "source": [
    "What's the probability of a normal people getting more than 6 right answers? Hint:  p(x=7)+p(x=8)p(x=7)+p(x=8) "
   ]
  },
  {
   "cell_type": "code",
   "execution_count": 81,
   "metadata": {
    "collapsed": false
   },
   "outputs": [
    {
     "data": {
      "text/plain": [
       "0.03515625"
      ]
     },
     "execution_count": 81,
     "metadata": {},
     "output_type": "execute_result"
    }
   ],
   "source": [
    "0.5 ** 7 * (1-0.5) * 8  + 0.5 ** 8"
   ]
  },
  {
   "cell_type": "markdown",
   "metadata": {},
   "source": [
    "The distribution of number of right answers that a normal people get is a binomial distribution  Binom(8,0.5). The probability of x(0≤x≤8) answers is  \n",
    "\n",
    "C^x base 8 * 0.5^x * (1−0.5)^(8−x)=C^x base 8 *0.5^8\n",
    "\n",
    "We can calculate the probability directly by using the function **stats.binom**"
   ]
  },
  {
   "cell_type": "code",
   "execution_count": 82,
   "metadata": {
    "collapsed": false
   },
   "outputs": [
    {
     "name": "stdout",
     "output_type": "stream",
     "text": [
      "The probability of getting 0 right answers is: 0.003906\n",
      "The probability of getting 1 right answers is: 0.031250\n",
      "The probability of getting 2 right answers is: 0.109375\n",
      "The probability of getting 3 right answers is: 0.218750\n",
      "The probability of getting 4 right answers is: 0.273438\n",
      "The probability of getting 5 right answers is: 0.218750\n",
      "The probability of getting 6 right answers is: 0.109375\n",
      "The probability of getting 7 right answers is: 0.031250\n",
      "The probability of getting 8 right answers is: 0.003906\n"
     ]
    }
   ],
   "source": [
    "for i in range(9):\n",
    "   print \"The probability of getting %s right answers is: %f\"%(i, stats.binom.pmf(i, 8, 0.5))"
   ]
  },
  {
   "cell_type": "code",
   "execution_count": 84,
   "metadata": {
    "collapsed": false
   },
   "outputs": [
    {
     "name": "stdout",
     "output_type": "stream",
     "text": [
      "The probability of getting at least 0 right answers is: 1.000000\n",
      "The probability of getting at least 1 right answers is: 0.996094\n",
      "The probability of getting at least 2 right answers is: 0.964844\n",
      "The probability of getting at least 3 right answers is: 0.855469\n",
      "The probability of getting at least 4 right answers is: 0.636719\n",
      "The probability of getting at least 5 right answers is: 0.363281\n",
      "The probability of getting at least 6 right answers is: 0.144531\n",
      "The probability of getting at least 7 right answers is: 0.035156\n",
      "The probability of getting at least 8 right answers is: 0.003906\n"
     ]
    }
   ],
   "source": [
    "for i in range(9):\n",
    "    print \"The probability of getting at least %s right answers is: %f\"%(i, 1 - stats.binom.cdf(i-1, 8, 0.5))\n",
    "# 1 - p(X <= x- 1) = P(X >= x)"
   ]
  },
  {
   "cell_type": "code",
   "execution_count": 88,
   "metadata": {
    "collapsed": false,
    "scrolled": true
   },
   "outputs": [
    {
     "data": {
      "text/plain": [
       "<Container object of 9 artists>"
      ]
     },
     "execution_count": 88,
     "metadata": {},
     "output_type": "execute_result"
    },
    {
     "data": {
      "image/png": "[encoded data removed]",
      "text/plain": [
       "<matplotlib.figure.Figure at 0xc157208>"
      ]
     },
     "metadata": {},
     "output_type": "display_data"
    }
   ],
   "source": [
    "plt.bar(range(9), [stats.binom.pmf(i, 8, 0.5) for i in range(9)], alpha = 0.3)"
   ]
  },
  {
   "cell_type": "code",
   "execution_count": 89,
   "metadata": {
    "collapsed": false
   },
   "outputs": [
    {
     "name": "stdout",
     "output_type": "stream",
     "text": [
      "The expectation is: 4.000000\n",
      "The variance    is: 2.000000\n"
     ]
    }
   ],
   "source": [
    "print \"The expectation is: %f\" %stats.binom.mean(8, 0.5)\n",
    "print \"The variance    is: %f\" %stats.binom.var(8, 0.5)"
   ]
  },
  {
   "cell_type": "markdown",
   "metadata": {},
   "source": [
    "The lady testing tea experiment was designed by Ronald A. Fisher, and it was reported in his book The Design of Experiments. The lady in question was Muriel Bristol, she finnaly hitted all of right answers.\n",
    "\n",
    "Assume that the lady does not have the ability. According to the calculation, she has 0.003906 probability of getting 8 cups right.\n",
    "\n",
    "The probability 0.003906 is very small, it unlikely to happen in an experiment, so we infer that the lady has the \"magic\".\n",
    "\n",
    "That is the idea of Hypothesis testing.\n",
    "\n",
    "Steps of **Hypothesis testing**:\n",
    "\n",
    "- Propose a null hypothesis.\n",
    "\n",
    "- Run an experiment and get a result.\n",
    "\n",
    "- Calculate the probability of the occured result and a \n",
    "more extremely result occur.\n",
    "\n",
    "- If the probability is small then a pre-defined \n",
    "threshold, reject the null hypothesis.\n",
    "\n",
    "\n",
    "The probability of the effect happening under the null hypothesis is called p-value in the statistic. Usually, the pre-defined threshold is 0.05.\n",
    "\n",
    "In the lay testing tea case:\n",
    "\n",
    "- null hypothesis: Muriel Bristol does not have the ability, the probability of guess one correctly is $p=0.5$.\n",
    "\n",
    "- result: hit all the correct answers.\n",
    "\n",
    "- probability: 0.003906\n",
    "\n",
    "- 0.003906 < 0.05, reject null hypothesis.\n",
    "\n",
    "Production Yield\n",
    "In manufacturing industry, people usually sample a center number of products to test the production yield.\n",
    "Suppose that the production yield should be at least 99%. We sample 1000 products, and 5 of them are rejects.\n",
    "Are this batch of products qualified?\n",
    "\n",
    "Null Hypothesis:  H0:p<=0.99 ,  H1:p>0.99.\n",
    "\n",
    "**p** is the probability of qualified product.\n",
    "\n",
    "The number of rejects follows a binomial distribution  B(1000,0.99)."
   ]
  },
  {
   "cell_type": "code",
   "execution_count": 90,
   "metadata": {
    "collapsed": false
   },
   "outputs": [
    {
     "data": {
      "text/plain": [
       "0.066139511607304691"
      ]
     },
     "execution_count": 90,
     "metadata": {},
     "output_type": "execute_result"
    }
   ],
   "source": [
    "pValue = 1 - stats.binom.cdf(994, 1000, 0.99) # p(n >= 995)\n",
    "pValue"
   ]
  },
  {
   "cell_type": "code",
   "execution_count": 91,
   "metadata": {
    "collapsed": false
   },
   "outputs": [
    {
     "data": {
      "text/plain": [
       "False"
      ]
     },
     "execution_count": 91,
     "metadata": {},
     "output_type": "execute_result"
    }
   ],
   "source": [
    "pValue < 0.05"
   ]
  },
  {
   "cell_type": "markdown",
   "metadata": {},
   "source": [
    "#### So we do not reject the null hypothesis."
   ]
  },
  {
   "cell_type": "code",
   "execution_count": 92,
   "metadata": {
    "collapsed": false
   },
   "outputs": [
    {
     "data": {
      "text/plain": [
       "0.028686399999010459"
      ]
     },
     "execution_count": 92,
     "metadata": {},
     "output_type": "execute_result"
    }
   ],
   "source": [
    "1 - stats.binom.cdf(995, 1000, 0.99) # p(n >= 996)"
   ]
  },
  {
   "cell_type": "markdown",
   "metadata": {},
   "source": [
    "The number of qualified products should be at least 996 so that the null hypothesis will be rejected.\n",
    "\n",
    "\n",
    "### Student's one-sample t-test\n",
    "\n",
    "The t-test for a single sample tests whether the population mean is equal to a given constant."
   ]
  },
  {
   "cell_type": "code",
   "execution_count": 93,
   "metadata": {
    "collapsed": false
   },
   "outputs": [
    {
     "data": {
      "text/plain": [
       "array([  5.68751338,   6.42926417,   2.13393116,  19.37672786,\n",
       "        -1.53024324,   8.92748903,  17.42027878,  21.79788694,\n",
       "        11.42217356,   6.24243152,  11.07554548,   7.71787762,\n",
       "        18.34985987,  -2.45506664,  12.49281872,  11.84072008,\n",
       "        10.68300092,  -2.4563801 ,   8.88648585,  -6.16107512,\n",
       "        29.41909328,  16.92868591,  14.61380929,   1.07746462,\n",
       "         4.62211455,  10.07432238,  -8.16981351,  -1.22444361,\n",
       "        10.49588813,  17.35193147,  13.56063575,   2.53393717,\n",
       "         7.96024937,  11.20093194,  13.33901474,   5.92407546,\n",
       "         0.21368542,  34.13633533,  10.48663502,   8.8292647 ,\n",
       "        10.04397189,  13.87372356,   8.24762579,  27.11242047,\n",
       "         0.17299499,   4.83957307,  11.3619557 ,   1.49679389,\n",
       "        21.1908889 ,  -2.75109343,  16.42229573,   0.11490817,\n",
       "         8.13415766,   7.34908996,   7.60747113,   3.95153105,\n",
       "        19.45854844,   6.3853378 ,  20.26953651,   6.85303591,\n",
       "        18.2824453 ,  -2.63165608,   8.28455793,  -5.19558544,\n",
       "         9.0748962 ,  27.68680905,  17.52818288,  17.38067395,\n",
       "         9.54916732,  21.79074219,   1.13435958,  11.67432269,\n",
       "         5.73533888,  23.45981138, -13.52582925,   4.44287624,\n",
       "         6.72280514,  19.2081494 ,  -0.06357879,   5.23948236,\n",
       "        14.28174538,  10.17975744,  36.87133536,  -2.21675923,\n",
       "         5.6754959 ,   9.36165804,   5.41869057,  13.9334387 ,\n",
       "        20.59133398,   9.80387656,   1.67538888,   5.17407932,\n",
       "        22.54298891,   1.66431813,  15.2079381 ,  21.18631405,\n",
       "         4.52486489,  26.39257831,   6.07852378,  28.23258504])"
      ]
     },
     "execution_count": 93,
     "metadata": {},
     "output_type": "execute_result"
    }
   ],
   "source": [
    "\n",
    "x = np.random.normal(loc = 10, scale = 10, size=100)\n",
    "# equivalent to x = stats.norm.rvs(loc=10, scale=10, size=100)\n",
    "x"
   ]
  },
  {
   "cell_type": "code",
   "execution_count": 94,
   "metadata": {
    "collapsed": false
   },
   "outputs": [
    {
     "data": {
      "text/plain": [
       "(array([  1.,   3.,  14.,  20.,  26.,  11.,  14.,   5.,   4.,   2.]),\n",
       " array([-13.52582925,  -8.48611279,  -3.44639633,   1.59332014,\n",
       "          6.6330366 ,  11.67275306,  16.71246952,  21.75218598,\n",
       "         26.79190244,  31.8316189 ,  36.87133536]),\n",
       " <a list of 10 Patch objects>)"
      ]
     },
     "execution_count": 94,
     "metadata": {},
     "output_type": "execute_result"
    },
    {
     "data": {
      "image/png": "[encoded data removed]",
      "text/plain": [
       "<matplotlib.figure.Figure at 0xc13ec50>"
      ]
     },
     "metadata": {},
     "output_type": "display_data"
    }
   ],
   "source": [
    "plt.hist(x, alpha= 0.3)"
   ]
  },
  {
   "cell_type": "markdown",
   "metadata": {},
   "source": [
    "Is the mean of x equal to 15? Say the null hypothesis is  x¯=15x¯=15 ."
   ]
  },
  {
   "cell_type": "code",
   "execution_count": 95,
   "metadata": {
    "collapsed": false
   },
   "outputs": [
    {
     "data": {
      "text/plain": [
       "Ttest_1sampResult(statistic=-5.3267542279781015, pvalue=6.2746327207220648e-07)"
      ]
     },
     "execution_count": 95,
     "metadata": {},
     "output_type": "execute_result"
    }
   ],
   "source": [
    "stats.ttest_1samp(x, 15)"
   ]
  },
  {
   "cell_type": "markdown",
   "metadata": {},
   "source": [
    "It return a array whose first element is the value of t-statistic, and the second value is the p-value.\n",
    "\n",
    "In this case, p-value is less than 0.05. So we reject the null hypothesis that  x¯=15.\n",
    "\n",
    "### Student's one-sample t-test\n",
    "\n",
    "'HighSchoolGrad.txt' contains the wage of 971 people with high degrees, while 'CollegeGrad.txt' contains the wage of 685 people with college degrees."
   ]
  },
  {
   "cell_type": "code",
   "execution_count": null,
   "metadata": {
    "collapsed": true
   },
   "outputs": [],
   "source": [
    "HighSchool = np.loadtxt('data/HighSchoolGrad.txt')\n",
    "College = np.loadtxt('data/CollegeGrad.txt')"
   ]
  },
  {
   "cell_type": "code",
   "execution_count": null,
   "metadata": {
    "collapsed": true
   },
   "outputs": [],
   "source": [
    "print HighSchool.shape\n",
    "HighSchool[:5]"
   ]
  },
  {
   "cell_type": "code",
   "execution_count": null,
   "metadata": {
    "collapsed": true
   },
   "outputs": [],
   "source": [
    "print College.shape\n",
    "College[:5]"
   ]
  },
  {
   "cell_type": "markdown",
   "metadata": {},
   "source": [
    "The question is, whether their wage has significant difference."
   ]
  },
  {
   "cell_type": "code",
   "execution_count": null,
   "metadata": {
    "collapsed": true
   },
   "outputs": [],
   "source": [
    "plt.rcParams['figure.figsize'] = 12, 6\n",
    "f, wage = plt.subplots(1, 2, sharex=True)\n",
    "wage[0].hist(HighSchool, alpha = 0.3)\n",
    "wage[0].set_title('Wage From High School')\n",
    "wage[1].hist(College, alpha = 0.3)\n",
    "wage[1].set_title('Wage From College')"
   ]
  },
  {
   "cell_type": "code",
   "execution_count": null,
   "metadata": {
    "collapsed": true
   },
   "outputs": [],
   "source": [
    "f, wage = plt.subplots(1, 2, sharex=True)\n",
    "wage[0].boxplot(HighSchool)\n",
    "wage[0].set_title('Wage From High School')\n",
    "wage[0].set_xticks([])\n",
    "wage[1].boxplot(College)\n",
    "wage[1].set_title('Wage From College')\n",
    "wage[1].set_xticks([])"
   ]
  },
  {
   "cell_type": "code",
   "execution_count": null,
   "metadata": {
    "collapsed": true
   },
   "outputs": [],
   "source": [
    "names = [\"size\", \"min/max\", \"mean\", \"variance\", \"skewness\", \"kurtosis\"]\n",
    "{name: stat for name, stat in zip(names, stats.describe(HighSchool))}"
   ]
  },
  {
   "cell_type": "code",
   "execution_count": null,
   "metadata": {
    "collapsed": true
   },
   "outputs": [],
   "source": [
    "{name: stat for name, stat in zip(names, stats.describe(College))}"
   ]
  },
  {
   "cell_type": "code",
   "execution_count": null,
   "metadata": {
    "collapsed": true
   },
   "outputs": [],
   "source": [
    "stats.ttest_ind(HighSchool, College)"
   ]
  },
  {
   "cell_type": "markdown",
   "metadata": {},
   "source": [
    "Since  p<<0.05 , we consider that the wage of people that have college degree is significantly higher.\n",
    "\n",
    "### Analysis of Variance (ANOVA)\n",
    "\n",
    "The two-sample t-test allows us to check whether the value of a particular variable is significantly different between two groups (or samples).\n",
    "\n",
    "What if we have more than two categories?\n",
    "\n",
    "Analysis of Variance is a way of treating these kind of cases."
   ]
  },
  {
   "cell_type": "code",
   "execution_count": null,
   "metadata": {
    "collapsed": true
   },
   "outputs": [],
   "source": [
    "Mheight = [i.height for i in abalones if i.sex=='M']\n",
    "Fheight = [i.height for i in abalones if i.sex=='F']\n",
    "Iheight = [i.height for i in abalones if i.sex=='I']"
   ]
  },
  {
   "cell_type": "markdown",
   "metadata": {},
   "source": [
    "The height of M(Male), F(Female), I(Infant)"
   ]
  },
  {
   "cell_type": "code",
   "execution_count": null,
   "metadata": {
    "collapsed": true
   },
   "outputs": [],
   "source": [
    "plt.rcParams['figure.figsize'] = 12, 9\n",
    "plt.subplot2grid((2, 3), (0, 0), colspan=3)\n",
    "plt.boxplot([Mheight, Fheight, Iheight])\n",
    "plt.ylim(0, 0.3)\n",
    "plt.xticks([1, 2, 3], ('M', 'F', 'I'), fontsize = 15)\n",
    "\n",
    "plt.subplot2grid((2, 3), (1, 0))\n",
    "plt.hist(Mheight, color='blue', alpha=0.5)\n",
    "plt.xlabel('M')\n",
    "plt.ylim(0, 1200)\n",
    "\n",
    "\n",
    "plt.subplot2grid((2, 3), (1, 1))\n",
    "plt.hist(Fheight, color='red', alpha = 0.5)\n",
    "plt.xlabel('F')\n",
    "plt.ylim(0, 1200)\n",
    "\n",
    "plt.subplot2grid((2, 3), (1, 2))\n",
    "plt.hist(Iheight, color='pink', alpha = 0.5)\n",
    "plt.xlabel('I')\n",
    "plt.ylim(0, 1200)"
   ]
  },
  {
   "cell_type": "code",
   "execution_count": null,
   "metadata": {
    "collapsed": true
   },
   "outputs": [],
   "source": [
    "stats.f_oneway(Mheight, Fheight, Iheight)"
   ]
  },
  {
   "cell_type": "markdown",
   "metadata": {},
   "source": [
    "f_oneway is used to implement one-way analysis of variance, in which one-way means just one factor, in this case it is sex.\n",
    "The p-value here is about  7×10−290 , which is extremely small."
   ]
  }
 ],
 "metadata": {
  "anaconda-cloud": {},
  "kernelspec": {
   "display_name": "Python 2",
   "language": "python",
   "name": "python2"
  },
  "language_info": {
   "codemirror_mode": {
    "name": "ipython",
    "version": 2
   },
   "file_extension": ".py",
   "mimetype": "text/x-python",
   "name": "python",
   "nbconvert_exporter": "python",
   "pygments_lexer": "ipython2",
   "version": "2.7.12"
  }
 },
 "nbformat": 4,
 "nbformat_minor": 0
}
