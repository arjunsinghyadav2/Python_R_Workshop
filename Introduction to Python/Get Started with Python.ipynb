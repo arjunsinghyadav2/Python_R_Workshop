{
 "cells": [
  {
   "cell_type": "markdown",
   "metadata": {},
   "source": [
    "<p><a name=\"sections\"></a></p>\n",
    "\n",
    "\n",
    "# Sections\n",
    "\n",
    "- <a href=\"#simple\">Simple Values and Expressions</a><br>\n",
    "- <a href=\"#lambda\">Lambda Functions and Named Functions</a><br>\n",
    "- <a href=\"#list\">List</a><br>\n",
    "    - <a href=\"#funcOnList\">Defining Functions on Lists</a><br>\n",
    "    - <a href=\"#nList\">Nested Lists</a><br>\n",
    "- <a href=\"#funcOper\">Functional Operators</a><br>\n",
    "    - <a href=\"#map\">map</a><br>\n",
    "    - <a href=\"#bool\">Boolean Functions</a><br>\n",
    "    - <a href=\"#filter\">filter</a><br>\n",
    "- <a href=\"#sol\">Solutions</a><br>\n",
    "\n",
    "<p><a name=\"simple\"></a></p>\n",
    "# Simple Values and Expressions\n",
    "\n",
    "** Expressions and Values**\n",
    "\n",
    "We demonstrate the simplest expression syntax: Operators +, -, * and / work just like in most other languages; parentheses can be used for grouping."
   ]
  },
  {
   "cell_type": "code",
   "execution_count": 2,
   "metadata": {
    "collapsed": false
   },
   "outputs": [
    {
     "data": {
      "text/plain": [
       "7"
      ]
     },
     "execution_count": 2,
     "metadata": {},
     "output_type": "execute_result"
    }
   ],
   "source": [
    "# Comment in Python starts with the hash character, # , and extend to the end of the physical line\n",
    "1 + 2 * 3     # * has precedence over +"
   ]
  },
  {
   "cell_type": "code",
   "execution_count": 3,
   "metadata": {
    "collapsed": false
   },
   "outputs": [
    {
     "data": {
      "text/plain": [
       "9"
      ]
     },
     "execution_count": 3,
     "metadata": {},
     "output_type": "execute_result"
    }
   ],
   "source": [
    "(1 + 2) * 3"
   ]
  },
  {
   "cell_type": "markdown",
   "metadata": {},
   "source": [
    "- iPython notebook shows only the last statement in each cell. To inspect all of them, we may use the `print` statement:"
   ]
  },
  {
   "cell_type": "code",
   "execution_count": 4,
   "metadata": {
    "collapsed": false
   },
   "outputs": [
    {
     "name": "stdout",
     "output_type": "stream",
     "text": [
      "7\n",
      "9\n"
     ]
    }
   ],
   "source": [
    "print 1 + 2 * 3\n",
    "print (1 + 2) * 3"
   ]
  },
  {
   "cell_type": "markdown",
   "metadata": {},
   "source": [
    "- Now try more examples and check the output:"
   ]
  },
  {
   "cell_type": "code",
   "execution_count": 5,
   "metadata": {
    "collapsed": false
   },
   "outputs": [
    {
     "name": "stdout",
     "output_type": "stream",
     "text": [
      "5\n",
      "5.66666666667\n",
      "5.0\n",
      "2\n",
      "128\n"
     ]
    }
   ],
   "source": [
    "print 17 / 3     # int / int -> int\n",
    "print 17 / 3.0   # int / float -> float\n",
    "print 17 // 3.0  # explicit integer division \n",
    "print 17 % 3     # remainder\n",
    "print 2 ** 7     # 2 to the power of 7"
   ]
  },
  {
   "cell_type": "markdown",
   "metadata": {},
   "source": [
    "**Syntactic note**:  Python does not have any special terminating character , so you must enter everything on one line.  If the line is too long, you can split it up either by enclosing the expression in parens or by adding a \\ at the end:"
   ]
  },
  {
   "cell_type": "code",
   "execution_count": 6,
   "metadata": {
    "collapsed": false
   },
   "outputs": [
    {
     "name": "stdout",
     "output_type": "stream",
     "text": [
      "295\n",
      "295\n",
      "295\n"
     ]
    }
   ],
   "source": [
    "print 8 * (7 + 6 * 5) + 4 / 3 ** 2 - 1\n",
    "\n",
    "print (8 * (7 + 6 * 5)    # use parentheses\n",
    "       + 4 / 3 ** 2 - 1)\n",
    "\n",
    "print 8 * (7 + 6 * 5) \\\n",
    "      + 4 / 3 ** 2 - 1       # use backslash"
   ]
  },
  {
   "cell_type": "markdown",
   "metadata": {},
   "source": [
    "- **Note**: `\\` must be the very last thing on the line (not even followed by spaces), and of course cannot be in a comment."
   ]
  },
  {
   "cell_type": "markdown",
   "metadata": {},
   "source": [
    "**Varaiables**\n",
    "\n",
    "Variables are used to give names to values.  This is to avoid having to re-type an expression, and so the computer doesn’t have to recompute it.  The equal sign \"`=`\" is used to assign a value to a variable."
   ]
  },
  {
   "cell_type": "code",
   "execution_count": 8,
   "metadata": {
    "collapsed": true
   },
   "outputs": [],
   "source": [
    "tax = 12.5 / 100   # An “assignment statement”\n",
    "price = 100.50"
   ]
  },
  {
   "cell_type": "markdown",
   "metadata": {},
   "source": [
    "iPython notebook print nothing for assignments, as we see from above."
   ]
  },
  {
   "cell_type": "code",
   "execution_count": 9,
   "metadata": {
    "collapsed": false
   },
   "outputs": [
    {
     "data": {
      "text/plain": [
       "12.5625"
      ]
     },
     "execution_count": 9,
     "metadata": {},
     "output_type": "execute_result"
    }
   ],
   "source": [
    "price * tax"
   ]
  },
  {
   "cell_type": "markdown",
   "metadata": {},
   "source": [
    "**Calling functions**\n",
    "\n",
    "- The Python interpreter has a number of functions built into it:"
   ]
  },
  {
   "cell_type": "code",
   "execution_count": 10,
   "metadata": {
    "collapsed": false
   },
   "outputs": [
    {
     "data": {
      "text/plain": [
       "5.0"
      ]
     },
     "execution_count": 10,
     "metadata": {},
     "output_type": "execute_result"
    }
   ],
   "source": [
    "abs(-5.0)"
   ]
  },
  {
   "cell_type": "markdown",
   "metadata": {},
   "source": [
    "There is also a way to put definitions in a file that you can load and use. Such a file is called a **module**.\n",
    "\n",
    "- You use the functions in a module by importing the module and using its name plus the function’s name:"
   ]
  },
  {
   "cell_type": "code",
   "execution_count": 11,
   "metadata": {
    "collapsed": false
   },
   "outputs": [
    {
     "data": {
      "text/plain": [
       "120"
      ]
     },
     "execution_count": 11,
     "metadata": {},
     "output_type": "execute_result"
    }
   ],
   "source": [
    "import math          # import the math module\n",
    "math.factorial(5)    # factorial of 5"
   ]
  },
  {
   "cell_type": "markdown",
   "metadata": {},
   "source": [
    "- Or, use a different import syntax and use the function name alone:"
   ]
  },
  {
   "cell_type": "code",
   "execution_count": 12,
   "metadata": {
    "collapsed": false
   },
   "outputs": [
    {
     "data": {
      "text/plain": [
       "120"
      ]
     },
     "execution_count": 12,
     "metadata": {},
     "output_type": "execute_result"
    }
   ],
   "source": [
    "from math import *\n",
    "factorial(5)        # no module name"
   ]
  },
  {
   "cell_type": "markdown",
   "metadata": {},
   "source": [
    "To find the function you need, you might need the **documentation**:\n",
    "\n",
    " - Built-in functions:  [https://docs.python.org/2/library/functions.html](https://docs.python.org/2/library/functions.html)\n",
    " - Math module:  [https://docs.python.org/2/library/math.html](https://docs.python.org/2/library/math.html)\n",
    " - Google is your friend!\n",
    " - And also the Tab key"
   ]
  },
  {
   "cell_type": "code",
   "execution_count": 13,
   "metadata": {
    "collapsed": true
   },
   "outputs": [],
   "source": [
    "#### Try the Tab method with any module you like:"
   ]
  },
  {
   "cell_type": "markdown",
   "metadata": {},
   "source": [
    "**Naming convention**\n",
    "\n",
    "- Variable names in Python should start with letters, and can contain any number of letters, digits, and  _.\n",
    "\n",
    "- Python names are case sensitive.  This applies both to variable names and to function names imported from modules.\n",
    "\n",
    "- By convention, Python variables usually start with lower-case letters.  Variables should have descriptive names; for multi-word names, separate the words by underscores.\n",
    " - Good names:  first_index, random_nums\n",
    " - One-letter names are used in certain circumstances - e.g. i, j, k when used as indexes - but are otherwise frowned upon."
   ]
  },
  {
   "cell_type": "markdown",
   "metadata": {},
   "source": [
    "**Exercise 1**\n",
    "\n",
    "In the input panel, run Python commands:\n",
    "\n",
    "1. Calculate 17 / 3\n",
    "2. Calculate 17 / -3  and compare it with the previous result.\n",
    "3. Calculate 5 to the power of 3.\n",
    "4. Import the math module and find a function to calculate the square root (the function name starts with “s”) of question 3.  Assign it to a variable (give it a name).\n",
    "5. Calculate the square of that variable; does it differ from the result of the previous question?\n"
   ]
  },
  {
   "cell_type": "code",
   "execution_count": null,
   "metadata": {
    "collapsed": false
   },
   "outputs": [],
   "source": [
    "#### Your code here\n",
    "import math\n",
    "#1\n",
    "17/3\n",
    "17/-3\n",
    "#2\n",
    "5**3\n",
    "5**2\n",
    "#3\n"
   ]
  },
  {
   "cell_type": "code",
   "execution_count": null,
   "metadata": {
    "collapsed": false
   },
   "outputs": [],
   "source": [
    "#### Your code here\n",
    "#4\n",
    "\n",
    "\n",
    "#5"
   ]
  },
  {
   "cell_type": "markdown",
   "metadata": {},
   "source": [
    "<p><a name=\"lambda\"></a></p>\n",
    "# Lambda Functions and Named Functions\n",
    "\n",
    "**Defining Functions**\n",
    "\n",
    "- You have seen how to call functions.  Now we’ll see how to define them.\n",
    "- This function takes a number x and returns $x^2 + x^3$."
   ]
  },
  {
   "cell_type": "code",
   "execution_count": 14,
   "metadata": {
    "collapsed": true
   },
   "outputs": [],
   "source": [
    "def add_two_powers(x):\n",
    "    return x**2 + x**3"
   ]
  },
  {
   "cell_type": "markdown",
   "metadata": {},
   "source": [
    "The keyword `def` introduces a function definition. It is followed by the function name and the parenthesized list of parameters. The statements in the body of the function start at the next line, and must be indented.\n",
    "\n",
    "Call the function in the usual way (after the function has been defined, whether in the same cell or a later cell):"
   ]
  },
  {
   "cell_type": "code",
   "execution_count": 15,
   "metadata": {
    "collapsed": false
   },
   "outputs": [
    {
     "data": {
      "text/plain": [
       "80"
      ]
     },
     "execution_count": 15,
     "metadata": {},
     "output_type": "execute_result"
    }
   ],
   "source": [
    "add_two_powers(4)"
   ]
  },
  {
   "cell_type": "markdown",
   "metadata": {},
   "source": [
    "There is an alternative syntax for function definitions that will turn out to be handy.  It uses the `lambda` keyword. \n",
    "\n",
    "- Back to the previous problem, we could write:"
   ]
  },
  {
   "cell_type": "code",
   "execution_count": 16,
   "metadata": {
    "collapsed": false
   },
   "outputs": [
    {
     "data": {
      "text/plain": [
       "80"
      ]
     },
     "execution_count": 16,
     "metadata": {},
     "output_type": "execute_result"
    }
   ],
   "source": [
    "Add_two_powers = lambda x: x**2 + x**3\n",
    "Add_two_powers(4)"
   ]
  },
  {
   "cell_type": "markdown",
   "metadata": {},
   "source": [
    "The two syntaxes for function definitions give the same result, but note the differences in syntax:\n",
    "\n",
    "```\n",
    "-------------------------\n",
    "def f(x):\n",
    "   return expression\n",
    "-------------------------   \n",
    "f = lambda x: expression\n",
    "-------------------------\n",
    "```\n",
    "\n"
   ]
  },
  {
   "cell_type": "markdown",
   "metadata": {},
   "source": [
    "- The first version begins with \"`def`” and has its argument in parentheses.  The second version looks like an assignment statement; it uses the keyword “`lambda`”, and the argument is not in parentheses.\n",
    "\n",
    "- The first version uses the keyword “`return`”; the second version doesn’t.\n",
    "\n",
    "To define a function with multiple arguments, just add more names to the variable list, separated by commas."
   ]
  },
  {
   "cell_type": "code",
   "execution_count": 17,
   "metadata": {
    "collapsed": false
   },
   "outputs": [
    {
     "name": "stdout",
     "output_type": "stream",
     "text": [
      "13.0\n",
      "13.0\n"
     ]
    }
   ],
   "source": [
    "import math\n",
    "\n",
    "# def notation\n",
    "def vector_length(x, y):\n",
    "    return math.sqrt(x**2 + y**2)\n",
    "\n",
    "# lambda notation\n",
    "Vector_length = lambda x, y: math.sqrt(x**2 + y**2)\n",
    "\n",
    "print vector_length(5,12)\n",
    "print Vector_length(5,12)"
   ]
  },
  {
   "cell_type": "markdown",
   "metadata": {},
   "source": [
    "**Exercise 2**: Defining functions\n",
    "\n",
    "- Define a function that takes the radius of a circle as input and return the area. (Remember the area of a circle = $\\pi r^2$.) Define it with both syntaxes, def and lambda, calling them area and Area, respectively.\n",
    " - *Note*: You need to use `math.pi`, which is defined in the math module.\n",
    " \n",
    "- Calculate the area of a circle with radius 10 using both functions."
   ]
  },
  {
   "cell_type": "code",
   "execution_count": 20,
   "metadata": {
    "collapsed": false
   },
   "outputs": [],
   "source": [
    "#### Your code here\n",
    "import math\n",
    "def area(r):\n",
    "    return r*r\n"
   ]
  },
  {
   "cell_type": "code",
   "execution_count": 21,
   "metadata": {
    "collapsed": true
   },
   "outputs": [],
   "source": [
    "#### Your code here\n",
    "Area = lambda r: r*r"
   ]
  },
  {
   "cell_type": "markdown",
   "metadata": {},
   "source": [
    "<p><a name=\"list\"></a></p>\n",
    "# List\n",
    "\n",
    "- The power of Python comes from having values other than numbers. The two other types of values we’ll use most often are lists and strings.\n",
    " - Lists are ordered collections of values. Examples:  `[1, 2, 3, 4],  [7.5, 9.0, 2]`\n",
    " - Strings are sequences of characters. Examples:  `'This class is about Python.'`  (Note that the space is considered a character.)\n",
    "\n",
    "- We will look at lists first, but we’ll use strings in our examples.  We’ll do more with strings next week. **Syntactic note**:  Strings can be written with either single or double quotes.\n",
    "\n",
    "- Lists can contain any types of values, including strings."
   ]
  },
  {
   "cell_type": "markdown",
   "metadata": {},
   "source": [
    "**List operations and functions**\n",
    "\n",
    "- You can manipulate lists in Python, meaning you can create new lists or get values out of lists.  We’ll spend some time going over the major list operations provided by Python.\n",
    "- As we’ve seen, you create a list by writing values in square brackets, separated by commas.\n",
    "  - Note that you can also have a list with no elements, written `[]`.  This list is astonishingly useful - kind of like the number zero.\n",
    "- Given two lists, use `+` to concatenate them:"
   ]
  },
  {
   "cell_type": "code",
   "execution_count": 22,
   "metadata": {
    "collapsed": false
   },
   "outputs": [
    {
     "data": {
      "text/plain": [
       "[1, 4, 9, 16, 25, 'a', 'b', 'c', 'd']"
      ]
     },
     "execution_count": 22,
     "metadata": {},
     "output_type": "execute_result"
    }
   ],
   "source": [
    "squares = [1,4,9,16,25]\n",
    "alphabet = ['a','b','c','d']\n",
    "squares + alphabet"
   ]
  },
  {
   "cell_type": "markdown",
   "metadata": {},
   "source": [
    "Find the length of a list using the `len()` function:"
   ]
  },
  {
   "cell_type": "code",
   "execution_count": 23,
   "metadata": {
    "collapsed": false
   },
   "outputs": [
    {
     "name": "stdout",
     "output_type": "stream",
     "text": [
      "5\n",
      "4\n",
      "9\n"
     ]
    }
   ],
   "source": [
    "print len(squares)\n",
    "print len(alphabet)\n",
    "print len(squares + alphabet)"
   ]
  },
  {
   "cell_type": "markdown",
   "metadata": {},
   "source": [
    "The function range gives a list of integers:"
   ]
  },
  {
   "cell_type": "code",
   "execution_count": 24,
   "metadata": {
    "collapsed": false
   },
   "outputs": [
    {
     "name": "stdout",
     "output_type": "stream",
     "text": [
      "[0, 1, 2, 3, 4, 5, 6, 7, 8, 9]\n",
      "[10, 11, 12, 13, 14]\n",
      "[15, 14, 13, 12, 11]\n"
     ]
    }
   ],
   "source": [
    "print range(10)\n",
    "print range(10, 15)\n",
    "print range(15, 10, -1)"
   ]
  },
  {
   "cell_type": "markdown",
   "metadata": {},
   "source": [
    "To create a list just one longer than an existing list - i.e. add an element to the end of a list - use concatenation:"
   ]
  },
  {
   "cell_type": "code",
   "execution_count": 25,
   "metadata": {
    "collapsed": false
   },
   "outputs": [
    {
     "data": {
      "text/plain": [
       "[1, 4, 9, 16, 25, 36]"
      ]
     },
     "execution_count": 25,
     "metadata": {},
     "output_type": "execute_result"
    }
   ],
   "source": [
    "squares + [36]"
   ]
  },
  {
   "cell_type": "markdown",
   "metadata": {},
   "source": [
    "**Note**:  This operation does not change squares.  That is, it does not “add 36 to squares,” but rather creates a new list that has the same elements as squares, plus one more."
   ]
  },
  {
   "cell_type": "code",
   "execution_count": 26,
   "metadata": {
    "collapsed": false
   },
   "outputs": [
    {
     "data": {
      "text/plain": [
       "[1, 4, 9, 16, 25]"
      ]
     },
     "execution_count": 26,
     "metadata": {},
     "output_type": "execute_result"
    }
   ],
   "source": [
    "squares"
   ]
  },
  {
   "cell_type": "markdown",
   "metadata": {},
   "source": [
    "There are several operations that apply to lists of numbers and perform operations on the entire list:\n",
    "- sum:  Take the sum of the numbers in a list\n",
    "- max, min:  Take the maximum or minimum of the numbers in a list.  (This can also apply to strings, using lexicographic order.)\n"
   ]
  },
  {
   "cell_type": "code",
   "execution_count": 27,
   "metadata": {
    "collapsed": false
   },
   "outputs": [
    {
     "name": "stdout",
     "output_type": "stream",
     "text": [
      "55\n",
      "d\n"
     ]
    }
   ],
   "source": [
    "print sum(squares)\n",
    "print max(alphabet)"
   ]
  },
  {
   "cell_type": "markdown",
   "metadata": {},
   "source": [
    " - sorted:  Sorts a list"
   ]
  },
  {
   "cell_type": "code",
   "execution_count": 28,
   "metadata": {
    "collapsed": false
   },
   "outputs": [
    {
     "data": {
      "text/plain": [
       "[2, 3, 4, 5, 6]"
      ]
     },
     "execution_count": 28,
     "metadata": {},
     "output_type": "execute_result"
    }
   ],
   "source": [
    "sorted([4, 3, 6, 2, 5])"
   ]
  },
  {
   "cell_type": "markdown",
   "metadata": {},
   "source": [
    "**Subscripting**\n",
    "\n",
    "Get a single element of a list by subscripting with a number. We number the elements from zero (which is pretty common for computer languages, but takes some getting used to). We can also subscript from the end by using negative numbers (-1 being the last element)."
   ]
  },
  {
   "cell_type": "code",
   "execution_count": 29,
   "metadata": {
    "collapsed": false
   },
   "outputs": [
    {
     "name": "stdout",
     "output_type": "stream",
     "text": [
      "16\n",
      "25\n"
     ]
    },
    {
     "ename": "IndexError",
     "evalue": "list index out of range",
     "output_type": "error",
     "traceback": [
      "\u001b[0;31m---------------------------------------------------------------------------\u001b[0m",
      "\u001b[0;31mIndexError\u001b[0m                                Traceback (most recent call last)",
      "\u001b[0;32m<ipython-input-29-18c139607fdb>\u001b[0m in \u001b[0;36m<module>\u001b[0;34m()\u001b[0m\n\u001b[1;32m      1\u001b[0m \u001b[1;32mprint\u001b[0m \u001b[0msquares\u001b[0m\u001b[1;33m[\u001b[0m\u001b[1;36m3\u001b[0m\u001b[1;33m]\u001b[0m\u001b[1;33m\u001b[0m\u001b[0m\n\u001b[1;32m      2\u001b[0m \u001b[1;32mprint\u001b[0m \u001b[0msquares\u001b[0m\u001b[1;33m[\u001b[0m\u001b[1;33m-\u001b[0m\u001b[1;36m1\u001b[0m\u001b[1;33m]\u001b[0m\u001b[1;33m\u001b[0m\u001b[0m\n\u001b[0;32m----> 3\u001b[0;31m \u001b[1;32mprint\u001b[0m \u001b[0malphabet\u001b[0m\u001b[1;33m[\u001b[0m\u001b[1;36m6\u001b[0m\u001b[1;33m]\u001b[0m   \u001b[1;31m#Be careful about this one\u001b[0m\u001b[1;33m\u001b[0m\u001b[0m\n\u001b[0m",
      "\u001b[0;31mIndexError\u001b[0m: list index out of range"
     ]
    }
   ],
   "source": [
    "print squares[3]\n",
    "print squares[-1]\n",
    "print alphabet[6]   #Be careful about this one"
   ]
  },
  {
   "cell_type": "markdown",
   "metadata": {},
   "source": [
    "Subscripting can also be used to get more than one element of a list (called a “slice” of a list).  E.g. list[m:n] returns a list that has the mth through (n-1)th element of list (again, counting from zero)."
   ]
  },
  {
   "cell_type": "code",
   "execution_count": 30,
   "metadata": {
    "collapsed": false
   },
   "outputs": [
    {
     "name": "stdout",
     "output_type": "stream",
     "text": [
      "[4, 9]\n",
      "['c', 'd']\n"
     ]
    }
   ],
   "source": [
    "print squares[1:3]\n",
    "print alphabet[2:]"
   ]
  },
  {
   "cell_type": "markdown",
   "metadata": {},
   "source": [
    "** Exercise 3** List operations\n",
    "\n",
    "- Define `x` to be the list `[1, 2, 3, 4, 3, 2, 1]`.  Do this by using range twice and concatenating the results.\n",
    "- Use subscripting to print both 2’s from x."
   ]
  },
  {
   "cell_type": "code",
   "execution_count": 31,
   "metadata": {
    "collapsed": false
   },
   "outputs": [
    {
     "data": {
      "text/plain": [
       "[1, 2, 3, 4, 5, 6, 7, 8]"
      ]
     },
     "execution_count": 31,
     "metadata": {},
     "output_type": "execute_result"
    }
   ],
   "source": [
    "#### Your code here\n",
    "[1,2,3,4,5,6,7,8]"
   ]
  },
  {
   "cell_type": "markdown",
   "metadata": {},
   "source": [
    "<p><a name=\"funcOnList\"></a></p>\n",
    "## Defining Functions on Lists\n",
    "\n",
    "- Functions are defined on lists in exactly the same way as on numbers. (We continue defining every function in both syntaxes, just for practice.)\n",
    "- A function that returns the first element of a list:"
   ]
  },
  {
   "cell_type": "code",
   "execution_count": 32,
   "metadata": {
    "collapsed": false
   },
   "outputs": [
    {
     "name": "stdout",
     "output_type": "stream",
     "text": [
      "1\n",
      "1\n"
     ]
    }
   ],
   "source": [
    "def firstelt(L):\n",
    "    return L[0]\n",
    "\n",
    "Firstelt = lambda L: L[0]\n",
    "\n",
    "print firstelt(squares)\n",
    "print Firstelt(squares)"
   ]
  },
  {
   "cell_type": "markdown",
   "metadata": {},
   "source": [
    "A function that takes a list `L` and a value `v`, and returns a list that is the same as `L` except that its first element is `v`."
   ]
  },
  {
   "cell_type": "code",
   "execution_count": 33,
   "metadata": {
    "collapsed": false,
    "scrolled": true
   },
   "outputs": [
    {
     "name": "stdout",
     "output_type": "stream",
     "text": [
      "[7, 4, 9, 16, 25]\n",
      "[7, 4, 9, 16, 25]\n"
     ]
    }
   ],
   "source": [
    "def replacefirst(L, v):\n",
    "    return [v] + L[1:]\n",
    "\n",
    "Replacefirst = lambda L, v:  [v] + L[1:]\n",
    "\n",
    "print replacefirst(squares, 7)\n",
    "print Replacefirst(squares, 7)\n",
    "\n",
    "#### What might give you problem in this function?"
   ]
  },
  {
   "cell_type": "markdown",
   "metadata": {},
   "source": [
    "A function that has an integer argument `n`, and returns a list containing `n`, `n+1`, and `n+2`:"
   ]
  },
  {
   "cell_type": "code",
   "execution_count": 34,
   "metadata": {
    "collapsed": true
   },
   "outputs": [],
   "source": [
    "def threevals(n):\n",
    "    return [n, n+1, n+2]\n",
    "\n",
    "Threevals = lambda n: [n, n+1, n+2]"
   ]
  },
  {
   "cell_type": "code",
   "execution_count": 38,
   "metadata": {
    "collapsed": false
   },
   "outputs": [
    {
     "name": "stdout",
     "output_type": "stream",
     "text": [
      "<function <lambda> at 0x0000000004956BA8>\n"
     ]
    }
   ],
   "source": [
    "print(Threevals)"
   ]
  },
  {
   "cell_type": "markdown",
   "metadata": {},
   "source": [
    "A function that takes a list `L` and returns a list containing the first, third, and fifth elements of `L`."
   ]
  },
  {
   "cell_type": "code",
   "execution_count": null,
   "metadata": {
    "collapsed": true
   },
   "outputs": [],
   "source": [
    "def list135(L):\n",
    "    return [L[0], L[2], L[4]]\n",
    "\n",
    "List135 = lambda L: [L[0], L[2], L[4]]"
   ]
  },
  {
   "cell_type": "markdown",
   "metadata": {},
   "source": [
    "**Exercise 4** List operations\n",
    "\n",
    "- Then define the following functions. Define them with both notations, changing the first letter of the name to a capital to distinguish them:\n",
    " - A function sum2 that returns the sum of the first two elements of a list.\n",
    "   ```\n",
    "   sum2([4, 7, 9, 12]) ---> 11\n",
    "   ```\n",
    " - A function that concatenates a list to itself.\n",
    "   ```\n",
    "   double_lis([4, 7, 9, 12])\n",
    "       ---> [4, 7, 9, 12, 4, 7, 9, 12]\n",
    "   ```"
   ]
  },
  {
   "cell_type": "code",
   "execution_count": null,
   "metadata": {
    "collapsed": true
   },
   "outputs": [],
   "source": [
    "#### Your code here\n",
    "def sum2(L):\n",
    "    "
   ]
  },
  {
   "cell_type": "code",
   "execution_count": null,
   "metadata": {
    "collapsed": true
   },
   "outputs": [],
   "source": [
    "#### Your code here\n",
    "Sum2 = lambda L: \n"
   ]
  },
  {
   "cell_type": "code",
   "execution_count": null,
   "metadata": {
    "collapsed": true
   },
   "outputs": [],
   "source": [
    "#### Your code here\n",
    "def double_lis(L):\n",
    "    "
   ]
  },
  {
   "cell_type": "code",
   "execution_count": null,
   "metadata": {
    "collapsed": true
   },
   "outputs": [],
   "source": [
    "#### Your code here\n",
    "Double_lis = lambda L:\n"
   ]
  },
  {
   "cell_type": "markdown",
   "metadata": {},
   "source": [
    "<p><a name=\"nList\"></a></p>\n",
    "## Nested Lists\n",
    "\n",
    "- Lists can contain any type of values, including other lists.  This can be confusing, but the principle is the same as with any other elements.\n",
    "- The list `[v1, v2, …, vn]` has n elements.  The first is `v1`, the second is `v2`, etc.  This is true no matter what the types of the elements are:\n",
    "\n",
    " - `[1, 2, 3]` has three elements.  (Try `len([1,2,3])`.)\n",
    " - `[1, 2, [3, 4, 5]]` also has three elements.\n",
    " - `[1, [\"ab\", \"cd\"], [3, 4, 5]]` also has three elements.\n",
    " - `[[], [\"ab\", \"cd\"], [3, 4, 5]]` also has three elements.\n",
    "\n",
    "The operations we’ve seen above like “`+`”, `len()` and subscripting work the same on nested lists as on non-nested lists."
   ]
  },
  {
   "cell_type": "code",
   "execution_count": null,
   "metadata": {
    "collapsed": false
   },
   "outputs": [],
   "source": [
    "x = [[], 1, ['ab', 'cd'], [3, 4, 5]]\n",
    "len(x)"
   ]
  },
  {
   "cell_type": "code",
   "execution_count": null,
   "metadata": {
    "collapsed": false
   },
   "outputs": [],
   "source": [
    "y = [['q', 'r', 's'], 2]\n",
    "len(y)"
   ]
  },
  {
   "cell_type": "code",
   "execution_count": null,
   "metadata": {
    "collapsed": false
   },
   "outputs": [],
   "source": [
    "x[2]"
   ]
  },
  {
   "cell_type": "code",
   "execution_count": null,
   "metadata": {
    "collapsed": false
   },
   "outputs": [],
   "source": [
    "x[2][0]"
   ]
  },
  {
   "cell_type": "code",
   "execution_count": null,
   "metadata": {
    "collapsed": false
   },
   "outputs": [],
   "source": [
    "x + y"
   ]
  },
  {
   "cell_type": "markdown",
   "metadata": {},
   "source": [
    "**Exercise 5** Nested lists\n",
    "\n",
    "- Write a function `firstfirst` (in both syntaxes) that takes a nested list as input and returns the first element of the first element.  (The first element must be a non-empty list).\n",
    "```\n",
    "y = [['q', 'r', 's'], 2]\n",
    "firstfirst(y) ---> 'q'\n",
    "```\n",
    "- Write a function `subscr2` that takes two arguments: a nested list and a list with two integers.  It uses those two integers as indexes into the nested list:\n",
    "```\n",
    "y = [['q', 'r', 's'], 2]\n",
    "subscr2(y, [0, 2]) ---> 's'\n",
    "```"
   ]
  },
  {
   "cell_type": "code",
   "execution_count": null,
   "metadata": {
    "collapsed": true
   },
   "outputs": [],
   "source": [
    "#### Your code here\n",
    "\n",
    "#1\n",
    "def firstfirst(L):\n"
   ]
  },
  {
   "cell_type": "code",
   "execution_count": null,
   "metadata": {
    "collapsed": true
   },
   "outputs": [],
   "source": [
    "#### Your code here\n",
    "Firstfirst = lambda L: \n"
   ]
  },
  {
   "cell_type": "code",
   "execution_count": null,
   "metadata": {
    "collapsed": true
   },
   "outputs": [],
   "source": [
    "#### Your code here\n",
    "\n",
    "#2\n",
    "def subscr2(L, indexes):\n",
    "    "
   ]
  },
  {
   "cell_type": "code",
   "execution_count": null,
   "metadata": {
    "collapsed": true
   },
   "outputs": [],
   "source": [
    "#### Your code here\n",
    "Subscr2 = lambda L, indexes: \n"
   ]
  },
  {
   "cell_type": "markdown",
   "metadata": {},
   "source": [
    "<p><a name=\"funcOper\"></a></p>\n",
    "# Functional Operators\n",
    "\n",
    "### `map`\n",
    "\n",
    "- You will often want to apply a function to all elements of a list.\n",
    "- Suppose a list `L` has elements that are all numbers, and `f` is a function on numbers.  Then `map(f, L)` is the result of applying `f` to every element of `L`."
   ]
  },
  {
   "cell_type": "code",
   "execution_count": null,
   "metadata": {
    "collapsed": false
   },
   "outputs": [],
   "source": [
    "L = [4, 9, 16]\n",
    "map(math.sqrt, L)"
   ]
  },
  {
   "cell_type": "code",
   "execution_count": null,
   "metadata": {
    "collapsed": false
   },
   "outputs": [],
   "source": [
    "map(add_two_powers, L)"
   ]
  },
  {
   "cell_type": "code",
   "execution_count": null,
   "metadata": {
    "collapsed": false
   },
   "outputs": [],
   "source": [
    "map(Add_two_powers, L)"
   ]
  },
  {
   "cell_type": "markdown",
   "metadata": {},
   "source": [
    "You can apply any one-argument function, as long as the values in the list are of the type that function expects."
   ]
  },
  {
   "cell_type": "code",
   "execution_count": null,
   "metadata": {
    "collapsed": false
   },
   "outputs": [],
   "source": [
    "nested_list1 = [[], [\"ab\", \"cd\"], [3, 4, 5]]\n",
    "map(len, nested_list1) #len applies to lists"
   ]
  },
  {
   "cell_type": "code",
   "execution_count": null,
   "metadata": {
    "collapsed": false
   },
   "outputs": [],
   "source": [
    "map(threevals, [1, 10, 20]) # three_vals applies to numbers"
   ]
  },
  {
   "cell_type": "code",
   "execution_count": null,
   "metadata": {
    "collapsed": false
   },
   "outputs": [],
   "source": [
    "# firstelt applies to lists that are of non-zero length\n",
    "map(firstelt, nested_list1)"
   ]
  },
  {
   "cell_type": "code",
   "execution_count": null,
   "metadata": {
    "collapsed": false
   },
   "outputs": [],
   "source": [
    "map(firstelt, nested_list1[1:])"
   ]
  },
  {
   "cell_type": "markdown",
   "metadata": {},
   "source": [
    "Functions can use `map` just as they can use any other function."
   ]
  },
  {
   "cell_type": "code",
   "execution_count": null,
   "metadata": {
    "collapsed": false
   },
   "outputs": [],
   "source": [
    "def get_lengths(L):\n",
    "    return map(len, L)\n",
    "\n",
    "Get_lengths = lambda L: map(len, L)\n",
    "\n",
    "print get_lengths(nested_list1)\n",
    "print Get_lengths(nested_list1)"
   ]
  },
  {
   "cell_type": "code",
   "execution_count": null,
   "metadata": {
    "collapsed": false
   },
   "outputs": [],
   "source": [
    "def get_first_elements(L):\n",
    "    return map(firstelt, L)\n",
    "\n",
    "Get_first_elements = lambda L: map(firstelt, L)\n",
    "\n",
    "print get_first_elements(nested_list1[1:])\n",
    "print Get_first_elements(nested_list1[1:])"
   ]
  },
  {
   "cell_type": "markdown",
   "metadata": {},
   "source": [
    "** Exercise 6**   `map`\n",
    "\n",
    "- `square_all` squares every element of a numeric list.  (Define `sqr` to square a number, and map it over the list.)\n",
    "```\n",
    "squaree_all([1, 2, 3]) ---> [1, 4, 9]\n",
    "```\n",
    "- `get_second` gets the second element of every list in a nested list. (Define snd to get the second element of a list, and map it.)\n",
    "```\n",
    "get_second([[1, 2, 3], [4, 5], [6, 7, 8]]) ---> [2, 5, 7]\n",
    "```\n",
    "- `tot_length` finds the total length of the lists in a nested list.\n",
    "```\n",
    "tot_length([[1, 2, 3], [4, 5], [6, 7, 8]]) ---> 8\n",
    "```"
   ]
  },
  {
   "cell_type": "code",
   "execution_count": null,
   "metadata": {
    "collapsed": true
   },
   "outputs": [],
   "source": [
    "#### Your code here\n",
    "\n",
    "#1\n",
    "def sqr(x):\n",
    "    \n",
    "\n",
    "def square_all(L):\n",
    "    \n",
    "\n",
    "Square_all = lambda L: \n"
   ]
  },
  {
   "cell_type": "code",
   "execution_count": null,
   "metadata": {
    "collapsed": true
   },
   "outputs": [],
   "source": [
    "#### Your code here\n",
    "\n",
    "#2\n",
    "snd = lambda x: \n",
    "\n",
    "\n",
    "def get_second(L):\n",
    "    \n",
    "\n",
    "Get_second = lambda L: \n"
   ]
  },
  {
   "cell_type": "code",
   "execution_count": null,
   "metadata": {
    "collapsed": true
   },
   "outputs": [],
   "source": [
    "#### Your code here\n",
    "\n",
    "#3\n",
    "def tot_length(L):\n",
    "    \n",
    "    \n",
    "Tot_length = lambda L:\n"
   ]
  },
  {
   "cell_type": "markdown",
   "metadata": {
    "collapsed": true
   },
   "source": [
    "<p><a name=\"bool\"></a></p>\n",
    "## Boolean Functions\n",
    "\n",
    "- Boolean functions return one of the truth values `True` or `False`.\n",
    "- There are built-in operators and functions that return booleans:\n",
    " - Arithmetic comparison operators: `==`, `!=`, ...\n",
    "- Conditions can be combined using `and`, `or`, and `not`:"
   ]
  },
  {
   "cell_type": "code",
   "execution_count": null,
   "metadata": {
    "collapsed": false
   },
   "outputs": [],
   "source": [
    "x = 6\n",
    "x > 5 and x < 7"
   ]
  },
  {
   "cell_type": "code",
   "execution_count": null,
   "metadata": {
    "collapsed": false
   },
   "outputs": [],
   "source": [
    "x != -1 or x >= 10"
   ]
  },
  {
   "cell_type": "markdown",
   "metadata": {},
   "source": [
    "Defining boolean functions is no different from defining any other kind of functions."
   ]
  },
  {
   "cell_type": "code",
   "execution_count": null,
   "metadata": {
    "collapsed": false
   },
   "outputs": [],
   "source": [
    "# Test whether a list is empty\n",
    "def is_empty(L):\n",
    "    return L == []\n",
    "\n",
    "Is_empty = lambda L: L == []\n",
    "\n",
    "print is_empty([])\n",
    "print Is_empty([])"
   ]
  },
  {
   "cell_type": "code",
   "execution_count": null,
   "metadata": {
    "collapsed": false
   },
   "outputs": [],
   "source": [
    "print Is_empty(squares)\n",
    "print is_empty(squares)"
   ]
  },
  {
   "cell_type": "code",
   "execution_count": 39,
   "metadata": {
    "collapsed": false
   },
   "outputs": [
    {
     "name": "stdout",
     "output_type": "stream",
     "text": [
      "True\n",
      "True\n"
     ]
    }
   ],
   "source": [
    "# Test if the first two elements of a list are the same\n",
    "def same_start(L):\n",
    "    return L[0] == L[1]\n",
    "\n",
    "Same_start = lambda L: L[0] == L[1]\n",
    "\n",
    "print same_start([1,1,2])\n",
    "print Same_start([1,1,2])"
   ]
  },
  {
   "cell_type": "code",
   "execution_count": 40,
   "metadata": {
    "collapsed": false
   },
   "outputs": [
    {
     "name": "stdout",
     "output_type": "stream",
     "text": [
      "False\n",
      "False\n"
     ]
    }
   ],
   "source": [
    "print same_start([1,2,2])\n",
    "print Same_start([1,2,2])"
   ]
  },
  {
   "cell_type": "markdown",
   "metadata": {},
   "source": [
    "<p><a name=\"filter\"></a></p>\n",
    "## `filter`\n",
    "\n",
    "Filter is used to find elements of a list that satisfy some condition. The condition is given in the form of a boolean function."
   ]
  },
  {
   "cell_type": "code",
   "execution_count": 41,
   "metadata": {
    "collapsed": false
   },
   "outputs": [
    {
     "data": {
      "text/plain": [
       "True"
      ]
     },
     "execution_count": 41,
     "metadata": {},
     "output_type": "execute_result"
    }
   ],
   "source": [
    "def non_zero(x):\n",
    "    return x != 0\n",
    "non_zero(1)"
   ]
  },
  {
   "cell_type": "code",
   "execution_count": 42,
   "metadata": {
    "collapsed": false
   },
   "outputs": [
    {
     "data": {
      "text/plain": [
       "False"
      ]
     },
     "execution_count": 42,
     "metadata": {},
     "output_type": "execute_result"
    }
   ],
   "source": [
    "non_zero(0)"
   ]
  },
  {
   "cell_type": "code",
   "execution_count": 43,
   "metadata": {
    "collapsed": false
   },
   "outputs": [
    {
     "data": {
      "text/plain": [
       "[1, 2, -3, -5]"
      ]
     },
     "execution_count": 43,
     "metadata": {},
     "output_type": "execute_result"
    }
   ],
   "source": [
    "# Get a list of all the non-zero elements of a list\n",
    "filter(non_zero, [1, 2, 0, -3, 0, -5])"
   ]
  },
  {
   "cell_type": "markdown",
   "metadata": {},
   "source": [
    "Let’s write some functions using filter."
   ]
  },
  {
   "cell_type": "code",
   "execution_count": 45,
   "metadata": {
    "collapsed": false
   },
   "outputs": [
    {
     "data": {
      "text/plain": [
       "[11, 42]"
      ]
     },
     "execution_count": 45,
     "metadata": {},
     "output_type": "execute_result"
    }
   ],
   "source": [
    "# Return the elements that are greater than ten\n",
    "def greater_than_ten(x):\n",
    "    return x > 10\n",
    "filter(greater_than_ten, [11, 2, 6, 42])"
   ]
  },
  {
   "cell_type": "code",
   "execution_count": 46,
   "metadata": {
    "collapsed": false
   },
   "outputs": [
    {
     "data": {
      "text/plain": [
       "[[1, 2, 3], [4, 5, 6]]"
      ]
     },
     "execution_count": 46,
     "metadata": {},
     "output_type": "execute_result"
    }
   ],
   "source": [
    "# Return all the non-empty lists from a nested list\n",
    "def is_not_empty(L):\n",
    "    return L != []\n",
    "filter(is_not_empty, [[], [1,2,3], [], [4,5,6], []])"
   ]
  },
  {
   "cell_type": "markdown",
   "metadata": {},
   "source": [
    "** Exercise 7 **\n",
    "\n",
    "- Define a boolean function increase2 that tests with the first two elements of a list are in increasing order.\n",
    "```\n",
    "increase2([2, 5, 4, 9]) ---> True\n",
    "increase2([2, 2, 5, 0]) ---> False\n",
    "```\n",
    "\n",
    "- Define a function increasing_lists that selects from a nested list only those lists that satisfy increase2:\n",
    "```\n",
    "increasing_lists([[2, 5, 4, 9], [2, 2], [3, 4, 5]]) \n",
    "    ---> [[2, 5, 4, 9], [3, 4, 5]]\n",
    "```"
   ]
  },
  {
   "cell_type": "code",
   "execution_count": 47,
   "metadata": {
    "collapsed": false
   },
   "outputs": [
    {
     "ename": "IndentationError",
     "evalue": "expected an indented block (<ipython-input-47-450dec08ed7a>, line 6)",
     "output_type": "error",
     "traceback": [
      "\u001b[0;36m  File \u001b[0;32m\"<ipython-input-47-450dec08ed7a>\"\u001b[0;36m, line \u001b[0;32m6\u001b[0m\n\u001b[0;31m    Increase2 = lambda L:\u001b[0m\n\u001b[0m            ^\u001b[0m\n\u001b[0;31mIndentationError\u001b[0m\u001b[0;31m:\u001b[0m expected an indented block\n"
     ]
    }
   ],
   "source": [
    "#### Your code here\n",
    "\n",
    "#1\n",
    "def increase2(L):\n",
    "\n",
    "Increase2 = lambda L: "
   ]
  },
  {
   "cell_type": "code",
   "execution_count": null,
   "metadata": {
    "collapsed": true
   },
   "outputs": [],
   "source": [
    "#### Your code here\n",
    "\n",
    "#2\n",
    "def increasing_lists(L):\n",
    "\n",
    "Increasing_lists = lambda L:"
   ]
  },
  {
   "cell_type": "markdown",
   "metadata": {},
   "source": [
    "** Anonymous functions**\n",
    "\n",
    "We have been using two notations for defining functions because they will turn out to be useful in different ways. The “`def`” notation is much more common, and we will see that it has some real advantages. But the “`lambda`” notation has one big advantage we can use right now:\n",
    " - Lambda functions can be used without assigning them to variables - that is, without naming them.\n",
    " ```\n",
    " map(lambda x: x**2 + x**3, [2,3,4]) ---> [12, 36, 80]\n",
    " filter(lambda x: x != 0, [1, 2, 0, 3, 0, 6]) ---> [1, 2, 3, 6]\n",
    " ```\n",
    "\n",
    "When lambda functions are defined this way, they are called \"anonymous functions\". As we use `map`, `filter`, and other similar operations more and more, anonymous functions will be really handy."
   ]
  },
  {
   "cell_type": "markdown",
   "metadata": {},
   "source": [
    "** Exercise 8 **\n",
    "\n",
    "Rewrite functions get_second (from exercise 6) and increasing_lists (from exercise 7), using anonymous functions.  That is, they should have the form:\n",
    "\n",
    "```\n",
    "def get_second2(L):\n",
    "   return map(anonymous_function, L)\n",
    "\n",
    "get_second2([[1, 2, 3], [4, 5], [6, 7, 8]]) ---> [2, 5, 7]\n",
    "\n",
    "```\n",
    "\n",
    "\n",
    "```\n",
    "def increasing_lists2(L):\n",
    "   return filter(anonymous_boolean_function, L)\n",
    "\n",
    "increasing_lists2([[2, 5, 4, 9], [2, 2], [3, 4, 5]]) ---> [[2, 5, 4, 9], [3, 4, 5]]\n",
    "```"
   ]
  },
  {
   "cell_type": "code",
   "execution_count": null,
   "metadata": {
    "collapsed": false
   },
   "outputs": [],
   "source": [
    "#### Your code here\n",
    "\n",
    "def get_second2(L):\n",
    "    "
   ]
  },
  {
   "cell_type": "code",
   "execution_count": null,
   "metadata": {
    "collapsed": true
   },
   "outputs": [],
   "source": [
    "#### Your code here\n",
    "\n",
    "def increasing_lists2(L):\n",
    "    "
   ]
  },
  {
   "cell_type": "markdown",
   "metadata": {},
   "source": [
    "<p><a name=\"sol\"></a></p>\n",
    "## Solutions"
   ]
  },
  {
   "cell_type": "markdown",
   "metadata": {},
   "source": [
    "**Exercise 1**"
   ]
  },
  {
   "cell_type": "code",
   "execution_count": 2,
   "metadata": {
    "collapsed": false
   },
   "outputs": [
    {
     "name": "stdout",
     "output_type": "stream",
     "text": [
      "5\n",
      "-6\n",
      "125\n",
      "125.0\n"
     ]
    }
   ],
   "source": [
    "#### Your code here\n",
    "import math\n",
    "#1\n",
    "print 17/3\n",
    "\n",
    "#2\n",
    "print 17/-3\n",
    "\n",
    "#3\n",
    "print 5**3\n",
    "\n",
    "#4\n",
    "my_sqrt = math.sqrt(5**3)\n",
    "\n",
    "#5\n",
    "print my_sqrt**2"
   ]
  },
  {
   "cell_type": "markdown",
   "metadata": {},
   "source": [
    "**Exercise 2**"
   ]
  },
  {
   "cell_type": "code",
   "execution_count": null,
   "metadata": {
    "collapsed": true
   },
   "outputs": [],
   "source": [
    "import math\n",
    "def area(r):\n",
    "    return math.pi * r**2\n",
    "\n",
    "Area = lambda r: math.pi * r**2"
   ]
  },
  {
   "cell_type": "markdown",
   "metadata": {},
   "source": [
    "**Exercise 3**"
   ]
  },
  {
   "cell_type": "code",
   "execution_count": 49,
   "metadata": {
    "collapsed": false
   },
   "outputs": [
    {
     "data": {
      "text/plain": [
       "[1, 2, 3, 4, 3, 2, 1]"
      ]
     },
     "execution_count": 49,
     "metadata": {},
     "output_type": "execute_result"
    }
   ],
   "source": [
    "range(1,5)+range(3,0,-1)"
   ]
  },
  {
   "cell_type": "code",
   "execution_count": 48,
   "metadata": {
    "collapsed": false
   },
   "outputs": [
    {
     "name": "stdout",
     "output_type": "stream",
     "text": [
      "2 , 2\n"
     ]
    }
   ],
   "source": [
    "x = range(1, 5) + range(3, 0, -1)\n",
    "print x[1], ',', x[-2]"
   ]
  },
  {
   "cell_type": "markdown",
   "metadata": {},
   "source": [
    "**Exercise 4**"
   ]
  },
  {
   "cell_type": "code",
   "execution_count": 50,
   "metadata": {
    "collapsed": true
   },
   "outputs": [],
   "source": [
    "def sum2(L):\n",
    "    return L[0] + L[1]\n",
    "\n",
    "Sum2 = lambda L: L[0] + L[1]\n",
    "\n",
    "def double_lis(L):\n",
    "    return L + L\n",
    "\n",
    "Double_lis = lambda L: L + L"
   ]
  },
  {
   "cell_type": "markdown",
   "metadata": {},
   "source": [
    "**Exercise 5**"
   ]
  },
  {
   "cell_type": "code",
   "execution_count": 51,
   "metadata": {
    "collapsed": true
   },
   "outputs": [],
   "source": [
    "#1\n",
    "def firstfirst(L):\n",
    "    return L[0][0]\n",
    "\n",
    "Firstfirst = lambda L: L[0][0]\n",
    "\n",
    "#2\n",
    "def subscr2(L, indexes):\n",
    "    return L[indexes[0]][indexes[1]]\n",
    "\n",
    "Subscr2 = lambda L, indexes: L[indexes[0]][indexes[1]]"
   ]
  },
  {
   "cell_type": "markdown",
   "metadata": {},
   "source": [
    "**Exercise 6**"
   ]
  },
  {
   "cell_type": "code",
   "execution_count": 52,
   "metadata": {
    "collapsed": true
   },
   "outputs": [],
   "source": [
    "#1\n",
    "def sqr(x):\n",
    "    return x**2\n",
    "def square_all(L):\n",
    "    return map(sqr, L)\n",
    "Square_all = lambda L: map(sqr, L)\n",
    "\n",
    "#2\n",
    "snd = lambda x: x[1]\n",
    "def get_second(L):\n",
    "    return map(snd, L)\n",
    "Get_second = lambda L: map(snd, L)\n",
    "\n",
    "#3\n",
    "def tot_length(L):\n",
    "    return sum(map(len, L))\n",
    "Tot_length = lambda L: sum(map(len, L))"
   ]
  },
  {
   "cell_type": "markdown",
   "metadata": {},
   "source": [
    "**Exercise 7**"
   ]
  },
  {
   "cell_type": "code",
   "execution_count": null,
   "metadata": {
    "collapsed": true
   },
   "outputs": [],
   "source": [
    "#1\n",
    "def increase2(L):\n",
    "    return L[0] < L[1]\n",
    "Increase2 = lambda L: L[0] < L[1]\n",
    "\n",
    "#2\n",
    "def increasing_lists(L):\n",
    "    return filter(increase2, L)\n",
    "Increasing_lists = lambda L:  filter(increase2, L)\n"
   ]
  },
  {
   "cell_type": "markdown",
   "metadata": {},
   "source": [
    "**Exercise 8**"
   ]
  },
  {
   "cell_type": "code",
   "execution_count": null,
   "metadata": {
    "collapsed": true
   },
   "outputs": [],
   "source": [
    "def get_second2(L):\n",
    "    return map(lambda l: l[1], L)\n",
    "\n",
    "\n",
    "def increasing_lists2(L):\n",
    "    return filter(lambda l: l[0] < l[1], L)"
   ]
  },
  {
   "cell_type": "code",
   "execution_count": null,
   "metadata": {
    "collapsed": true
   },
   "outputs": [],
   "source": []
  }
 ],
 "metadata": {
  "anaconda-cloud": {},
  "kernelspec": {
   "display_name": "Python 2",
   "language": "python",
   "name": "python2"
  },
  "language_info": {
   "codemirror_mode": {
    "name": "ipython",
    "version": 2
   },
   "file_extension": ".py",
   "mimetype": "text/x-python",
   "name": "python",
   "nbconvert_exporter": "python",
   "pygments_lexer": "ipython2",
   "version": "2.7.12"
  }
 },
 "nbformat": 4,
 "nbformat_minor": 0
}
